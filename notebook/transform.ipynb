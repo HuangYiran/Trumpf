{
 "cells": [
  {
   "cell_type": "code",
   "execution_count": 1,
   "metadata": {},
   "outputs": [],
   "source": [
    "import tarfile\n",
    "import os\n",
    "import sys\n",
    "import logging\n",
    "import re\n",
    "import numpy as np\n",
    "import pandas as pd\n",
    "pd.set_option('display.float_format', lambda x: '{:.3f}'.format(x))\n",
    "from shapely.geometry import LineString, Polygon"
   ]
  },
  {
   "cell_type": "code",
   "execution_count": 2,
   "metadata": {},
   "outputs": [],
   "source": [
    "def extract(tar_path, target_path = 'tmp', mode = 'r:gz', logger = None):\n",
    "    \"\"\"\n",
    "    input:\n",
    "        tar_path string:\n",
    "            path of tar file\n",
    "        target_path string:\n",
    "            path of target file\n",
    "        mode string:\n",
    "            mode of tar \n",
    "    \"\"\"\n",
    "    try:\n",
    "        tar = tarfile.open(tar_path, mode)\n",
    "        file_names = tar.getnames()\n",
    "        # make sure that only two files contain\n",
    "        #assert(len(file_names) == 2)\n",
    "        # make sure the name of the files is right\n",
    "        #TODO\n",
    "        confs = []\n",
    "        results = []\n",
    "        if logger:\n",
    "            logger.info('start extracting data from file: '+tar_path)\n",
    "        file_names = [li for li in file_names if li.split('.')[-1] == 'txt']\n",
    "        # logging start info\n",
    "        for file_name in file_names:\n",
    "            f = tar.extractfile(file_name)\n",
    "            if 'configuration' in file_name:\n",
    "                # use the configuration filename to get the result filename\n",
    "                result_filename = file_name[:-18]+'.txt'\n",
    "                # make sure the result file exist\n",
    "                if result_filename not in file_names:\n",
    "                    if logger:\n",
    "                        logger.info('result file not found')\n",
    "                    continue\n",
    "                # extract the configuration file \n",
    "                f = tar.extractfile(file_name)\n",
    "                conf = extract_configuration(file_name, f)\n",
    "                # extract the result file\n",
    "                f = tar.extractfile(result_filename)\n",
    "                result = extract_result(file_name, f)\n",
    "                # if mismatch \n",
    "                if len(conf) == len(result):\n",
    "                    confs.append(conf)\n",
    "                    results.append(result)\n",
    "                elif len(conf) > len(result):\n",
    "                    conf = conf[:len(result)]\n",
    "                    confs.append(conf)\n",
    "                    results.append(result)\n",
    "                else:\n",
    "                    if logger:\n",
    "                        logger.error('Data mismatch in:'+ file_name)\n",
    "                    else:\n",
    "                        print('Data mismatch in:'+ file_name)\n",
    "        tar.close()\n",
    "        # combine conf and result\n",
    "        conf = pd.concat(confs, axis = 0)\n",
    "        result = pd.concat(results, axis = 0)\n",
    "        target = pd.concat([conf, result], axis = 1)\n",
    "        # extract new features from the features we get above\n",
    "        target['Area'] = target['Shapely Polygon'].map(lambda x: x.area)\n",
    "        target['Length'] = target['Shapely Polygon'].map(lambda x: x.length)\n",
    "        target['Left down'] = target.apply(get_left_down, axis = 1)\n",
    "        target['right down'] = target.apply(get_right_down, axis = 1)\n",
    "        if logger:\n",
    "            logger.info('end extracting')\n",
    "        return target\n",
    "    except:\n",
    "        raise\n",
    "\n",
    "def extract_configuration(filename, f):\n",
    "    \"\"\"\n",
    "    input:\n",
    "        filename string:\n",
    "            the name of the file, only works when the filename doesn't contain other number\n",
    "        f file object:\n",
    "            the file object\n",
    "    \"\"\"\n",
    "    conf_columns = ['Jobid', 'Rot', 'List of Coordinates', 'Shapely Polygon']\n",
    "    conf = pd.DataFrame(columns = conf_columns)\n",
    "    for row_index, line in enumerate(f):\n",
    "        l = line.decode(\"utf-8\").strip()\n",
    "        l = re.sub(r'\\s+', ' ', l)\n",
    "        ws = l.split(' ')\n",
    "        assert(len(ws)>=2)\n",
    "        conf.loc[row_index, 'Jobid'] = re.sub('[a-zA-Z/.]', '', filename)+str(row_index)\n",
    "        conf.loc[row_index, 'Rot'] = ws[0]\n",
    "        tmp_coor = fix_coordinate(ws[1:])\n",
    "        conf.loc[row_index, 'List of Coordinates'] = tmp_coor\n",
    "        conf.loc[row_index, 'Shapely Polygon'] = Polygon(tmp_coor)\n",
    "    return conf\n",
    "\n",
    "def extract_result(filename, f):\n",
    "    \"\"\"\n",
    "    input:\n",
    "        filename string:\n",
    "            the name of the file\n",
    "        f file object:\n",
    "            the file object    \n",
    "    \"\"\"\n",
    "    result_columns = ['Metric1', 'Metric2', 'Metric3', 'Metric4']\n",
    "    result = pd.DataFrame(columns = result_columns)\n",
    "    for row_index, line in enumerate(f):\n",
    "        l = line.decode(\"utf-8\").strip()\n",
    "        l = re.sub(r'\\s+', ' ', l)\n",
    "        ws = l.split(' ')\n",
    "        if len(ws) != 6:\n",
    "            print(ws)\n",
    "        result.loc[row_index, 'Metric1'] = ws[2]\n",
    "        result.loc[row_index, 'Metric2'] = ws[3]\n",
    "        result.loc[row_index, 'Metric3'] = ws[4]\n",
    "        result.loc[row_index, 'Metric4'] = ws[5]\n",
    "    return result\n",
    "\n",
    "def fix_coordinate(ws, logger = None):\n",
    "    out = []\n",
    "    out2 = []\n",
    "    for w in ws:\n",
    "        if w.count('.') == 1:\n",
    "            out.append(float(w))\n",
    "        elif w.count('.') > 1:\n",
    "            # fix the problem\n",
    "            tmp = []\n",
    "            get_first(w, tmp)\n",
    "            out.extend(tmp)\n",
    "        else:\n",
    "            # error??\n",
    "            if logger:\n",
    "                logger.error('coordinate error')\n",
    "    if len(out)%2 != 0:\n",
    "        logger.error('coordinate error')\n",
    "    for i in range(0,len(out),2):\n",
    "        out2.append((out[i],out[i+1]))\n",
    "    return out2\n",
    "\n",
    "def get_left_down(line):\n",
    "    \"\"\"\n",
    "    !Attention: (0,0) is on left up side\n",
    "    input:\n",
    "      line: a line of the dataset\n",
    "    attribute:\n",
    "      sp, type of polygon\n",
    "      rotation, type of int\n",
    "        grad of rotation\n",
    "      x, type of int\n",
    "        right-up x coordinate after rotation\n",
    "      y, type of int\n",
    "        right-up y coordinate after rotation\n",
    "    \"\"\"\n",
    "    sp = line['Shapely Polygon']\n",
    "    rotation = line['Rot']\n",
    "    x = float(line['Metric2'])\n",
    "    y = float(line['Metric3'])\n",
    "    _, _, l1, l2 = sp.bounds\n",
    "    if rotation == '0.00':\n",
    "        return (x + l1, y)\n",
    "    elif rotation == '90.00':\n",
    "        return (x + l2, y)\n",
    "    else:\n",
    "        print('false rotation inputted!!!' + str(rotation))\n",
    "        return 0, 0\n",
    "# ------------------------------------------------------    \n",
    "def get_right_down(line):\n",
    "    \"\"\"\n",
    "    !Attention: (0,0) is on left up side\n",
    "    input:\n",
    "      line: a line of the dataset\n",
    "    attribute:\n",
    "      sp, type of polygon\n",
    "      rotation, type of int\n",
    "        grad of rotation\n",
    "      x, type of int\n",
    "        right-up x coordinate after rotation\n",
    "      y, type of int\n",
    "        right-up y coordinate after rotation\n",
    "    \"\"\"\n",
    "    sp = line['Shapely Polygon']\n",
    "    rotation = line['Rot']\n",
    "    x = float(line['Metric2'])\n",
    "    y = float(line['Metric3'])\n",
    "    _, _, l1, l2 = sp.bounds\n",
    "    if rotation == '0.00':\n",
    "        return (x + l1, y+l2)\n",
    "    elif rotation == '90.00':\n",
    "        return (x + l2, y+l1)\n",
    "    else:\n",
    "        print('false rotation inputted!!!' + str(rotation))\n",
    "        return 0, 0\n",
    "    \n",
    "# ------------------------------------------------------"
   ]
  },
  {
   "cell_type": "code",
   "execution_count": 3,
   "metadata": {
    "scrolled": false
   },
   "outputs": [],
   "source": [
    "def get_first(li, out):\n",
    "    if li.count('.') > 1:\n",
    "        add = li.index('.')+3\n",
    "        out.append(float(li[:add]))\n",
    "        get_first(li[add:], out)\n",
    "    else:\n",
    "        out.append(float(li))     "
   ]
  },
  {
   "cell_type": "code",
   "execution_count": null,
   "metadata": {},
   "outputs": [],
   "source": []
  },
  {
   "cell_type": "markdown",
   "metadata": {},
   "source": [
    "## main"
   ]
  },
  {
   "cell_type": "code",
   "execution_count": 7,
   "metadata": {},
   "outputs": [],
   "source": [
    "# set logging\n",
    "logging.basicConfig(level = logging.INFO, format = '%(asctime)s - %(name)s - %(levelname)s - %(message)s')\n",
    "handler = logging.FileHandler('E:/Teco/Trumpf/look/log/extract_data.log')\n",
    "handler.setLevel(logging.INFO)\n",
    "formater = logging.Formatter('%(asctime)s - %(name)s - %(levelname)s - %(message)s')\n",
    "handler.setFormatter(formater)\n",
    "logger = logging.getLogger(__name__)\n",
    "logger.addHandler(handler)\n",
    "#logger.info('This is a log info')"
   ]
  },
  {
   "cell_type": "code",
   "execution_count": 8,
   "metadata": {},
   "outputs": [],
   "source": [
    "# read filename\n",
    "filenames = os.listdir('E:/Teco/Trumpf/look/data/')\n",
    "filenames = [li for li in filenames if li.split('.')[-1] == 'tgz']\n",
    "preffix = 'E:/Teco/Trumpf/look/data/'\n",
    "filenames = [preffix+li for li in filenames]"
   ]
  },
  {
   "cell_type": "code",
   "execution_count": 10,
   "metadata": {
    "scrolled": true
   },
   "outputs": [
    {
     "name": "stderr",
     "output_type": "stream",
     "text": [
      "2019-02-07 13:56:44,460 - __main__ - INFO - start extracting data from file: E:/Teco/Trumpf/look/data/92600-2000_results.tgz\n",
      "2019-02-07 13:56:47,926 - __main__ - INFO - end extracting\n",
      "2019-02-07 13:56:47,954 - __main__ - INFO - start extracting data from file: E:/Teco/Trumpf/look/data/92600-2010_results.tgz\n",
      "2019-02-07 13:56:51,686 - __main__ - INFO - end extracting\n",
      "2019-02-07 13:56:51,718 - __main__ - INFO - start extracting data from file: E:/Teco/Trumpf/look/data/92600-2011_results.tgz\n",
      "2019-02-07 13:56:55,347 - __main__ - INFO - end extracting\n",
      "2019-02-07 13:56:55,364 - __main__ - INFO - start extracting data from file: E:/Teco/Trumpf/look/data/92600-2015_results.tgz\n",
      "2019-02-07 13:56:58,484 - __main__ - INFO - end extracting\n",
      "2019-02-07 13:56:58,506 - __main__ - INFO - start extracting data from file: E:/Teco/Trumpf/look/data/92600-2023_results.tgz\n",
      "2019-02-07 13:57:02,188 - __main__ - INFO - end extracting\n",
      "2019-02-07 13:57:02,212 - __main__ - INFO - start extracting data from file: E:/Teco/Trumpf/look/data/92600-2025_results.tgz\n",
      "2019-02-07 13:57:05,766 - __main__ - INFO - end extracting\n",
      "2019-02-07 13:57:05,787 - __main__ - INFO - start extracting data from file: E:/Teco/Trumpf/look/data/92600-2026_results.tgz\n",
      "2019-02-07 13:57:09,249 - __main__ - INFO - end extracting\n",
      "2019-02-07 13:57:09,266 - __main__ - INFO - start extracting data from file: E:/Teco/Trumpf/look/data/92600-2028_results.tgz\n",
      "2019-02-07 13:57:12,837 - __main__ - INFO - end extracting\n",
      "2019-02-07 13:57:12,851 - __main__ - INFO - start extracting data from file: E:/Teco/Trumpf/look/data/92600-2031_results.tgz\n",
      "2019-02-07 13:57:16,273 - __main__ - INFO - end extracting\n",
      "2019-02-07 13:57:16,299 - __main__ - INFO - start extracting data from file: E:/Teco/Trumpf/look/data/92600-2042_results.tgz\n",
      "2019-02-07 13:57:19,670 - __main__ - INFO - end extracting\n",
      "2019-02-07 13:57:19,690 - __main__ - INFO - start extracting data from file: E:/Teco/Trumpf/look/data/92600-2046_results.tgz\n",
      "2019-02-07 13:57:23,578 - __main__ - INFO - end extracting\n",
      "2019-02-07 13:57:23,623 - __main__ - INFO - start extracting data from file: E:/Teco/Trumpf/look/data/92600-3053_results.tgz\n",
      "2019-02-07 13:57:27,089 - __main__ - INFO - end extracting\n",
      "2019-02-07 13:57:27,121 - __main__ - INFO - start extracting data from file: E:/Teco/Trumpf/look/data/92600-3054_results.tgz\n",
      "2019-02-07 13:57:30,721 - __main__ - INFO - end extracting\n",
      "2019-02-07 13:57:30,735 - __main__ - INFO - start extracting data from file: E:/Teco/Trumpf/look/data/92600-3055_results.tgz\n",
      "2019-02-07 13:57:34,284 - __main__ - INFO - end extracting\n",
      "2019-02-07 13:57:34,305 - __main__ - INFO - start extracting data from file: E:/Teco/Trumpf/look/data/92600-3056_results.tgz\n",
      "2019-02-07 13:57:37,694 - __main__ - INFO - end extracting\n",
      "2019-02-07 13:57:37,708 - __main__ - INFO - start extracting data from file: E:/Teco/Trumpf/look/data/92600-3057_results.tgz\n",
      "2019-02-07 13:57:41,385 - __main__ - INFO - end extracting\n",
      "2019-02-07 13:57:41,412 - __main__ - INFO - start extracting data from file: E:/Teco/Trumpf/look/data/92600-3058_results.tgz\n",
      "2019-02-07 13:57:45,298 - __main__ - INFO - end extracting\n",
      "2019-02-07 13:57:45,313 - __main__ - INFO - start extracting data from file: E:/Teco/Trumpf/look/data/92600-3059_results.tgz\n",
      "2019-02-07 13:57:49,147 - __main__ - INFO - end extracting\n",
      "2019-02-07 13:57:49,163 - __main__ - INFO - start extracting data from file: E:/Teco/Trumpf/look/data/92600-3060_results.tgz\n",
      "2019-02-07 13:57:52,809 - __main__ - INFO - end extracting\n",
      "2019-02-07 13:57:52,829 - __main__ - INFO - start extracting data from file: E:/Teco/Trumpf/look/data/92600-3062_results.tgz\n",
      "2019-02-07 13:57:56,567 - __main__ - INFO - end extracting\n",
      "2019-02-07 13:57:56,591 - __main__ - INFO - start extracting data from file: E:/Teco/Trumpf/look/data/92600-3063_results.tgz\n",
      "2019-02-07 13:58:00,452 - __main__ - INFO - end extracting\n",
      "2019-02-07 13:58:00,477 - __main__ - INFO - start extracting data from file: E:/Teco/Trumpf/look/data/92600-3127_results.tgz\n",
      "2019-02-07 13:58:04,205 - __main__ - INFO - end extracting\n",
      "2019-02-07 13:58:04,235 - __main__ - INFO - start extracting data from file: E:/Teco/Trumpf/look/data/92600-3130_results.tgz\n",
      "2019-02-07 13:58:07,988 - __main__ - INFO - end extracting\n",
      "2019-02-07 13:58:08,018 - __main__ - INFO - start extracting data from file: E:/Teco/Trumpf/look/data/92600-3132_results.tgz\n",
      "2019-02-07 13:58:11,569 - __main__ - INFO - end extracting\n",
      "2019-02-07 13:58:11,605 - __main__ - INFO - start extracting data from file: E:/Teco/Trumpf/look/data/92600-3135_results.tgz\n",
      "2019-02-07 13:58:15,434 - __main__ - INFO - end extracting\n",
      "2019-02-07 13:58:15,448 - __main__ - INFO - start extracting data from file: E:/Teco/Trumpf/look/data/92600-3136_results.tgz\n",
      "2019-02-07 13:58:19,505 - __main__ - INFO - end extracting\n",
      "2019-02-07 13:58:19,519 - __main__ - INFO - start extracting data from file: E:/Teco/Trumpf/look/data/92600-3137_results.tgz\n",
      "2019-02-07 13:58:23,307 - __main__ - INFO - end extracting\n",
      "2019-02-07 13:58:23,323 - __main__ - INFO - start extracting data from file: E:/Teco/Trumpf/look/data/92600-3138_results.tgz\n",
      "2019-02-07 13:58:27,026 - __main__ - INFO - end extracting\n",
      "2019-02-07 13:58:27,053 - __main__ - INFO - start extracting data from file: E:/Teco/Trumpf/look/data/92600-3139_results.tgz\n",
      "2019-02-07 13:58:30,715 - __main__ - INFO - end extracting\n",
      "2019-02-07 13:58:30,729 - __main__ - INFO - start extracting data from file: E:/Teco/Trumpf/look/data/92600-3151_results.tgz\n",
      "2019-02-07 13:58:34,462 - __main__ - INFO - end extracting\n",
      "2019-02-07 13:58:34,477 - __main__ - INFO - start extracting data from file: E:/Teco/Trumpf/look/data/92600-3155_results.tgz\n",
      "2019-02-07 13:58:38,141 - __main__ - INFO - end extracting\n",
      "2019-02-07 13:58:38,155 - __main__ - INFO - start extracting data from file: E:/Teco/Trumpf/look/data/92600-3157_results.tgz\n",
      "2019-02-07 13:58:41,770 - __main__ - INFO - end extracting\n",
      "2019-02-07 13:58:41,787 - __main__ - INFO - start extracting data from file: E:/Teco/Trumpf/look/data/92600-3158_results.tgz\n",
      "2019-02-07 13:58:45,339 - __main__ - INFO - end extracting\n",
      "2019-02-07 13:58:45,353 - __main__ - INFO - start extracting data from file: E:/Teco/Trumpf/look/data/92600-3161_results.tgz\n",
      "2019-02-07 13:58:48,879 - __main__ - INFO - end extracting\n",
      "2019-02-07 13:58:48,894 - __main__ - INFO - start extracting data from file: E:/Teco/Trumpf/look/data/92600-3162_results.tgz\n",
      "2019-02-07 13:58:53,213 - __main__ - INFO - end extracting\n",
      "2019-02-07 13:58:53,227 - __main__ - INFO - start extracting data from file: E:/Teco/Trumpf/look/data/92600-3163_results.tgz\n",
      "2019-02-07 13:58:56,781 - __main__ - INFO - end extracting\n",
      "2019-02-07 13:58:56,793 - __main__ - INFO - start extracting data from file: E:/Teco/Trumpf/look/data/92600-3170_results.tgz\n",
      "2019-02-07 13:59:00,078 - __main__ - INFO - end extracting\n",
      "2019-02-07 13:59:00,094 - __main__ - INFO - start extracting data from file: E:/Teco/Trumpf/look/data/92600-3195_results.tgz\n",
      "2019-02-07 13:59:03,667 - __main__ - INFO - end extracting\n",
      "2019-02-07 13:59:03,681 - __main__ - INFO - start extracting data from file: E:/Teco/Trumpf/look/data/92600-4907_results.tgz\n",
      "2019-02-07 13:59:07,419 - __main__ - INFO - end extracting\n",
      "2019-02-07 13:59:07,432 - __main__ - INFO - start extracting data from file: E:/Teco/Trumpf/look/data/92600-4911_results.tgz\n",
      "2019-02-07 13:59:11,180 - __main__ - INFO - end extracting\n",
      "2019-02-07 13:59:11,190 - __main__ - INFO - start extracting data from file: E:/Teco/Trumpf/look/data/92600-4917_results.tgz\n",
      "2019-02-07 13:59:14,746 - __main__ - INFO - end extracting\n",
      "2019-02-07 13:59:14,760 - __main__ - INFO - start extracting data from file: E:/Teco/Trumpf/look/data/92600-4924_results.tgz\n",
      "2019-02-07 13:59:18,439 - __main__ - INFO - end extracting\n",
      "2019-02-07 13:59:18,454 - __main__ - INFO - start extracting data from file: E:/Teco/Trumpf/look/data/92600-4929_results.tgz\n",
      "2019-02-07 13:59:22,089 - __main__ - INFO - end extracting\n",
      "2019-02-07 13:59:22,108 - __main__ - INFO - start extracting data from file: E:/Teco/Trumpf/look/data/92600-4943_results.tgz\n",
      "2019-02-07 13:59:25,653 - __main__ - INFO - end extracting\n",
      "2019-02-07 13:59:25,669 - __main__ - INFO - start extracting data from file: E:/Teco/Trumpf/look/data/92600-4945_results.tgz\n"
     ]
    },
    {
     "name": "stderr",
     "output_type": "stream",
     "text": [
      "2019-02-07 13:59:29,462 - __main__ - INFO - end extracting\n",
      "2019-02-07 13:59:29,482 - __main__ - INFO - start extracting data from file: E:/Teco/Trumpf/look/data/92600-4946_results.tgz\n",
      "2019-02-07 13:59:33,125 - __main__ - INFO - end extracting\n",
      "2019-02-07 13:59:33,143 - __main__ - INFO - start extracting data from file: E:/Teco/Trumpf/look/data/92600-4947_results.tgz\n",
      "2019-02-07 13:59:36,511 - __main__ - INFO - end extracting\n",
      "2019-02-07 13:59:36,520 - __main__ - INFO - start extracting data from file: E:/Teco/Trumpf/look/data/92600-4950_results.tgz\n",
      "2019-02-07 13:59:40,392 - __main__ - INFO - end extracting\n",
      "2019-02-07 13:59:40,407 - __main__ - INFO - start extracting data from file: E:/Teco/Trumpf/look/data/92600-4951_results.tgz\n",
      "2019-02-07 13:59:44,031 - __main__ - INFO - end extracting\n",
      "2019-02-07 13:59:44,051 - __main__ - INFO - start extracting data from file: E:/Teco/Trumpf/look/data/92600-4952_results.tgz\n",
      "2019-02-07 13:59:47,651 - __main__ - INFO - end extracting\n",
      "2019-02-07 13:59:47,674 - __main__ - INFO - start extracting data from file: E:/Teco/Trumpf/look/data/92600-4953_results.tgz\n",
      "2019-02-07 13:59:51,205 - __main__ - INFO - end extracting\n",
      "2019-02-07 13:59:51,219 - __main__ - INFO - start extracting data from file: E:/Teco/Trumpf/look/data/92600-4956_results.tgz\n",
      "2019-02-07 13:59:54,967 - __main__ - INFO - end extracting\n",
      "2019-02-07 13:59:54,980 - __main__ - INFO - start extracting data from file: E:/Teco/Trumpf/look/data/92600-5475_results.tgz\n",
      "2019-02-07 13:59:58,409 - __main__ - INFO - end extracting\n",
      "2019-02-07 13:59:58,418 - __main__ - INFO - start extracting data from file: E:/Teco/Trumpf/look/data/92600-5478_results.tgz\n",
      "2019-02-07 14:00:02,252 - __main__ - INFO - end extracting\n",
      "2019-02-07 14:00:02,276 - __main__ - INFO - start extracting data from file: E:/Teco/Trumpf/look/data/92600-5479_results.tgz\n",
      "2019-02-07 14:00:06,017 - __main__ - INFO - end extracting\n",
      "2019-02-07 14:00:06,032 - __main__ - INFO - start extracting data from file: E:/Teco/Trumpf/look/data/92600-5496_results.tgz\n",
      "2019-02-07 14:00:09,926 - __main__ - INFO - end extracting\n",
      "2019-02-07 14:00:09,940 - __main__ - INFO - start extracting data from file: E:/Teco/Trumpf/look/data/92600-5498_results.tgz\n",
      "2019-02-07 14:00:13,372 - __main__ - INFO - end extracting\n",
      "2019-02-07 14:00:13,389 - __main__ - INFO - start extracting data from file: E:/Teco/Trumpf/look/data/92600-5508_results.tgz\n",
      "2019-02-07 14:00:16,823 - __main__ - INFO - end extracting\n",
      "2019-02-07 14:00:16,858 - __main__ - INFO - start extracting data from file: E:/Teco/Trumpf/look/data/92600-5512_results.tgz\n",
      "2019-02-07 14:00:20,398 - __main__ - INFO - end extracting\n",
      "2019-02-07 14:00:20,426 - __main__ - INFO - start extracting data from file: E:/Teco/Trumpf/look/data/92600-5515_results.tgz\n",
      "2019-02-07 14:00:23,777 - __main__ - INFO - end extracting\n",
      "2019-02-07 14:00:23,794 - __main__ - INFO - start extracting data from file: E:/Teco/Trumpf/look/data/92600-5517_results.tgz\n",
      "2019-02-07 14:00:27,489 - __main__ - INFO - end extracting\n",
      "2019-02-07 14:00:27,504 - __main__ - INFO - start extracting data from file: E:/Teco/Trumpf/look/data/92600-5521_results.tgz\n",
      "2019-02-07 14:00:31,144 - __main__ - INFO - end extracting\n",
      "2019-02-07 14:00:31,172 - __main__ - INFO - start extracting data from file: E:/Teco/Trumpf/look/data/92600-5523_results.tgz\n",
      "2019-02-07 14:00:34,815 - __main__ - INFO - end extracting\n",
      "2019-02-07 14:00:34,839 - __main__ - INFO - start extracting data from file: E:/Teco/Trumpf/look/data/92600-5524_results.tgz\n",
      "2019-02-07 14:00:38,740 - __main__ - INFO - end extracting\n",
      "2019-02-07 14:00:38,766 - __main__ - INFO - start extracting data from file: E:/Teco/Trumpf/look/data/92600-5525_results.tgz\n",
      "2019-02-07 14:00:42,328 - __main__ - INFO - end extracting\n",
      "2019-02-07 14:00:42,334 - __main__ - INFO - start extracting data from file: E:/Teco/Trumpf/look/data/92600-5526_results.tgz\n",
      "2019-02-07 14:00:45,999 - __main__ - INFO - end extracting\n",
      "2019-02-07 14:00:46,014 - __main__ - INFO - start extracting data from file: E:/Teco/Trumpf/look/data/92600-5527_results.tgz\n",
      "2019-02-07 14:00:49,631 - __main__ - INFO - end extracting\n",
      "2019-02-07 14:00:49,646 - __main__ - INFO - start extracting data from file: E:/Teco/Trumpf/look/data/92600-5528_results.tgz\n",
      "2019-02-07 14:00:53,284 - __main__ - INFO - end extracting\n",
      "2019-02-07 14:00:53,293 - __main__ - INFO - start extracting data from file: E:/Teco/Trumpf/look/data/92600-5530_results.tgz\n",
      "2019-02-07 14:00:56,708 - __main__ - INFO - end extracting\n",
      "2019-02-07 14:00:56,717 - __main__ - INFO - start extracting data from file: E:/Teco/Trumpf/look/data/92600-6105_results.tgz\n",
      "2019-02-07 14:01:00,392 - __main__ - INFO - end extracting\n",
      "2019-02-07 14:01:00,406 - __main__ - INFO - start extracting data from file: E:/Teco/Trumpf/look/data/92600-6106_results.tgz\n",
      "2019-02-07 14:01:03,884 - __main__ - INFO - end extracting\n",
      "2019-02-07 14:01:03,899 - __main__ - INFO - start extracting data from file: E:/Teco/Trumpf/look/data/92600-6109_results.tgz\n",
      "2019-02-07 14:01:07,507 - __main__ - INFO - end extracting\n",
      "2019-02-07 14:01:07,523 - __main__ - INFO - start extracting data from file: E:/Teco/Trumpf/look/data/92600-6122_results.tgz\n",
      "2019-02-07 14:01:11,318 - __main__ - INFO - end extracting\n",
      "2019-02-07 14:01:11,335 - __main__ - INFO - start extracting data from file: E:/Teco/Trumpf/look/data/92600-6129_results.tgz\n",
      "2019-02-07 14:01:14,912 - __main__ - INFO - end extracting\n",
      "2019-02-07 14:01:14,925 - __main__ - INFO - start extracting data from file: E:/Teco/Trumpf/look/data/92600-6130_results.tgz\n",
      "2019-02-07 14:01:18,516 - __main__ - INFO - end extracting\n",
      "2019-02-07 14:01:18,526 - __main__ - INFO - start extracting data from file: E:/Teco/Trumpf/look/data/92600-6133_results.tgz\n",
      "2019-02-07 14:01:22,155 - __main__ - INFO - end extracting\n",
      "2019-02-07 14:01:22,163 - __main__ - INFO - start extracting data from file: E:/Teco/Trumpf/look/data/92600-6134_results.tgz\n",
      "2019-02-07 14:01:25,859 - __main__ - INFO - end extracting\n",
      "2019-02-07 14:01:25,876 - __main__ - INFO - start extracting data from file: E:/Teco/Trumpf/look/data/92600-6135_results.tgz\n",
      "2019-02-07 14:01:29,639 - __main__ - INFO - end extracting\n",
      "2019-02-07 14:01:29,656 - __main__ - INFO - start extracting data from file: E:/Teco/Trumpf/look/data/92600-6136_results.tgz\n",
      "2019-02-07 14:01:33,372 - __main__ - INFO - end extracting\n",
      "2019-02-07 14:01:33,379 - __main__ - INFO - start extracting data from file: E:/Teco/Trumpf/look/data/92600-6137_results.tgz\n",
      "2019-02-07 14:01:36,890 - __main__ - INFO - end extracting\n",
      "2019-02-07 14:01:36,900 - __main__ - INFO - start extracting data from file: E:/Teco/Trumpf/look/data/92600-6138_results.tgz\n",
      "2019-02-07 14:01:40,443 - __main__ - INFO - end extracting\n",
      "2019-02-07 14:01:40,461 - __main__ - INFO - start extracting data from file: E:/Teco/Trumpf/look/data/92600-6139_results.tgz\n",
      "2019-02-07 14:01:44,297 - __main__ - INFO - end extracting\n",
      "2019-02-07 14:01:44,317 - __main__ - INFO - start extracting data from file: E:/Teco/Trumpf/look/data/92600-6143_results.tgz\n",
      "2019-02-07 14:01:47,999 - __main__ - INFO - end extracting\n",
      "2019-02-07 14:01:48,012 - __main__ - INFO - start extracting data from file: E:/Teco/Trumpf/look/data/92600-6150_results.tgz\n",
      "2019-02-07 14:01:51,608 - __main__ - INFO - end extracting\n",
      "2019-02-07 14:01:51,618 - __main__ - INFO - start extracting data from file: E:/Teco/Trumpf/look/data/92600-6182_results.tgz\n",
      "2019-02-07 14:01:55,346 - __main__ - INFO - end extracting\n",
      "2019-02-07 14:01:55,356 - __main__ - INFO - start extracting data from file: E:/Teco/Trumpf/look/data/92600-6678_results.tgz\n",
      "2019-02-07 14:01:59,000 - __main__ - INFO - end extracting\n",
      "2019-02-07 14:01:59,006 - __main__ - INFO - start extracting data from file: E:/Teco/Trumpf/look/data/92600-6684_results.tgz\n",
      "2019-02-07 14:02:02,359 - __main__ - INFO - end extracting\n",
      "2019-02-07 14:02:02,376 - __main__ - INFO - start extracting data from file: E:/Teco/Trumpf/look/data/92600-6694_results.tgz\n",
      "2019-02-07 14:02:05,991 - __main__ - INFO - end extracting\n",
      "2019-02-07 14:02:06,005 - __main__ - INFO - start extracting data from file: E:/Teco/Trumpf/look/data/92600-6699_results.tgz\n",
      "2019-02-07 14:02:09,618 - __main__ - INFO - end extracting\n",
      "2019-02-07 14:02:09,630 - __main__ - INFO - start extracting data from file: E:/Teco/Trumpf/look/data/92600-6701_results.tgz\n"
     ]
    },
    {
     "name": "stderr",
     "output_type": "stream",
     "text": [
      "2019-02-07 14:02:13,194 - __main__ - INFO - end extracting\n",
      "2019-02-07 14:02:13,212 - __main__ - INFO - start extracting data from file: E:/Teco/Trumpf/look/data/92600-6702_results.tgz\n",
      "2019-02-07 14:02:16,848 - __main__ - INFO - end extracting\n",
      "2019-02-07 14:02:16,865 - __main__ - INFO - start extracting data from file: E:/Teco/Trumpf/look/data/92600-6704_results.tgz\n",
      "2019-02-07 14:02:20,502 - __main__ - INFO - end extracting\n",
      "2019-02-07 14:02:20,520 - __main__ - INFO - start extracting data from file: E:/Teco/Trumpf/look/data/92600-6705_results.tgz\n",
      "2019-02-07 14:02:24,392 - __main__ - INFO - end extracting\n",
      "2019-02-07 14:02:24,397 - __main__ - INFO - start extracting data from file: E:/Teco/Trumpf/look/data/92600-6706_results.tgz\n",
      "2019-02-07 14:02:28,016 - __main__ - INFO - end extracting\n",
      "2019-02-07 14:02:28,025 - __main__ - INFO - start extracting data from file: E:/Teco/Trumpf/look/data/92600-6707_results.tgz\n",
      "2019-02-07 14:02:31,545 - __main__ - INFO - end extracting\n",
      "2019-02-07 14:02:31,560 - __main__ - INFO - start extracting data from file: E:/Teco/Trumpf/look/data/92600-6712_results.tgz\n",
      "2019-02-07 14:02:35,258 - __main__ - INFO - end extracting\n",
      "2019-02-07 14:02:35,273 - __main__ - INFO - start extracting data from file: E:/Teco/Trumpf/look/data/92600-6713_results.tgz\n",
      "2019-02-07 14:02:39,052 - __main__ - INFO - end extracting\n",
      "2019-02-07 14:02:39,063 - __main__ - INFO - start extracting data from file: E:/Teco/Trumpf/look/data/92600-6716_results.tgz\n",
      "2019-02-07 14:02:42,786 - __main__ - INFO - end extracting\n",
      "2019-02-07 14:02:42,796 - __main__ - INFO - start extracting data from file: E:/Teco/Trumpf/look/data/92600-6717_results.tgz\n",
      "2019-02-07 14:02:46,398 - __main__ - INFO - end extracting\n",
      "2019-02-07 14:02:46,414 - __main__ - INFO - start extracting data from file: E:/Teco/Trumpf/look/data/92600-6719_results.tgz\n",
      "2019-02-07 14:02:49,933 - __main__ - INFO - end extracting\n",
      "2019-02-07 14:02:49,948 - __main__ - INFO - start extracting data from file: E:/Teco/Trumpf/look/data/92600-6721_results.tgz\n",
      "2019-02-07 14:02:53,636 - __main__ - INFO - end extracting\n",
      "2019-02-07 14:02:53,650 - __main__ - INFO - start extracting data from file: E:/Teco/Trumpf/look/data/92600-6722_results.tgz\n",
      "2019-02-07 14:02:57,183 - __main__ - INFO - end extracting\n",
      "2019-02-07 14:02:57,202 - __main__ - INFO - start extracting data from file: E:/Teco/Trumpf/look/data/92600-714_results.tgz\n",
      "2019-02-07 14:03:01,123 - __main__ - INFO - end extracting\n",
      "2019-02-07 14:03:01,138 - __main__ - INFO - start extracting data from file: E:/Teco/Trumpf/look/data/92600-715_results.tgz\n",
      "2019-02-07 14:03:04,598 - __main__ - INFO - end extracting\n",
      "2019-02-07 14:03:04,610 - __main__ - INFO - start extracting data from file: E:/Teco/Trumpf/look/data/92600-720_results.tgz\n",
      "2019-02-07 14:03:08,111 - __main__ - INFO - end extracting\n",
      "2019-02-07 14:03:08,129 - __main__ - INFO - start extracting data from file: E:/Teco/Trumpf/look/data/92600-721_results.tgz\n",
      "2019-02-07 14:03:11,568 - __main__ - INFO - end extracting\n",
      "2019-02-07 14:03:11,586 - __main__ - INFO - start extracting data from file: E:/Teco/Trumpf/look/data/92600-722_results.tgz\n",
      "2019-02-07 14:03:15,222 - __main__ - INFO - end extracting\n",
      "2019-02-07 14:03:15,235 - __main__ - INFO - start extracting data from file: E:/Teco/Trumpf/look/data/92600-723_results.tgz\n",
      "2019-02-07 14:03:18,896 - __main__ - INFO - end extracting\n",
      "2019-02-07 14:03:18,906 - __main__ - INFO - start extracting data from file: E:/Teco/Trumpf/look/data/92600-724_results.tgz\n",
      "2019-02-07 14:03:22,696 - __main__ - INFO - end extracting\n",
      "2019-02-07 14:03:22,712 - __main__ - INFO - start extracting data from file: E:/Teco/Trumpf/look/data/92600-726_results.tgz\n",
      "2019-02-07 14:03:26,457 - __main__ - INFO - end extracting\n",
      "2019-02-07 14:03:26,472 - __main__ - INFO - start extracting data from file: E:/Teco/Trumpf/look/data/92600-727_results.tgz\n",
      "2019-02-07 14:03:29,947 - __main__ - INFO - end extracting\n",
      "2019-02-07 14:03:29,963 - __main__ - INFO - start extracting data from file: E:/Teco/Trumpf/look/data/92600-728_results.tgz\n",
      "2019-02-07 14:03:33,466 - __main__ - INFO - end extracting\n",
      "2019-02-07 14:03:33,484 - __main__ - INFO - start extracting data from file: E:/Teco/Trumpf/look/data/92600-734_results.tgz\n",
      "2019-02-07 14:03:37,050 - __main__ - INFO - end extracting\n",
      "2019-02-07 14:03:37,071 - __main__ - INFO - start extracting data from file: E:/Teco/Trumpf/look/data/92600-737_results.tgz\n",
      "2019-02-07 14:03:40,597 - __main__ - INFO - end extracting\n",
      "2019-02-07 14:03:40,608 - __main__ - INFO - start extracting data from file: E:/Teco/Trumpf/look/data/92600-739_results.tgz\n",
      "2019-02-07 14:03:44,200 - __main__ - INFO - end extracting\n",
      "2019-02-07 14:03:44,211 - __main__ - INFO - start extracting data from file: E:/Teco/Trumpf/look/data/92600-7459_results.tgz\n",
      "2019-02-07 14:03:47,628 - __main__ - INFO - end extracting\n",
      "2019-02-07 14:03:47,645 - __main__ - INFO - start extracting data from file: E:/Teco/Trumpf/look/data/92600-7460_results.tgz\n",
      "2019-02-07 14:03:51,451 - __main__ - INFO - end extracting\n",
      "2019-02-07 14:03:51,477 - __main__ - INFO - start extracting data from file: E:/Teco/Trumpf/look/data/92600-7463_results.tgz\n",
      "2019-02-07 14:03:55,039 - __main__ - INFO - end extracting\n",
      "2019-02-07 14:03:55,055 - __main__ - INFO - start extracting data from file: E:/Teco/Trumpf/look/data/92600-7467_results.tgz\n",
      "2019-02-07 14:03:58,575 - __main__ - INFO - end extracting\n",
      "2019-02-07 14:03:58,591 - __main__ - INFO - start extracting data from file: E:/Teco/Trumpf/look/data/92600-7478_results.tgz\n",
      "2019-02-07 14:04:02,117 - __main__ - INFO - end extracting\n",
      "2019-02-07 14:04:02,131 - __main__ - INFO - start extracting data from file: E:/Teco/Trumpf/look/data/92600-747_results.tgz\n",
      "2019-02-07 14:04:05,451 - __main__ - INFO - end extracting\n",
      "2019-02-07 14:04:05,471 - __main__ - INFO - start extracting data from file: E:/Teco/Trumpf/look/data/92600-7483_results.tgz\n",
      "2019-02-07 14:04:08,972 - __main__ - INFO - end extracting\n",
      "2019-02-07 14:04:08,988 - __main__ - INFO - start extracting data from file: E:/Teco/Trumpf/look/data/92600-7488_results.tgz\n",
      "2019-02-07 14:04:12,593 - __main__ - INFO - end extracting\n",
      "2019-02-07 14:04:12,603 - __main__ - INFO - start extracting data from file: E:/Teco/Trumpf/look/data/92600-748_results.tgz\n",
      "2019-02-07 14:04:16,047 - __main__ - INFO - end extracting\n",
      "2019-02-07 14:04:16,062 - __main__ - INFO - start extracting data from file: E:/Teco/Trumpf/look/data/92600-7496_results.tgz\n",
      "2019-02-07 14:04:19,766 - __main__ - INFO - end extracting\n",
      "2019-02-07 14:04:19,773 - __main__ - INFO - start extracting data from file: E:/Teco/Trumpf/look/data/92600-7497_results.tgz\n",
      "2019-02-07 14:04:23,313 - __main__ - INFO - end extracting\n",
      "2019-02-07 14:04:23,321 - __main__ - INFO - start extracting data from file: E:/Teco/Trumpf/look/data/92600-7499_results.tgz\n",
      "2019-02-07 14:04:26,978 - __main__ - INFO - end extracting\n",
      "2019-02-07 14:04:26,984 - __main__ - INFO - start extracting data from file: E:/Teco/Trumpf/look/data/92600-7500_results.tgz\n",
      "2019-02-07 14:04:30,595 - __main__ - INFO - end extracting\n",
      "2019-02-07 14:04:30,613 - __main__ - INFO - start extracting data from file: E:/Teco/Trumpf/look/data/92600-7501_results.tgz\n",
      "2019-02-07 14:04:34,224 - __main__ - INFO - end extracting\n",
      "2019-02-07 14:04:34,238 - __main__ - INFO - start extracting data from file: E:/Teco/Trumpf/look/data/92600-7502_results.tgz\n",
      "2019-02-07 14:04:37,686 - __main__ - INFO - end extracting\n",
      "2019-02-07 14:04:37,703 - __main__ - INFO - start extracting data from file: E:/Teco/Trumpf/look/data/92600-7504_results.tgz\n",
      "2019-02-07 14:04:41,197 - __main__ - INFO - end extracting\n",
      "2019-02-07 14:04:41,211 - __main__ - INFO - start extracting data from file: E:/Teco/Trumpf/look/data/92600-7505_results.tgz\n",
      "2019-02-07 14:04:44,931 - __main__ - INFO - end extracting\n",
      "2019-02-07 14:04:44,951 - __main__ - INFO - start extracting data from file: E:/Teco/Trumpf/look/data/92600-754_results.tgz\n",
      "2019-02-07 14:04:48,654 - __main__ - INFO - end extracting\n",
      "2019-02-07 14:04:48,662 - __main__ - INFO - start extracting data from file: E:/Teco/Trumpf/look/data/92600-8454_results.tgz\n",
      "2019-02-07 14:04:52,313 - __main__ - INFO - end extracting\n",
      "2019-02-07 14:04:52,323 - __main__ - INFO - start extracting data from file: E:/Teco/Trumpf/look/data/92600-8461_results.tgz\n"
     ]
    },
    {
     "name": "stderr",
     "output_type": "stream",
     "text": [
      "2019-02-07 14:04:55,939 - __main__ - INFO - end extracting\n",
      "2019-02-07 14:04:55,944 - __main__ - INFO - start extracting data from file: E:/Teco/Trumpf/look/data/92600-8462_results.tgz\n",
      "2019-02-07 14:04:59,641 - __main__ - INFO - end extracting\n",
      "2019-02-07 14:04:59,650 - __main__ - INFO - start extracting data from file: E:/Teco/Trumpf/look/data/92600-8487_results.tgz\n",
      "2019-02-07 14:05:03,424 - __main__ - INFO - end extracting\n",
      "2019-02-07 14:05:03,433 - __main__ - INFO - start extracting data from file: E:/Teco/Trumpf/look/data/92600-8489_results.tgz\n",
      "2019-02-07 14:05:07,299 - __main__ - INFO - end extracting\n",
      "2019-02-07 14:05:07,310 - __main__ - INFO - start extracting data from file: E:/Teco/Trumpf/look/data/92600-8490_results.tgz\n",
      "2019-02-07 14:05:10,953 - __main__ - INFO - end extracting\n",
      "2019-02-07 14:05:10,964 - __main__ - INFO - start extracting data from file: E:/Teco/Trumpf/look/data/92600-8491_results.tgz\n",
      "2019-02-07 14:05:14,328 - __main__ - INFO - end extracting\n",
      "2019-02-07 14:05:14,341 - __main__ - INFO - start extracting data from file: E:/Teco/Trumpf/look/data/92600-8493_results.tgz\n",
      "2019-02-07 14:05:17,997 - __main__ - INFO - end extracting\n",
      "2019-02-07 14:05:18,010 - __main__ - INFO - start extracting data from file: E:/Teco/Trumpf/look/data/92600-8495_results.tgz\n",
      "2019-02-07 14:05:21,725 - __main__ - INFO - end extracting\n",
      "2019-02-07 14:05:21,732 - __main__ - INFO - start extracting data from file: E:/Teco/Trumpf/look/data/92600-8496_results.tgz\n",
      "2019-02-07 14:05:25,401 - __main__ - INFO - end extracting\n",
      "2019-02-07 14:05:25,417 - __main__ - INFO - start extracting data from file: E:/Teco/Trumpf/look/data/92600-8498_results.tgz\n",
      "2019-02-07 14:05:29,061 - __main__ - INFO - end extracting\n",
      "2019-02-07 14:05:29,075 - __main__ - INFO - start extracting data from file: E:/Teco/Trumpf/look/data/92600-8500_results.tgz\n",
      "2019-02-07 14:05:32,816 - __main__ - INFO - end extracting\n",
      "2019-02-07 14:05:32,828 - __main__ - INFO - start extracting data from file: E:/Teco/Trumpf/look/data/92600-8501_results.tgz\n",
      "2019-02-07 14:05:36,390 - __main__ - INFO - end extracting\n",
      "2019-02-07 14:05:36,398 - __main__ - INFO - start extracting data from file: E:/Teco/Trumpf/look/data/92600-8503_results.tgz\n",
      "2019-02-07 14:05:39,992 - __main__ - INFO - end extracting\n",
      "2019-02-07 14:05:39,998 - __main__ - INFO - start extracting data from file: E:/Teco/Trumpf/look/data/92600-8504_results.tgz\n",
      "2019-02-07 14:05:43,795 - __main__ - INFO - end extracting\n",
      "2019-02-07 14:05:43,807 - __main__ - INFO - start extracting data from file: E:/Teco/Trumpf/look/data/92600-9242_results.tgz\n",
      "2019-02-07 14:05:47,348 - __main__ - INFO - end extracting\n",
      "2019-02-07 14:05:47,361 - __main__ - INFO - start extracting data from file: E:/Teco/Trumpf/look/data/92600-9243_results.tgz\n",
      "2019-02-07 14:05:50,871 - __main__ - INFO - end extracting\n",
      "2019-02-07 14:05:50,887 - __main__ - INFO - start extracting data from file: E:/Teco/Trumpf/look/data/92600-9248_results.tgz\n",
      "2019-02-07 14:05:54,719 - __main__ - INFO - end extracting\n",
      "2019-02-07 14:05:54,732 - __main__ - INFO - start extracting data from file: E:/Teco/Trumpf/look/data/92600-9249_results.tgz\n",
      "2019-02-07 14:05:58,312 - __main__ - INFO - end extracting\n",
      "2019-02-07 14:05:58,320 - __main__ - INFO - start extracting data from file: E:/Teco/Trumpf/look/data/92600-9255_results.tgz\n",
      "2019-02-07 14:06:01,652 - __main__ - INFO - end extracting\n",
      "2019-02-07 14:06:01,665 - __main__ - INFO - start extracting data from file: E:/Teco/Trumpf/look/data/92600-9286_results.tgz\n",
      "2019-02-07 14:06:05,180 - __main__ - INFO - end extracting\n",
      "2019-02-07 14:06:05,186 - __main__ - INFO - start extracting data from file: E:/Teco/Trumpf/look/data/92600-9287_results.tgz\n",
      "2019-02-07 14:06:08,718 - __main__ - INFO - end extracting\n",
      "2019-02-07 14:06:08,734 - __main__ - INFO - start extracting data from file: E:/Teco/Trumpf/look/data/92600-9290_results.tgz\n",
      "2019-02-07 14:06:12,404 - __main__ - INFO - end extracting\n",
      "2019-02-07 14:06:12,426 - __main__ - INFO - start extracting data from file: E:/Teco/Trumpf/look/data/92600-9293_results.tgz\n",
      "2019-02-07 14:06:16,303 - __main__ - INFO - end extracting\n",
      "2019-02-07 14:06:16,323 - __main__ - INFO - start extracting data from file: E:/Teco/Trumpf/look/data/92600-9295_results.tgz\n",
      "2019-02-07 14:06:20,133 - __main__ - INFO - end extracting\n",
      "2019-02-07 14:06:20,152 - __main__ - INFO - start extracting data from file: E:/Teco/Trumpf/look/data/92600-9296_results.tgz\n",
      "2019-02-07 14:06:23,809 - __main__ - INFO - end extracting\n",
      "2019-02-07 14:06:23,828 - __main__ - INFO - start extracting data from file: E:/Teco/Trumpf/look/data/92600-9297_results.tgz\n",
      "2019-02-07 14:06:27,294 - __main__ - INFO - end extracting\n",
      "2019-02-07 14:06:27,306 - __main__ - INFO - start extracting data from file: E:/Teco/Trumpf/look/data/92600-9302_results.tgz\n",
      "2019-02-07 14:06:31,060 - __main__ - INFO - end extracting\n",
      "2019-02-07 14:06:31,076 - __main__ - INFO - start extracting data from file: E:/Teco/Trumpf/look/data/92600-9924_results.tgz\n",
      "2019-02-07 14:06:34,612 - __main__ - INFO - end extracting\n",
      "2019-02-07 14:06:34,624 - __main__ - INFO - start extracting data from file: E:/Teco/Trumpf/look/data/92600-9925_results.tgz\n",
      "2019-02-07 14:06:38,065 - __main__ - INFO - end extracting\n",
      "2019-02-07 14:06:38,085 - __main__ - INFO - start extracting data from file: E:/Teco/Trumpf/look/data/92600-9929_results.tgz\n",
      "2019-02-07 14:06:41,518 - __main__ - INFO - end extracting\n",
      "2019-02-07 14:06:41,537 - __main__ - INFO - start extracting data from file: E:/Teco/Trumpf/look/data/92600-9937_results.tgz\n",
      "2019-02-07 14:06:44,990 - __main__ - INFO - end extracting\n",
      "2019-02-07 14:06:45,006 - __main__ - INFO - start extracting data from file: E:/Teco/Trumpf/look/data/92600-9938_results.tgz\n",
      "2019-02-07 14:06:48,684 - __main__ - INFO - end extracting\n",
      "2019-02-07 14:06:48,701 - __main__ - INFO - start extracting data from file: E:/Teco/Trumpf/look/data/92600-9940_results.tgz\n",
      "2019-02-07 14:06:52,167 - __main__ - INFO - end extracting\n",
      "2019-02-07 14:06:52,173 - __main__ - INFO - start extracting data from file: E:/Teco/Trumpf/look/data/92600-9942_results.tgz\n",
      "2019-02-07 14:06:55,604 - __main__ - INFO - end extracting\n",
      "2019-02-07 14:06:55,616 - __main__ - INFO - start extracting data from file: E:/Teco/Trumpf/look/data/92600-9943_results.tgz\n",
      "2019-02-07 14:06:59,215 - __main__ - INFO - end extracting\n",
      "2019-02-07 14:06:59,229 - __main__ - INFO - start extracting data from file: E:/Teco/Trumpf/look/data/92600-9944_results.tgz\n",
      "2019-02-07 14:07:02,812 - __main__ - INFO - end extracting\n",
      "2019-02-07 14:07:02,829 - __main__ - INFO - start extracting data from file: E:/Teco/Trumpf/look/data/92600-9945_results.tgz\n",
      "2019-02-07 14:07:06,524 - __main__ - INFO - end extracting\n",
      "2019-02-07 14:07:06,534 - __main__ - INFO - start extracting data from file: E:/Teco/Trumpf/look/data/92600-9946_results.tgz\n",
      "2019-02-07 14:07:10,039 - __main__ - INFO - end extracting\n",
      "2019-02-07 14:07:10,054 - __main__ - INFO - start extracting data from file: E:/Teco/Trumpf/look/data/92600-9950_results.tgz\n",
      "2019-02-07 14:07:13,647 - __main__ - INFO - end extracting\n",
      "2019-02-07 14:07:13,655 - __main__ - INFO - start extracting data from file: E:/Teco/Trumpf/look/data/92600-9951_results.tgz\n",
      "2019-02-07 14:07:17,288 - __main__ - INFO - end extracting\n",
      "2019-02-07 14:07:17,303 - __main__ - INFO - start extracting data from file: E:/Teco/Trumpf/look/data/92600-9955_results.tgz\n",
      "2019-02-07 14:07:20,768 - __main__ - INFO - end extracting\n",
      "2019-02-07 14:07:20,786 - __main__ - INFO - start extracting data from file: E:/Teco/Trumpf/look/data/92600-9956_results.tgz\n",
      "2019-02-07 14:07:24,257 - __main__ - INFO - end extracting\n",
      "2019-02-07 14:07:24,272 - __main__ - INFO - start extracting data from file: E:/Teco/Trumpf/look/data/92600-9958_results.tgz\n",
      "2019-02-07 14:07:27,841 - __main__ - INFO - end extracting\n",
      "2019-02-07 14:07:27,850 - __main__ - INFO - start extracting data from file: E:/Teco/Trumpf/look/data/92600-9960_results.tgz\n",
      "2019-02-07 14:07:31,503 - __main__ - INFO - end extracting\n",
      "2019-02-07 14:07:31,516 - __main__ - INFO - start extracting data from file: E:/Teco/Trumpf/look/data/92600-9961_results.tgz\n",
      "2019-02-07 14:07:35,074 - __main__ - INFO - end extracting\n",
      "2019-02-07 14:07:35,087 - __main__ - INFO - start extracting data from file: E:/Teco/Trumpf/look/data/92600-9968_results.tgz\n"
     ]
    },
    {
     "name": "stderr",
     "output_type": "stream",
     "text": [
      "2019-02-07 14:07:38,778 - __main__ - INFO - end extracting\n",
      "2019-02-07 14:07:38,790 - __main__ - INFO - start extracting data from file: E:/Teco/Trumpf/look/data/92600-9973_results.tgz\n",
      "2019-02-07 14:07:42,362 - __main__ - INFO - end extracting\n",
      "2019-02-07 14:07:42,376 - __main__ - INFO - start extracting data from file: E:/Teco/Trumpf/look/data/92600-9975_results.tgz\n",
      "2019-02-07 14:07:46,111 - __main__ - INFO - end extracting\n",
      "2019-02-07 14:07:46,124 - __main__ - INFO - start extracting data from file: E:/Teco/Trumpf/look/data/92600-9977_results.tgz\n",
      "2019-02-07 14:07:49,871 - __main__ - INFO - end extracting\n",
      "2019-02-07 14:07:49,878 - __main__ - INFO - start extracting data from file: E:/Teco/Trumpf/look/data/92600-9978_results.tgz\n",
      "2019-02-07 14:07:53,451 - __main__ - INFO - end extracting\n",
      "2019-02-07 14:07:53,468 - __main__ - INFO - start extracting data from file: E:/Teco/Trumpf/look/data/92600-9979_results.tgz\n",
      "2019-02-07 14:07:56,946 - __main__ - INFO - end extracting\n",
      "2019-02-07 14:07:56,960 - __main__ - INFO - start extracting data from file: E:/Teco/Trumpf/look/data/92600-9980_results.tgz\n",
      "2019-02-07 14:08:00,410 - __main__ - INFO - end extracting\n",
      "2019-02-07 14:08:00,415 - __main__ - INFO - start extracting data from file: E:/Teco/Trumpf/look/data/92600-9983_results.tgz\n",
      "2019-02-07 14:08:04,079 - __main__ - INFO - end extracting\n",
      "2019-02-07 14:08:04,094 - __main__ - INFO - start extracting data from file: E:/Teco/Trumpf/look/data/92600-9984_results.tgz\n",
      "2019-02-07 14:08:07,836 - __main__ - INFO - end extracting\n",
      "2019-02-07 14:08:07,845 - __main__ - INFO - start extracting data from file: E:/Teco/Trumpf/look/data/92600-9986_results.tgz\n",
      "2019-02-07 14:08:11,563 - __main__ - INFO - end extracting\n",
      "2019-02-07 14:08:11,579 - __main__ - INFO - start extracting data from file: E:/Teco/Trumpf/look/data/92600-9990_results.tgz\n",
      "2019-02-07 14:08:15,270 - __main__ - INFO - end extracting\n",
      "2019-02-07 14:08:15,281 - __main__ - INFO - start extracting data from file: E:/Teco/Trumpf/look/data/92600-9993_results.tgz\n",
      "2019-02-07 14:08:19,233 - __main__ - INFO - end extracting\n",
      "2019-02-07 14:08:19,244 - __main__ - INFO - start extracting data from file: E:/Teco/Trumpf/look/data/92600-9994_results.tgz\n",
      "2019-02-07 14:08:22,981 - __main__ - INFO - end extracting\n",
      "2019-02-07 14:08:22,994 - __main__ - INFO - start extracting data from file: E:/Teco/Trumpf/look/data/92600-9998_results.tgz\n",
      "2019-02-07 14:08:26,689 - __main__ - INFO - end extracting\n"
     ]
    }
   ],
   "source": [
    "# extract file\n",
    "data = []\n",
    "for filename in filenames:\n",
    "    data.append(extract(filename, logger = logger))\n",
    "data = pd.concat(data, axis = 0)"
   ]
  },
  {
   "cell_type": "code",
   "execution_count": 11,
   "metadata": {},
   "outputs": [],
   "source": [
    "# ------------------------------------------------------\n",
    "score = [0,0,0,3.5,4,0.5]\n",
    "def score_mapping(x):\n",
    "    x= int(x)\n",
    "    return score[x]\n",
    "\n",
    "# ------------------------------------------------------"
   ]
  },
  {
   "cell_type": "code",
   "execution_count": 12,
   "metadata": {
    "scrolled": true
   },
   "outputs": [],
   "source": [
    "#------------------------------------------------------\n",
    "data[\"score\"] = data[\"Metric4\"].astype(float).map(score_mapping)\n",
    "#------------------------------------------------------"
   ]
  },
  {
   "cell_type": "code",
   "execution_count": 13,
   "metadata": {},
   "outputs": [],
   "source": [
    "data.to_pickle('sample.tmp')"
   ]
  },
  {
   "cell_type": "code",
   "execution_count": 18,
   "metadata": {},
   "outputs": [],
   "source": [
    "# save file\n",
    "data[:1000000].to_pickle('../sample.tmp')"
   ]
  },
  {
   "cell_type": "code",
   "execution_count": 19,
   "metadata": {},
   "outputs": [],
   "source": [
    "data[1000000:2000000].to_pickle('../sample1.tmp')"
   ]
  },
  {
   "cell_type": "code",
   "execution_count": 20,
   "metadata": {},
   "outputs": [],
   "source": [
    "data[2000000:3000000].to_pickle('../sample2.tmp')"
   ]
  },
  {
   "cell_type": "code",
   "execution_count": 21,
   "metadata": {},
   "outputs": [],
   "source": [
    "data[3000000:4000000].to_pickle('../sample3.tmp')"
   ]
  },
  {
   "cell_type": "code",
   "execution_count": 22,
   "metadata": {},
   "outputs": [],
   "source": [
    "data[4000000:].to_pickle('../sample4.tmp')"
   ]
  },
  {
   "cell_type": "code",
   "execution_count": 85,
   "metadata": {},
   "outputs": [
    {
     "data": {
      "text/plain": [
       "(0.0, 0.0, 103.6, 123.3)"
      ]
     },
     "execution_count": 85,
     "metadata": {},
     "output_type": "execute_result"
    }
   ],
   "source": [
    "data.iloc[1, 3].bounds"
   ]
  },
  {
   "cell_type": "code",
   "execution_count": 13,
   "metadata": {
    "scrolled": true
   },
   "outputs": [
    {
     "data": {
      "text/plain": [
       "4649669"
      ]
     },
     "execution_count": 13,
     "metadata": {},
     "output_type": "execute_result"
    }
   ],
   "source": [
    "len(data)"
   ]
  },
  {
   "cell_type": "code",
   "execution_count": 101,
   "metadata": {},
   "outputs": [
    {
     "ename": "AttributeError",
     "evalue": "'list' object has no attribute 'apply'",
     "output_type": "error",
     "traceback": [
      "\u001b[0;31m---------------------------------------------------------------------------\u001b[0m",
      "\u001b[0;31mAttributeError\u001b[0m                            Traceback (most recent call last)",
      "\u001b[0;32m<ipython-input-101-a17d245547d8>\u001b[0m in \u001b[0;36m<module>\u001b[0;34m\u001b[0m\n\u001b[0;32m----> 1\u001b[0;31m \u001b[0mdata\u001b[0m\u001b[0;34m.\u001b[0m\u001b[0mapply\u001b[0m\u001b[0;34m(\u001b[0m\u001b[0;32mlambda\u001b[0m \u001b[0mx\u001b[0m\u001b[0;34m:\u001b[0m \u001b[0mint\u001b[0m\u001b[0;34m(\u001b[0m\u001b[0mx\u001b[0m\u001b[0;34m[\u001b[0m\u001b[0;34m'Rot'\u001b[0m\u001b[0;34m]\u001b[0m\u001b[0;34m)\u001b[0m\u001b[0;34m,\u001b[0m \u001b[0maxis\u001b[0m \u001b[0;34m=\u001b[0m \u001b[0;36m1\u001b[0m\u001b[0;34m)\u001b[0m\u001b[0;34m\u001b[0m\u001b[0;34m\u001b[0m\u001b[0m\n\u001b[0m",
      "\u001b[0;31mAttributeError\u001b[0m: 'list' object has no attribute 'apply'"
     ]
    }
   ],
   "source": [
    "data.apply(lambda x: int(x['Rot']), axis = 1)"
   ]
  },
  {
   "cell_type": "code",
   "execution_count": 120,
   "metadata": {},
   "outputs": [],
   "source": [
    "filenames = filenames[:1000]"
   ]
  },
  {
   "cell_type": "code",
   "execution_count": null,
   "metadata": {
    "collapsed": true
   },
   "outputs": [],
   "source": []
  },
  {
   "cell_type": "code",
   "execution_count": null,
   "metadata": {
    "collapsed": true
   },
   "outputs": [],
   "source": []
  },
  {
   "cell_type": "code",
   "execution_count": null,
   "metadata": {
    "collapsed": true
   },
   "outputs": [],
   "source": []
  },
  {
   "cell_type": "code",
   "execution_count": 141,
   "metadata": {},
   "outputs": [
    {
     "data": {
      "text/plain": [
       "26"
      ]
     },
     "execution_count": 141,
     "metadata": {},
     "output_type": "execute_result"
    }
   ],
   "source": [
    "len([float(i) for i in a[\"List of Coordinates\"].iloc[0]])"
   ]
  },
  {
   "cell_type": "code",
   "execution_count": 154,
   "metadata": {},
   "outputs": [
    {
     "data": {
      "text/plain": [
       "[(28.5, 60.1),\n",
       " (84.4, 88.3),\n",
       " (88.0, 80.5),\n",
       " (60.1, 28.5),\n",
       " (8.1, 0.5),\n",
       " (0.3, 4.1),\n",
       " (28.5, 0.0),\n",
       " (0.0, 7.9),\n",
       " (15.4, 16.2),\n",
       " (20.0, 13.4),\n",
       " (13.4, 20.0),\n",
       " (16.2, 15.5),\n",
       " (7.9, 0.0)]"
      ]
     },
     "execution_count": 154,
     "metadata": {},
     "output_type": "execute_result"
    }
   ],
   "source": [
    "list1"
   ]
  },
  {
   "cell_type": "code",
   "execution_count": 145,
   "metadata": {},
   "outputs": [],
   "source": [
    "list1 = []\n",
    "temp = [float(i) for i in a[\"List of Coordinates\"].iloc[0]]\n",
    "for i in range(0,25,2):\n",
    "    list1.append((temp[i],temp[i+1]))\n",
    "    \n",
    "line = LineString(list1)"
   ]
  },
  {
   "cell_type": "code",
   "execution_count": 61,
   "metadata": {},
   "outputs": [
    {
     "ename": "NameError",
     "evalue": "name 'line' is not defined",
     "output_type": "error",
     "traceback": [
      "\u001b[0;31m---------------------------------------------------------------------------\u001b[0m",
      "\u001b[0;31mNameError\u001b[0m                                 Traceback (most recent call last)",
      "\u001b[0;32m<ipython-input-61-4b60ca004a25>\u001b[0m in \u001b[0;36m<module>\u001b[0;34m\u001b[0m\n\u001b[1;32m      1\u001b[0m \u001b[0;32mimport\u001b[0m \u001b[0mmatplotlib\u001b[0m\u001b[0;34m.\u001b[0m\u001b[0mpyplot\u001b[0m \u001b[0;32mas\u001b[0m \u001b[0mplt\u001b[0m\u001b[0;34m\u001b[0m\u001b[0;34m\u001b[0m\u001b[0m\n\u001b[0;32m----> 2\u001b[0;31m \u001b[0mx\u001b[0m\u001b[0;34m,\u001b[0m\u001b[0my\u001b[0m \u001b[0;34m=\u001b[0m \u001b[0mline\u001b[0m\u001b[0;34m.\u001b[0m\u001b[0mxy\u001b[0m\u001b[0;34m\u001b[0m\u001b[0;34m\u001b[0m\u001b[0m\n\u001b[0m\u001b[1;32m      3\u001b[0m \u001b[0mplt\u001b[0m\u001b[0;34m.\u001b[0m\u001b[0mfigure\u001b[0m\u001b[0;34m(\u001b[0m\u001b[0;34m)\u001b[0m\u001b[0;34m\u001b[0m\u001b[0;34m\u001b[0m\u001b[0m\n\u001b[1;32m      4\u001b[0m plt.plot(x, y, color='#6699cc', alpha=0.7,\n\u001b[1;32m      5\u001b[0m     linewidth=3, solid_capstyle='round', zorder=2)\n",
      "\u001b[0;31mNameError\u001b[0m: name 'line' is not defined"
     ]
    }
   ],
   "source": [
    "import matplotlib.pyplot as plt\n",
    "x,y = line.xy\n",
    "plt.figure()\n",
    "plt.plot(x, y, color='#6699cc', alpha=0.7,\n",
    "    linewidth=3, solid_capstyle='round', zorder=2)\n",
    "plt.set_title('Polygon')"
   ]
  },
  {
   "cell_type": "code",
   "execution_count": 157,
   "metadata": {},
   "outputs": [
    {
     "data": {
      "text/plain": [
       "[<matplotlib.lines.Line2D at 0x11b766f98>]"
      ]
     },
     "execution_count": 157,
     "metadata": {},
     "output_type": "execute_result"
    },
    {
     "data": {
      "image/png": "[encoded data removed]",
      "text/plain": [
       "<Figure size 432x288 with 1 Axes>"
      ]
     },
     "metadata": {},
     "output_type": "display_data"
    }
   ],
   "source": [
    "#[0 9; 9 0; 115.8 0; 124.8 9; 124.8 45.5; 115.8 54.5; 9 54.5; 0 45.5; 0 9]\n",
    "\n",
    "x = [0,9,115.8,124.8,124.8,115.8,9,0,0]\n",
    "y = [9, 0, 0, 9, 45.5, 54.5, 54.5, 45.5, 9]\n",
    "plt.plot(x, y, color='#6699cc', alpha=0.7,\n",
    "    linewidth=3, solid_capstyle='round', zorder=2)"
   ]
  },
  {
   "cell_type": "code",
   "execution_count": 164,
   "metadata": {},
   "outputs": [
    {
     "data": {
      "text/plain": [
       "[<matplotlib.lines.Line2D at 0x11b950940>]"
      ]
     },
     "execution_count": 164,
     "metadata": {},
     "output_type": "execute_result"
    },
    {
     "data": {
      "image/png": "[encoded data removed]",
      "text/plain": [
       "<Figure size 432x288 with 1 Axes>"
      ]
     },
     "metadata": {},
     "output_type": "display_data"
    }
   ],
   "source": [
    "tmp = '117.4 156.1; 117.4 108; 78.2 108; 78.2 103; 113.6 103; 113.6 53; 78.2 53; 78.2 48; 117.4 48; 117.4 0; 0 0; 0 48; 39.2 48; 39.2 53; 3.8 53; 3.8 103; 39.2 103; 39.2 108; 0 108; 0 156.1; 117.4 156.1'\n",
    "ls = tmp.split(';')\n",
    "ls = [l.strip() for l in ls]\n",
    "x = [float(l.split(' ')[0]) for l in ls]\n",
    "y = [float(l.split(' ')[1]) for l in ls]\n",
    "xy = [(ll, lr) for ll, lr in zip(x, y)]\n",
    "plt.plot(x, y, color='#6699cc', alpha=0.7,\n",
    "    linewidth=3, solid_capstyle='round', zorder=2)"
   ]
  },
  {
   "cell_type": "code",
   "execution_count": 168,
   "metadata": {},
   "outputs": [
    {
     "data": {
      "text/plain": [
       "(0.0, 0.0, 117.4, 156.1)"
      ]
     },
     "execution_count": 168,
     "metadata": {},
     "output_type": "execute_result"
    }
   ],
   "source": [
    "figure = LineString(xy)\n",
    "figure.bounds"
   ]
  },
  {
   "cell_type": "code",
   "execution_count": null,
   "metadata": {},
   "outputs": [],
   "source": []
  },
  {
   "cell_type": "code",
   "execution_count": null,
   "metadata": {},
   "outputs": [],
   "source": []
  },
  {
   "cell_type": "code",
   "execution_count": null,
   "metadata": {},
   "outputs": [],
   "source": []
  },
  {
   "cell_type": "code",
   "execution_count": 5,
   "metadata": {},
   "outputs": [
    {
     "data": {
      "text/plain": [
       "[<matplotlib.lines.Line2D at 0x11e430748>]"
      ]
     },
     "execution_count": 5,
     "metadata": {},
     "output_type": "execute_result"
    },
    {
     "data": {
      "image/png": "[encoded data removed]",
      "text/plain": [
       "<Figure size 432x288 with 1 Axes>"
      ]
     },
     "metadata": {
      "needs_background": "light"
     },
     "output_type": "display_data"
    }
   ],
   "source": [
    "tmp = '6 38; 7.1 40; 97.5 40; 98.7 38; 98.7 30.5; 110.7 30.5; 110.7 38; 111.8 40; 688.3 40; 688.3 30; 571 30; 529.2 0.7; 526.9 0; 0 0; 0 24.5; 6 30.5; 6 38'\n",
    "ls = tmp.split(';')\n",
    "ls = [l.strip() for l in ls]\n",
    "x = [float(l.split(' ')[0]) for l in ls]\n",
    "y = [float(l.split(' ')[1]) for l in ls]\n",
    "xy = [(ll, lr) for ll, lr in zip(x, y)]\n",
    "plt.plot(x, y, color='#6699cc', alpha=0.7,\n",
    "    linewidth=3, solid_capstyle='round', zorder=2)"
   ]
  },
  {
   "cell_type": "code",
   "execution_count": 62,
   "metadata": {},
   "outputs": [
    {
     "data": {
      "text/plain": [
       "[<matplotlib.lines.Line2D at 0x11670c748>]"
      ]
     },
     "execution_count": 62,
     "metadata": {},
     "output_type": "execute_result"
    },
    {
     "data": {
      "image/png": "[encoded data removed]",
      "text/plain": [
       "<Figure size 432x288 with 1 Axes>"
      ]
     },
     "metadata": {
      "needs_background": "light"
     },
     "output_type": "display_data"
    }
   ],
   "source": [
    "tmp = '0 50.6; 0 114.3; 3 117.3; 42 117.3; 45 114.3; 45 78.7; 48 78.7; 48 81.7; 605.5 81.7; 608.5 78.7; 608.5 64.6; 605.5 61.6; 587.5 61.6; 587.5 48.6; 584.5 45.6; 100.7 45.6; 100.7 10; 90.7 0; 64.5 0; 54.5 10; 54.5 45.6; 5 45.6; 0 50.6'\n",
    "ls = tmp.split(';')\n",
    "ls = [l.strip() for l in ls]\n",
    "x = [float(l.split(' ')[0]) for l in ls]\n",
    "y = [float(l.split(' ')[1]) for l in ls]\n",
    "xy = [(ll, lr) for ll, lr in zip(x, y)]\n",
    "plt.plot(x, y, color='#6699cc', alpha=0.7,\n",
    "    linewidth=3, solid_capstyle='round', zorder=2)"
   ]
  },
  {
   "cell_type": "code",
   "execution_count": 63,
   "metadata": {},
   "outputs": [
    {
     "ename": "AssertionError",
     "evalue": "",
     "output_type": "error",
     "traceback": [
      "\u001b[0;31m---------------------------------------------------------------------------\u001b[0m",
      "\u001b[0;31mAttributeError\u001b[0m                            Traceback (most recent call last)",
      "\u001b[0;32m/anaconda3/envs/data_mining/lib/python3.6/site-packages/shapely/speedups/_speedups.pyx\u001b[0m in \u001b[0;36mshapely.speedups._speedups.geos_linestring_from_py\u001b[0;34m()\u001b[0m\n",
      "\u001b[0;31mAttributeError\u001b[0m: 'str' object has no attribute '__array_interface__'",
      "\nDuring handling of the above exception, another exception occurred:\n",
      "\u001b[0;31mAssertionError\u001b[0m                            Traceback (most recent call last)",
      "\u001b[0;32m<ipython-input-63-bbb9242df3dd>\u001b[0m in \u001b[0;36m<module>\u001b[0;34m\u001b[0m\n\u001b[0;32m----> 1\u001b[0;31m \u001b[0mLineString\u001b[0m\u001b[0;34m(\u001b[0m\u001b[0mtmp\u001b[0m\u001b[0;34m)\u001b[0m\u001b[0;34m\u001b[0m\u001b[0;34m\u001b[0m\u001b[0m\n\u001b[0m",
      "\u001b[0;32m/anaconda3/envs/data_mining/lib/python3.6/site-packages/shapely/geometry/linestring.py\u001b[0m in \u001b[0;36m__init__\u001b[0;34m(self, coordinates)\u001b[0m\n\u001b[1;32m     46\u001b[0m         \u001b[0mBaseGeometry\u001b[0m\u001b[0;34m.\u001b[0m\u001b[0m__init__\u001b[0m\u001b[0;34m(\u001b[0m\u001b[0mself\u001b[0m\u001b[0;34m)\u001b[0m\u001b[0;34m\u001b[0m\u001b[0;34m\u001b[0m\u001b[0m\n\u001b[1;32m     47\u001b[0m         \u001b[0;32mif\u001b[0m \u001b[0mcoordinates\u001b[0m \u001b[0;32mis\u001b[0m \u001b[0;32mnot\u001b[0m \u001b[0;32mNone\u001b[0m\u001b[0;34m:\u001b[0m\u001b[0;34m\u001b[0m\u001b[0;34m\u001b[0m\u001b[0m\n\u001b[0;32m---> 48\u001b[0;31m             \u001b[0mself\u001b[0m\u001b[0;34m.\u001b[0m\u001b[0m_set_coords\u001b[0m\u001b[0;34m(\u001b[0m\u001b[0mcoordinates\u001b[0m\u001b[0;34m)\u001b[0m\u001b[0;34m\u001b[0m\u001b[0;34m\u001b[0m\u001b[0m\n\u001b[0m\u001b[1;32m     49\u001b[0m \u001b[0;34m\u001b[0m\u001b[0m\n\u001b[1;32m     50\u001b[0m     \u001b[0;34m@\u001b[0m\u001b[0mproperty\u001b[0m\u001b[0;34m\u001b[0m\u001b[0;34m\u001b[0m\u001b[0m\n",
      "\u001b[0;32m/anaconda3/envs/data_mining/lib/python3.6/site-packages/shapely/geometry/linestring.py\u001b[0m in \u001b[0;36m_set_coords\u001b[0;34m(self, coordinates)\u001b[0m\n\u001b[1;32m     95\u001b[0m     \u001b[0;32mdef\u001b[0m \u001b[0m_set_coords\u001b[0m\u001b[0;34m(\u001b[0m\u001b[0mself\u001b[0m\u001b[0;34m,\u001b[0m \u001b[0mcoordinates\u001b[0m\u001b[0;34m)\u001b[0m\u001b[0;34m:\u001b[0m\u001b[0;34m\u001b[0m\u001b[0;34m\u001b[0m\u001b[0m\n\u001b[1;32m     96\u001b[0m         \u001b[0mself\u001b[0m\u001b[0;34m.\u001b[0m\u001b[0mempty\u001b[0m\u001b[0;34m(\u001b[0m\u001b[0;34m)\u001b[0m\u001b[0;34m\u001b[0m\u001b[0;34m\u001b[0m\u001b[0m\n\u001b[0;32m---> 97\u001b[0;31m         \u001b[0mret\u001b[0m \u001b[0;34m=\u001b[0m \u001b[0mgeos_linestring_from_py\u001b[0m\u001b[0;34m(\u001b[0m\u001b[0mcoordinates\u001b[0m\u001b[0;34m)\u001b[0m\u001b[0;34m\u001b[0m\u001b[0;34m\u001b[0m\u001b[0m\n\u001b[0m\u001b[1;32m     98\u001b[0m         \u001b[0;32mif\u001b[0m \u001b[0mret\u001b[0m \u001b[0;32mis\u001b[0m \u001b[0;32mnot\u001b[0m \u001b[0;32mNone\u001b[0m\u001b[0;34m:\u001b[0m\u001b[0;34m\u001b[0m\u001b[0;34m\u001b[0m\u001b[0m\n\u001b[1;32m     99\u001b[0m             \u001b[0mself\u001b[0m\u001b[0;34m.\u001b[0m\u001b[0m_geom\u001b[0m\u001b[0;34m,\u001b[0m \u001b[0mself\u001b[0m\u001b[0;34m.\u001b[0m\u001b[0m_ndim\u001b[0m \u001b[0;34m=\u001b[0m \u001b[0mret\u001b[0m\u001b[0;34m\u001b[0m\u001b[0;34m\u001b[0m\u001b[0m\n",
      "\u001b[0;32m/anaconda3/envs/data_mining/lib/python3.6/site-packages/shapely/speedups/_speedups.pyx\u001b[0m in \u001b[0;36mshapely.speedups._speedups.geos_linestring_from_py\u001b[0;34m()\u001b[0m\n",
      "\u001b[0;31mAssertionError\u001b[0m: "
     ]
    }
   ],
   "source": [
    "LineString(tmp)"
   ]
  },
  {
   "cell_type": "code",
   "execution_count": null,
   "metadata": {},
   "outputs": [],
   "source": []
  },
  {
   "cell_type": "code",
   "execution_count": 7,
   "metadata": {},
   "outputs": [
    {
     "data": {
      "text/plain": [
       "[<matplotlib.lines.Line2D at 0x11e539828>]"
      ]
     },
     "execution_count": 7,
     "metadata": {},
     "output_type": "execute_result"
    },
    {
     "data": {
      "image/png": "[encoded data removed]",
      "text/plain": [
       "<Figure size 432x288 with 1 Axes>"
      ]
     },
     "metadata": {
      "needs_background": "light"
     },
     "output_type": "display_data"
    }
   ],
   "source": [
    "tmp = '0 9; 9 0; 115.8 0; 124.8 9; 124.8 45.5; 115.8 54.5; 9 54.5; 0 45.5; 0 9; 23.1 43.8; 85.6 43.8; 87.6 41.8; 87.6 12.6; 85.6 10.6; 23.1 10.6; 21.1 12.6; 21.1 41.8; 23.1 43.8'\n",
    "ls = tmp.split(';')\n",
    "ls = [l.strip() for l in ls]\n",
    "x = [float(l.split(' ')[0]) for l in ls]\n",
    "y = [float(l.split(' ')[1]) for l in ls]\n",
    "xy = [(ll, lr) for ll, lr in zip(x, y)]\n",
    "plt.plot(x, y, color='#6699cc', alpha=0.7,\n",
    "    linewidth=3, solid_capstyle='round', zorder=2)"
   ]
  },
  {
   "cell_type": "code",
   "execution_count": 8,
   "metadata": {},
   "outputs": [
    {
     "data": {
      "text/plain": [
       "[<matplotlib.lines.Line2D at 0x11e599ef0>]"
      ]
     },
     "execution_count": 8,
     "metadata": {},
     "output_type": "execute_result"
    },
    {
     "data": {
      "image/png": "[encoded data removed]",
      "text/plain": [
       "<Figure size 432x288 with 1 Axes>"
      ]
     },
     "metadata": {
      "needs_background": "light"
     },
     "output_type": "display_data"
    }
   ],
   "source": [
    "tmp = '28.5 0; 60.1 0; 84.4 7.9; 88.3 15.4; 88 16.2; 80.5 20; 60.1 13.4; 28.5 13.4; 8.1 20; 0.5 16.2; 0.3 15.5; 4.1 7.9; 28.5 0'\n",
    "ls = tmp.split(';')\n",
    "ls = [l.strip() for l in ls]\n",
    "x = [float(l.split(' ')[0]) for l in ls]\n",
    "y = [float(l.split(' ')[1]) for l in ls]\n",
    "xy = [(ll, lr) for ll, lr in zip(x, y)]\n",
    "plt.plot(x, y, color='#6699cc', alpha=0.7,\n",
    "    linewidth=3, solid_capstyle='round', zorder=2)"
   ]
  },
  {
   "cell_type": "code",
   "execution_count": 10,
   "metadata": {},
   "outputs": [
    {
     "data": {
      "text/plain": [
       "[<matplotlib.lines.Line2D at 0x11e6c02e8>]"
      ]
     },
     "execution_count": 10,
     "metadata": {},
     "output_type": "execute_result"
    },
    {
     "data": {
      "image/png": "[encoded data removed]",
      "text/plain": [
       "<Figure size 432x288 with 1 Axes>"
      ]
     },
     "metadata": {
      "needs_background": "light"
     },
     "output_type": "display_data"
    }
   ],
   "source": [
    "tmp = '117.4 156.1; 117.4 108; 78.2 108; 78.2 103; 113.6 103; 113.6 53; 78.2 53; 78.2 48; 117.4 48; 117.4 0; 0 0; 0 48; 39.2 48; 39.2 53; 3.8 53; 3.8 103; 39.2 103; 39.2 108; 0 108; 0 156.1; 117.4 156.1; 46.2 93; 46.2 63; 71.2 63; 71.2 93; 46.2 93'\n",
    "ls = tmp.split(';')\n",
    "ls = [l.strip() for l in ls]\n",
    "x = [float(l.split(' ')[0]) for l in ls]\n",
    "y = [float(l.split(' ')[1]) for l in ls]\n",
    "xy = [(ll, lr) for ll, lr in zip(x, y)]\n",
    "plt.plot(x, y, color='#6699cc', alpha=0.7,\n",
    "    linewidth=3, solid_capstyle='round', zorder=2)"
   ]
  },
  {
   "cell_type": "code",
   "execution_count": 11,
   "metadata": {},
   "outputs": [
    {
     "data": {
      "text/plain": [
       "[<matplotlib.lines.Line2D at 0x11e718080>]"
      ]
     },
     "execution_count": 11,
     "metadata": {},
     "output_type": "execute_result"
    },
    {
     "data": {
      "image/png": "[encoded data removed]",
      "text/plain": [
       "<Figure size 432x288 with 1 Axes>"
      ]
     },
     "metadata": {
      "needs_background": "light"
     },
     "output_type": "display_data"
    }
   ],
   "source": [
    "tmp = '1 123.3; 0 122.3; 0 93.3; 1 92.3; 21.6 92.3; 22.5 88.5; 6.1 80.7; 3.34 76.1; 3.3 69.3; 11.3 61.3; 26.3 61.3; 28.3 63.3; 28.3 64.8; 27.2 66.5; 18.3 71; 10.3 71; 9.3 72; 9.3 74; 10.3 75; 12.1 75; 12.5 74.9; 16.1 73.6; 16.5 73.5; 23.3 73.5; 28.3 78.5; 28.3 80.8; 30.3 80.8; 30.3 60; 31.3 60; 32.3 59; 32.3 1; 33.3 0; 60.5 0; 63.5 3; 63.5 27; 66.5 30; 84.5 30; 87.3 31.8; 103.5 69.8; 103.6 70.2; 103.6 122.3; 102.6 123.3; 82.6 123.3; 81.6 122.3; 81.6 92.3; 48.9 92.3; 48.9 122.3; 47.9 123.3; 1 123.3; 58 39; 58 80; 72 80; 72 39; 58 39'\n",
    "ls = tmp.split(';')\n",
    "ls = [l.strip() for l in ls]\n",
    "x = [float(l.split(' ')[0]) for l in ls]\n",
    "y = [float(l.split(' ')[1]) for l in ls]\n",
    "xy = [(ll, lr) for ll, lr in zip(x, y)]\n",
    "plt.plot(x, y, color='#6699cc', alpha=0.7,\n",
    "    linewidth=3, solid_capstyle='round', zorder=2)"
   ]
  },
  {
   "cell_type": "code",
   "execution_count": 74,
   "metadata": {},
   "outputs": [],
   "source": [
    "line = Polygon([(0, 0), (1, 1), (1, 2)])"
   ]
  },
  {
   "cell_type": "code",
   "execution_count": 75,
   "metadata": {},
   "outputs": [
    {
     "data": {
      "text/plain": [
       "0.5"
      ]
     },
     "execution_count": 75,
     "metadata": {},
     "output_type": "execute_result"
    }
   ],
   "source": [
    "line.area"
   ]
  },
  {
   "cell_type": "code",
   "execution_count": 67,
   "metadata": {},
   "outputs": [
    {
     "data": {
      "image/svg+xml": [
       "<svg xmlns=\"http://www.w3.org/2000/svg\" xmlns:xlink=\"http://www.w3.org/1999/xlink\" width=\"100.0\" height=\"100.0\" viewBox=\"-0.08 -0.08 1.1600000000000001 2.16\" preserveAspectRatio=\"xMinYMin meet\"><g transform=\"matrix(1,0,0,-1,0,2.0)\"><polyline fill=\"none\" stroke=\"#66cc99\" stroke-width=\"0.0432\" points=\"0.0,0.0 1.0,1.0 1.0,2.0 0.0,0.0\" opacity=\"0.8\" /></g></svg>"
      ],
      "text/plain": [
       "<shapely.geometry.linestring.LineString at 0x1167e3320>"
      ]
     },
     "execution_count": 67,
     "metadata": {},
     "output_type": "execute_result"
    }
   ],
   "source": [
    "line"
   ]
  },
  {
   "cell_type": "code",
   "execution_count": null,
   "metadata": {},
   "outputs": [],
   "source": []
  }
 ],
 "metadata": {
  "kernelspec": {
   "display_name": "Python 3",
   "language": "python",
   "name": "python3"
  },
  "language_info": {
   "codemirror_mode": {
    "name": "ipython",
    "version": 3
   },
   "file_extension": ".py",
   "mimetype": "text/x-python",
   "name": "python",
   "nbconvert_exporter": "python",
   "pygments_lexer": "ipython3",
   "version": "3.6.5"
  }
 },
 "nbformat": 4,
 "nbformat_minor": 2
}
