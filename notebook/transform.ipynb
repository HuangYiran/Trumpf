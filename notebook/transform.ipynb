{
 "cells": [
  {
   "cell_type": "code",
   "execution_count": 216,
   "metadata": {
    "collapsed": true
   },
   "outputs": [],
   "source": [
    "import tarfile\n",
    "import os\n",
    "import sys\n",
    "import logging\n",
    "import re\n",
    "import pandas as pd\n",
    "pd.set_option('display.float_format', lambda x: '{:.3f}'.format(x))\n",
    "from shapely.geometry import LineString"
   ]
  },
  {
   "cell_type": "code",
   "execution_count": 251,
   "metadata": {
    "collapsed": false
   },
   "outputs": [],
   "source": [
    "def extract(tar_path, target_path = 'tmp', mode = 'r:gz', logger = None):\n",
    "    \"\"\"\n",
    "    input:\n",
    "        tar_path string:\n",
    "            path of tar file\n",
    "        target_path string:\n",
    "            path of target file\n",
    "        mode string:\n",
    "            mode of tar \n",
    "    \"\"\"\n",
    "    try:\n",
    "        tar = tarfile.open(tar_path, mode)\n",
    "        file_names = tar.getnames()\n",
    "        # make sure that only two files contain\n",
    "        #assert(len(file_names) == 2)\n",
    "        # make sure the name of the files is right\n",
    "        #TODO\n",
    "        confs = []\n",
    "        results = []\n",
    "        if logger:\n",
    "            logger.info('start extracting data from file: '+tar_path)\n",
    "        file_names = [li for li in file_names if li.split('.')[-1] == 'txt']\n",
    "        # logging start info\n",
    "        for file_name in file_names:\n",
    "            f = tar.extractfile(file_name)\n",
    "            if 'configuration' in file_name:\n",
    "                # use the configuration filename to get the result filename\n",
    "                result_filename = file_name[:-18]+'.txt'\n",
    "                # make sure the result file exist\n",
    "                if result_filename not in file_names:\n",
    "                    if logger:\n",
    "                        logger.info('result file not found')\n",
    "                    continue\n",
    "                # extract the configuration file \n",
    "                f = tar.extractfile(file_name)\n",
    "                conf = extract_configuration(file_name, f)\n",
    "                # extract the result file\n",
    "                f = tar.extractfile(result_filename)\n",
    "                result = extract_result(file_name, f)\n",
    "                # if mismatch \n",
    "                if len(conf) == len(result):\n",
    "                    confs.append(conf)\n",
    "                    results.append(result)\n",
    "                elif len(conf) > len(result):\n",
    "                    conf = conf[:len(result)]\n",
    "                    confs.append(conf)\n",
    "                    results.append(result)\n",
    "                else:\n",
    "                    if logger:\n",
    "                        logger.error('Data mismatch in:'+ file_name)\n",
    "                    else:\n",
    "                        print('Data mismatch in:'+ file_name)\n",
    "        tar.close()\n",
    "        # combine conf and result\n",
    "        conf = pd.concat(confs, axis = 0)\n",
    "        result = pd.concat(results, axis = 0)\n",
    "        target = pd.concat([conf, result], axis = 1)\n",
    "        if logger:\n",
    "            logger.info('end extracting')\n",
    "        return target\n",
    "    except:\n",
    "        raise\n",
    "\n",
    "def extract_configuration(filename, f):\n",
    "    \"\"\"\n",
    "    input:\n",
    "        filename string:\n",
    "            the name of the file\n",
    "        f file object:\n",
    "            the file object\n",
    "    \"\"\"\n",
    "    conf_columns = ['Jobid', 'Rot', 'List of Coordinates', 'Shapely Polygon']\n",
    "    conf = pd.DataFrame(columns = conf_columns)\n",
    "    for row_index, line in enumerate(f):\n",
    "        l = line.decode(\"utf-8\").strip()\n",
    "        l = re.sub(r'\\s+', ' ', l)\n",
    "        ws = l.split(' ')\n",
    "        assert(len(ws)>=2)\n",
    "        conf.loc[row_index, 'Jobid'] = re.sub('[a-zA-Z/.]', '', filename)+str(row_index)\n",
    "        conf.loc[row_index, 'Rot'] = ws[0]\n",
    "        tmp_coor = fix_coordinate(ws[1:])\n",
    "        conf.loc[row_index, 'List of Coordinates'] = tmp_coor\n",
    "        conf.loc[row_index, 'Shapely Polygon'] = LineString(tmp_coor)\n",
    "    return conf\n",
    "\n",
    "def extract_result(filename, f):\n",
    "    \"\"\"\n",
    "    input:\n",
    "        filename string:\n",
    "            the name of the file\n",
    "        f file object:\n",
    "            the file object    \n",
    "    \"\"\"\n",
    "    result_columns = ['Metric1', 'Metric2', 'Metric3', 'Metric4']\n",
    "    result = pd.DataFrame(columns = result_columns)\n",
    "    for row_index, line in enumerate(f):\n",
    "        l = line.decode(\"utf-8\").strip()\n",
    "        l = re.sub(r'\\s+', ' ', l)\n",
    "        ws = l.split(' ')\n",
    "        if len(ws) != 6:\n",
    "            print(ws)\n",
    "        result.loc[row_index, 'Metric1'] = ws[2]\n",
    "        result.loc[row_index, 'Metric2'] = ws[3]\n",
    "        result.loc[row_index, 'Metric3'] = ws[4]\n",
    "        result.loc[row_index, 'Metric4'] = ws[5]\n",
    "    return result\n",
    "\n",
    "def fix_coordinate(ws, logger = None):\n",
    "    out = []\n",
    "    out2 = []\n",
    "    for w in ws:\n",
    "        if w.count('.') == 1:\n",
    "            out.append(float(w))\n",
    "        elif w.count('.') > 1:\n",
    "            # fix the problem\n",
    "            tmp = []\n",
    "            get_first(w, tmp)\n",
    "            out.extend(tmp)\n",
    "        else:\n",
    "            # error??\n",
    "            if logger:\n",
    "                logger.error('coordinate error')\n",
    "    if len(out)%2 != 0:\n",
    "        logger.error('coordinate error')\n",
    "    for i in range(0,len(out),2):\n",
    "        out2.append((out[i],out[i+1]))\n",
    "    return out2"
   ]
  },
  {
   "cell_type": "code",
   "execution_count": 214,
   "metadata": {
    "collapsed": false,
    "scrolled": false
   },
   "outputs": [],
   "source": [
    "def get_first(li, out):\n",
    "    if li.count('.') > 1:\n",
    "        add = li.index('.')+3\n",
    "        out.append(float(li[:add]))\n",
    "        get_first(li[add:], out)\n",
    "    else:\n",
    "        out.append(float(li))     "
   ]
  },
  {
   "cell_type": "code",
   "execution_count": 200,
   "metadata": {
    "collapsed": false
   },
   "outputs": [],
   "source": [
    "out = []\n",
    "get_first('9.00115.80124.80124.80115.80', out)"
   ]
  },
  {
   "cell_type": "code",
   "execution_count": null,
   "metadata": {
    "collapsed": false
   },
   "outputs": [],
   "source": []
  },
  {
   "cell_type": "code",
   "execution_count": 252,
   "metadata": {
    "collapsed": false
   },
   "outputs": [],
   "source": [
    "#a = extract('../samples/82753-9348_results.tgz')\n",
    "#a"
   ]
  },
  {
   "cell_type": "code",
   "execution_count": null,
   "metadata": {
    "collapsed": false
   },
   "outputs": [],
   "source": []
  },
  {
   "cell_type": "code",
   "execution_count": 188,
   "metadata": {
    "collapsed": false
   },
   "outputs": [
    {
     "data": {
      "text/plain": [
       "5.00     453\n",
       "90.00    427\n",
       "0.00     408\n",
       "Name: Rot, dtype: int64"
      ]
     },
     "execution_count": 188,
     "metadata": {},
     "output_type": "execute_result"
    }
   ],
   "source": [
    "a['Rot'].value_counts()"
   ]
  },
  {
   "cell_type": "markdown",
   "metadata": {},
   "source": [
    "## main"
   ]
  },
  {
   "cell_type": "code",
   "execution_count": 219,
   "metadata": {
    "collapsed": true
   },
   "outputs": [],
   "source": [
    "# set logging\n",
    "logging.basicConfig(level = logging.INFO, format = '%(asctime)s - %(name)s - %(levelname)s - %(message)s')\n",
    "handler = logging.FileHandler('../log/extract_data.log')\n",
    "handler.setLevel(logging.INFO)\n",
    "formater = logging.Formatter('%(asctime)s - %(name)s - %(levelname)s - %(message)s')\n",
    "handler.setFormatter(formater)\n",
    "logger = logging.getLogger(__name__)\n",
    "logger.addHandler(handler)\n",
    "#logger.info('This is a log info')"
   ]
  },
  {
   "cell_type": "code",
   "execution_count": 122,
   "metadata": {
    "collapsed": false
   },
   "outputs": [],
   "source": [
    "# read filename\n",
    "filenames = os.listdir('../samples/')\n",
    "filenames = [li for li in filenames if li.split('.')[-1] == 'tgz']\n",
    "preffix = '../samples/'\n",
    "filenames = [preffix+li for li in filenames]"
   ]
  },
  {
   "cell_type": "code",
   "execution_count": 250,
   "metadata": {
    "collapsed": false
   },
   "outputs": [
    {
     "name": "stderr",
     "output_type": "stream",
     "text": [
      "2019-01-08 17:21:15,943 - __main__ - INFO - start extracting data from file: ../samples/82754-8238_results.tgz\n",
      "2019-01-08 17:21:19,174 - __main__ - INFO - end extracting\n",
      "2019-01-08 17:21:19,195 - __main__ - INFO - start extracting data from file: ../samples/82753-9348_results.tgz\n",
      "2019-01-08 17:21:22,411 - __main__ - INFO - end extracting\n"
     ]
    }
   ],
   "source": [
    "# extract file\n",
    "data = []\n",
    "for filename in filenames:\n",
    "    data.append(extract(filename, logger = logger))\n",
    "data = pd.concat(data, axis = 0)"
   ]
  },
  {
   "cell_type": "code",
   "execution_count": 127,
   "metadata": {
    "collapsed": false
   },
   "outputs": [],
   "source": [
    "# save file\n",
    "data.to_pickle('../sample.tmp')"
   ]
  },
  {
   "cell_type": "code",
   "execution_count": null,
   "metadata": {
    "collapsed": false
   },
   "outputs": [],
   "source": []
  },
  {
   "cell_type": "code",
   "execution_count": null,
   "metadata": {
    "collapsed": true
   },
   "outputs": [],
   "source": []
  },
  {
   "cell_type": "code",
   "execution_count": null,
   "metadata": {
    "collapsed": true
   },
   "outputs": [],
   "source": []
  },
  {
   "cell_type": "code",
   "execution_count": null,
   "metadata": {
    "collapsed": true
   },
   "outputs": [],
   "source": []
  },
  {
   "cell_type": "code",
   "execution_count": null,
   "metadata": {
    "collapsed": true
   },
   "outputs": [],
   "source": []
  },
  {
   "cell_type": "code",
   "execution_count": null,
   "metadata": {
    "collapsed": true
   },
   "outputs": [],
   "source": []
  },
  {
   "cell_type": "code",
   "execution_count": null,
   "metadata": {
    "collapsed": true
   },
   "outputs": [],
   "source": []
  },
  {
   "cell_type": "code",
   "execution_count": 141,
   "metadata": {
    "collapsed": false
   },
   "outputs": [
    {
     "data": {
      "text/plain": [
       "26"
      ]
     },
     "execution_count": 141,
     "metadata": {},
     "output_type": "execute_result"
    }
   ],
   "source": [
    "len([float(i) for i in a[\"List of Coordinates\"].iloc[0]])"
   ]
  },
  {
   "cell_type": "code",
   "execution_count": 154,
   "metadata": {
    "collapsed": false
   },
   "outputs": [
    {
     "data": {
      "text/plain": [
       "[(28.5, 60.1),\n",
       " (84.4, 88.3),\n",
       " (88.0, 80.5),\n",
       " (60.1, 28.5),\n",
       " (8.1, 0.5),\n",
       " (0.3, 4.1),\n",
       " (28.5, 0.0),\n",
       " (0.0, 7.9),\n",
       " (15.4, 16.2),\n",
       " (20.0, 13.4),\n",
       " (13.4, 20.0),\n",
       " (16.2, 15.5),\n",
       " (7.9, 0.0)]"
      ]
     },
     "execution_count": 154,
     "metadata": {},
     "output_type": "execute_result"
    }
   ],
   "source": [
    "list1"
   ]
  },
  {
   "cell_type": "code",
   "execution_count": 145,
   "metadata": {
    "collapsed": false
   },
   "outputs": [],
   "source": [
    "list1 = []\n",
    "temp = [float(i) for i in a[\"List of Coordinates\"].iloc[0]]\n",
    "for i in range(0,25,2):\n",
    "    list1.append((temp[i],temp[i+1]))\n",
    "    \n",
    "line = LineString(list1)"
   ]
  },
  {
   "cell_type": "code",
   "execution_count": 156,
   "metadata": {
    "collapsed": false
   },
   "outputs": [
    {
     "data": {
      "text/plain": [
       "[<matplotlib.lines.Line2D at 0x11b715470>]"
      ]
     },
     "execution_count": 156,
     "metadata": {},
     "output_type": "execute_result"
    },
    {
     "data": {
      "image/png": "[encoded data removed]",
      "text/plain": [
       "<Figure size 432x288 with 1 Axes>"
      ]
     },
     "metadata": {},
     "output_type": "display_data"
    }
   ],
   "source": [
    "import matplotlib.pyplot as plt\n",
    "x,y = line.xy\n",
    "plt.figure()\n",
    "plt.plot(x, y, color='#6699cc', alpha=0.7,\n",
    "    linewidth=3, solid_capstyle='round', zorder=2)\n",
    "plt.set_title('Polygon')"
   ]
  },
  {
   "cell_type": "code",
   "execution_count": 157,
   "metadata": {
    "collapsed": false
   },
   "outputs": [
    {
     "data": {
      "text/plain": [
       "[<matplotlib.lines.Line2D at 0x11b766f98>]"
      ]
     },
     "execution_count": 157,
     "metadata": {},
     "output_type": "execute_result"
    },
    {
     "data": {
      "image/png": "[encoded data removed]",
      "text/plain": [
       "<Figure size 432x288 with 1 Axes>"
      ]
     },
     "metadata": {},
     "output_type": "display_data"
    }
   ],
   "source": [
    "#[0 9; 9 0; 115.8 0; 124.8 9; 124.8 45.5; 115.8 54.5; 9 54.5; 0 45.5; 0 9]\n",
    "\n",
    "x = [0,9,115.8,124.8,124.8,115.8,9,0,0]\n",
    "y = [9, 0, 0, 9, 45.5, 54.5, 54.5, 45.5, 9]\n",
    "plt.plot(x, y, color='#6699cc', alpha=0.7,\n",
    "    linewidth=3, solid_capstyle='round', zorder=2)"
   ]
  },
  {
   "cell_type": "code",
   "execution_count": 164,
   "metadata": {
    "collapsed": false
   },
   "outputs": [
    {
     "data": {
      "text/plain": [
       "[<matplotlib.lines.Line2D at 0x11b950940>]"
      ]
     },
     "execution_count": 164,
     "metadata": {},
     "output_type": "execute_result"
    },
    {
     "data": {
      "image/png": "[encoded data removed]",
      "text/plain": [
       "<Figure size 432x288 with 1 Axes>"
      ]
     },
     "metadata": {},
     "output_type": "display_data"
    }
   ],
   "source": [
    "tmp = '117.4 156.1; 117.4 108; 78.2 108; 78.2 103; 113.6 103; 113.6 53; 78.2 53; 78.2 48; 117.4 48; 117.4 0; 0 0; 0 48; 39.2 48; 39.2 53; 3.8 53; 3.8 103; 39.2 103; 39.2 108; 0 108; 0 156.1; 117.4 156.1'\n",
    "ls = tmp.split(';')\n",
    "ls = [l.strip() for l in ls]\n",
    "x = [float(l.split(' ')[0]) for l in ls]\n",
    "y = [float(l.split(' ')[1]) for l in ls]\n",
    "xy = [(ll, lr) for ll, lr in zip(x, y)]\n",
    "plt.plot(x, y, color='#6699cc', alpha=0.7,\n",
    "    linewidth=3, solid_capstyle='round', zorder=2)"
   ]
  },
  {
   "cell_type": "code",
   "execution_count": 168,
   "metadata": {
    "collapsed": false
   },
   "outputs": [
    {
     "data": {
      "text/plain": [
       "(0.0, 0.0, 117.4, 156.1)"
      ]
     },
     "execution_count": 168,
     "metadata": {},
     "output_type": "execute_result"
    }
   ],
   "source": [
    "figure = LineString(xy)\n",
    "figure.bounds"
   ]
  },
  {
   "cell_type": "code",
   "execution_count": null,
   "metadata": {
    "collapsed": true
   },
   "outputs": [],
   "source": []
  }
 ],
 "metadata": {
  "kernelspec": {
   "display_name": "data_mining",
   "language": "python",
   "name": "data_mining"
  },
  "language_info": {
   "codemirror_mode": {
    "name": "ipython",
    "version": 3
   },
   "file_extension": ".py",
   "mimetype": "text/x-python",
   "name": "python",
   "nbconvert_exporter": "python",
   "pygments_lexer": "ipython3",
   "version": "3.6.5"
  }
 },
 "nbformat": 4,
 "nbformat_minor": 2
}
