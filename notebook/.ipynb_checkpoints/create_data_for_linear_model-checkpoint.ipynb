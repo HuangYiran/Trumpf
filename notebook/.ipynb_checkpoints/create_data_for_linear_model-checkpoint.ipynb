{
 "cells": [
  {
   "cell_type": "code",
   "execution_count": 160,
   "metadata": {},
   "outputs": [],
   "source": [
    "import pandas as pd\n",
    "import shapely\n",
    "import numpy as np\n",
    "import sys\n",
    "import argparse\n",
    "import random\n",
    "import math\n",
    "import os\n",
    "from sklearn.preprocessing import OneHotEncoder\n",
    "from scipy.stats import stats\n",
    "import warnings\n",
    "warnings.filterwarnings(\"ignore\")\n",
    "pd.options.display.max_columns = 999\n",
    "pd.set_option('display.float_format', lambda x: '{:.3f}'.format(x))"
   ]
  },
  {
   "cell_type": "code",
   "execution_count": 14,
   "metadata": {},
   "outputs": [],
   "source": [
    "# read file\n",
    "data = pd.read_pickle('data/thread_0_11_end')"
   ]
  },
  {
   "cell_type": "markdown",
   "metadata": {},
   "source": [
    "## test the usability of rnn in this problem\n",
    "- make sure the target is predictable\n",
    "\n",
    "to do this, have to extract some feature first:\n",
    "- Teile Nr.\n",
    "- seq in job"
   ]
  },
  {
   "cell_type": "code",
   "execution_count": 16,
   "metadata": {},
   "outputs": [
    {
     "data": {
      "text/html": [
       "<div>\n",
       "<style scoped>\n",
       "    .dataframe tbody tr th:only-of-type {\n",
       "        vertical-align: middle;\n",
       "    }\n",
       "\n",
       "    .dataframe tbody tr th {\n",
       "        vertical-align: top;\n",
       "    }\n",
       "\n",
       "    .dataframe thead th {\n",
       "        text-align: right;\n",
       "    }\n",
       "</style>\n",
       "<table border=\"1\" class=\"dataframe\">\n",
       "  <thead>\n",
       "    <tr style=\"text-align: right;\">\n",
       "      <th></th>\n",
       "      <th>Jobid</th>\n",
       "      <th>Rot</th>\n",
       "      <th>List of Coordinates</th>\n",
       "      <th>Shapely Polygon</th>\n",
       "      <th>Metric1</th>\n",
       "      <th>Metric2</th>\n",
       "      <th>Metric3</th>\n",
       "      <th>Metric4</th>\n",
       "      <th>num_of_corr</th>\n",
       "      <th>seq_in_job</th>\n",
       "    </tr>\n",
       "  </thead>\n",
       "  <tbody>\n",
       "    <tr>\n",
       "      <th>0</th>\n",
       "      <td>82747-389_11_0</td>\n",
       "      <td>5.00</td>\n",
       "      <td>[(6.0, 7.1), (97.5, 98.7), (98.7, 110.7), (110...</td>\n",
       "      <td>LINESTRING (6 7.1, 97.5 98.7, 98.7 110.7, 110....</td>\n",
       "      <td>1.00</td>\n",
       "      <td>2.00</td>\n",
       "      <td>2.00</td>\n",
       "      <td>5.00</td>\n",
       "      <td>17</td>\n",
       "      <td>0</td>\n",
       "    </tr>\n",
       "    <tr>\n",
       "      <th>1</th>\n",
       "      <td>82747-389_11_1</td>\n",
       "      <td>5.00</td>\n",
       "      <td>[(0.0, 9.0), (115.8, 124.8), (124.8, 115.8), (...</td>\n",
       "      <td>LINESTRING (0 9, 115.8 124.8, 124.8 115.8, 9 0...</td>\n",
       "      <td>2.00</td>\n",
       "      <td>2.00</td>\n",
       "      <td>691.00</td>\n",
       "      <td>5.00</td>\n",
       "      <td>18</td>\n",
       "      <td>1</td>\n",
       "    </tr>\n",
       "    <tr>\n",
       "      <th>2</th>\n",
       "      <td>82747-389_11_2</td>\n",
       "      <td>5.00</td>\n",
       "      <td>[(0.0, 9.0), (115.8, 124.8), (124.8, 115.8), (...</td>\n",
       "      <td>LINESTRING (0 9, 115.8 124.8, 124.8 115.8, 9 0...</td>\n",
       "      <td>3.00</td>\n",
       "      <td>2.00</td>\n",
       "      <td>816.00</td>\n",
       "      <td>5.00</td>\n",
       "      <td>18</td>\n",
       "      <td>2</td>\n",
       "    </tr>\n",
       "    <tr>\n",
       "      <th>3</th>\n",
       "      <td>82747-389_11_3</td>\n",
       "      <td>0.00</td>\n",
       "      <td>[(117.4, 117.4), (78.2, 78.2), (113.6, 113.6),...</td>\n",
       "      <td>LINESTRING (117.4 117.4, 78.2 78.2, 113.6 113....</td>\n",
       "      <td>4.00</td>\n",
       "      <td>1.00</td>\n",
       "      <td>940.00</td>\n",
       "      <td>2.00</td>\n",
       "      <td>26</td>\n",
       "      <td>3</td>\n",
       "    </tr>\n",
       "    <tr>\n",
       "      <th>4</th>\n",
       "      <td>82747-389_11_4</td>\n",
       "      <td>5.00</td>\n",
       "      <td>[(28.5, 60.1), (84.4, 88.3), (88.0, 80.5), (60...</td>\n",
       "      <td>LINESTRING (28.5 60.1, 84.40000000000001 88.3,...</td>\n",
       "      <td>5.00</td>\n",
       "      <td>3.00</td>\n",
       "      <td>1057.00</td>\n",
       "      <td>5.00</td>\n",
       "      <td>13</td>\n",
       "      <td>4</td>\n",
       "    </tr>\n",
       "  </tbody>\n",
       "</table>\n",
       "</div>"
      ],
      "text/plain": [
       "            Jobid   Rot                                List of Coordinates  \\\n",
       "0  82747-389_11_0  5.00  [(6.0, 7.1), (97.5, 98.7), (98.7, 110.7), (110...   \n",
       "1  82747-389_11_1  5.00  [(0.0, 9.0), (115.8, 124.8), (124.8, 115.8), (...   \n",
       "2  82747-389_11_2  5.00  [(0.0, 9.0), (115.8, 124.8), (124.8, 115.8), (...   \n",
       "3  82747-389_11_3  0.00  [(117.4, 117.4), (78.2, 78.2), (113.6, 113.6),...   \n",
       "4  82747-389_11_4  5.00  [(28.5, 60.1), (84.4, 88.3), (88.0, 80.5), (60...   \n",
       "\n",
       "                                     Shapely Polygon Metric1 Metric2  Metric3  \\\n",
       "0  LINESTRING (6 7.1, 97.5 98.7, 98.7 110.7, 110....    1.00    2.00     2.00   \n",
       "1  LINESTRING (0 9, 115.8 124.8, 124.8 115.8, 9 0...    2.00    2.00   691.00   \n",
       "2  LINESTRING (0 9, 115.8 124.8, 124.8 115.8, 9 0...    3.00    2.00   816.00   \n",
       "3  LINESTRING (117.4 117.4, 78.2 78.2, 113.6 113....    4.00    1.00   940.00   \n",
       "4  LINESTRING (28.5 60.1, 84.40000000000001 88.3,...    5.00    3.00  1057.00   \n",
       "\n",
       "  Metric4  num_of_corr seq_in_job  \n",
       "0    5.00           17          0  \n",
       "1    5.00           18          1  \n",
       "2    5.00           18          2  \n",
       "3    2.00           26          3  \n",
       "4    5.00           13          4  "
      ]
     },
     "execution_count": 16,
     "metadata": {},
     "output_type": "execute_result"
    }
   ],
   "source": [
    "# num_of_corr is the teile Nr\n",
    "data['num_of_corr'] = data['List of Coordinates'].map(lambda x: len(x))\n",
    "# seq_in_job\n",
    "data['seq_in_job'] = data['Jobid'].map(lambda x: x.split('_')[-1])\n",
    "#data.sort_values(['seq_in_job', 'num_of_corr'])\n",
    "data.head()"
   ]
  },
  {
   "cell_type": "markdown",
   "metadata": {},
   "source": [
    "## prepare the data\n",
    "what kinds of data do i need\n",
    "- vector representation of the 'Teile' \n",
    "- vector representation of the rotation"
   ]
  },
  {
   "cell_type": "code",
   "execution_count": 162,
   "metadata": {},
   "outputs": [
    {
     "name": "stdout",
     "output_type": "stream",
     "text": [
      "thread_0_0_end\n",
      "thread_0_10_end\n",
      "thread_0_11_end\n",
      "thread_0_12_end\n",
      "thread_0_13_end\n",
      "thread_0_15_end\n",
      "thread_0_16_end\n",
      "thread_0_17_end\n",
      "thread_0_2_end\n",
      "thread_0_3_end\n",
      "thread_0_4_end\n",
      "thread_0_5_end\n",
      "thread_0_6_end\n",
      "thread_0_7_end\n",
      "thread_0_8_end\n",
      "thread_0_9_end\n"
     ]
    }
   ],
   "source": [
    "data_path = \"E:/Teco/Trumpf/data/\"\n",
    "file_names = os.listdir(data_path)\n",
    "\n",
    "train = []\n",
    "for file in file_names:\n",
    "    print(file)\n",
    "    df = pd.read_pickle(data_path+file)\n",
    "    \n",
    "    df['seq_in_job'] = df['Jobid'].map(lambda x: x.split('_')[-1]).astype(int)\n",
    "    df['bin_seq_in_job'] = df['seq_in_job'].map(lambda x: bin_6(x))\n",
    "    df[\"batch_jobid\"] =  df['Jobid'].map(lambda x: x.split('_')[0]+\"_\"+x.split('_')[1])\n",
    "    df['num_of_corr'] = df['List of Coordinates'].map(lambda x: len(x)).astype(\"category\")\n",
    "\n",
    "    tmp = pd.get_dummies(df[\"num_of_corr\"])\n",
    "    tmp.columns = [\"13_coords\", \"17_coords\",\"18_coords\",\"23_coords\",\"26_coords\",\"54_coords\"]\n",
    "    df = pd.concat([df, tmp], axis=1)\n",
    "\n",
    "    df['Rot'][df['Rot'] == '5.00'] = '0.00'\n",
    "    tmp = pd.get_dummies(df[\"Rot\"])\n",
    "    tmp.columns = [\"Rot_0\", \"Rot_90\"]\n",
    "    df = pd.concat([df, tmp], axis=1)\n",
    "\n",
    "    temp = \"\".join(list(df[\"bin_seq_in_job\"].values))\n",
    "    array_temp = np.array([int(i) for i in temp]).reshape(-1,6)\n",
    "    DF_temp = pd.DataFrame(array_temp, columns = [\"pos_0\", \"pos_1\", \"pos_2\", \"pos_3\", \"pos_4\", \"pos_5\"])\n",
    "    DF_temp.index= df.index\n",
    "    df = pd.concat([df, DF_temp], axis=1)\n",
    "    result = []\n",
    "    for name, group in df.groupby('batch_jobid'):\n",
    "        if len(group) == 46:\n",
    "            #group[\"seq_in_job\"] = group[\"seq_in_job\"].astype(int)\n",
    "            #group.sort_values(\"seq_in_job\", inplace=True)\n",
    "            temp_x = group[[\"13_coords\",\"17_coords\",\"18_coords\",\"23_coords\",\"26_coords\",\"54_coords\",\"Rot_0\",\"Rot_90\",\n",
    "                           \"pos_0\", \"pos_1\", \"pos_2\", \"pos_3\", \"pos_4\", \"pos_5\"]].values.reshape(1,-1)\n",
    "            temp_y = group[[\"Metric2\",\"Metric3\",\"Metric4\"]].astype(float).mean()\n",
    "            temp_df = pd.DataFrame(np.concatenate((temp_x,temp_y.values.reshape(-1,1)), axis=None).reshape(1,-1), index = [name])\n",
    "            result.append(temp_df)\n",
    "    result = pd.concat(result)\n",
    "    train.append(result)"
   ]
  },
  {
   "cell_type": "code",
   "execution_count": 163,
   "metadata": {},
   "outputs": [],
   "source": [
    "train = pd.concat(train)"
   ]
  },
  {
   "cell_type": "code",
   "execution_count": 166,
   "metadata": {},
   "outputs": [],
   "source": [
    "train.to_csv(\"feature_of_end.csv\")"
   ]
  },
  {
   "cell_type": "code",
   "execution_count": null,
   "metadata": {},
   "outputs": [],
   "source": []
  },
  {
   "cell_type": "code",
   "execution_count": null,
   "metadata": {},
   "outputs": [],
   "source": []
  },
  {
   "cell_type": "code",
   "execution_count": null,
   "metadata": {},
   "outputs": [],
   "source": []
  },
  {
   "cell_type": "code",
   "execution_count": null,
   "metadata": {},
   "outputs": [],
   "source": []
  },
  {
   "cell_type": "code",
   "execution_count": null,
   "metadata": {},
   "outputs": [],
   "source": []
  },
  {
   "cell_type": "code",
   "execution_count": null,
   "metadata": {},
   "outputs": [],
   "source": []
  },
  {
   "cell_type": "code",
   "execution_count": null,
   "metadata": {},
   "outputs": [],
   "source": []
  },
  {
   "cell_type": "code",
   "execution_count": null,
   "metadata": {},
   "outputs": [],
   "source": []
  },
  {
   "cell_type": "code",
   "execution_count": null,
   "metadata": {},
   "outputs": [],
   "source": []
  },
  {
   "cell_type": "code",
   "execution_count": null,
   "metadata": {},
   "outputs": [],
   "source": []
  },
  {
   "cell_type": "code",
   "execution_count": null,
   "metadata": {},
   "outputs": [],
   "source": []
  },
  {
   "cell_type": "code",
   "execution_count": null,
   "metadata": {},
   "outputs": [],
   "source": []
  },
  {
   "cell_type": "code",
   "execution_count": null,
   "metadata": {},
   "outputs": [],
   "source": []
  },
  {
   "cell_type": "code",
   "execution_count": null,
   "metadata": {},
   "outputs": [],
   "source": []
  },
  {
   "cell_type": "code",
   "execution_count": null,
   "metadata": {},
   "outputs": [],
   "source": []
  },
  {
   "cell_type": "code",
   "execution_count": null,
   "metadata": {},
   "outputs": [],
   "source": []
  },
  {
   "cell_type": "code",
   "execution_count": null,
   "metadata": {},
   "outputs": [],
   "source": []
  },
  {
   "cell_type": "code",
   "execution_count": null,
   "metadata": {},
   "outputs": [],
   "source": []
  },
  {
   "cell_type": "code",
   "execution_count": null,
   "metadata": {},
   "outputs": [],
   "source": []
  },
  {
   "cell_type": "code",
   "execution_count": null,
   "metadata": {},
   "outputs": [],
   "source": []
  }
 ],
 "metadata": {
  "kernelspec": {
   "display_name": "data_mining",
   "language": "python",
   "name": "data_mining"
  },
  "language_info": {
   "codemirror_mode": {
    "name": "ipython",
    "version": 3
   },
   "file_extension": ".py",
   "mimetype": "text/x-python",
   "name": "python",
   "nbconvert_exporter": "python",
   "pygments_lexer": "ipython3",
   "version": "3.6.7"
  }
 },
 "nbformat": 4,
 "nbformat_minor": 2
}
