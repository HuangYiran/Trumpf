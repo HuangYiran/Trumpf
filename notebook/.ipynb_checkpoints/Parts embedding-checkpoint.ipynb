{
 "cells": [
  {
   "cell_type": "code",
   "execution_count": 1,
   "metadata": {},
   "outputs": [],
   "source": [
    "import random"
   ]
  },
  {
   "cell_type": "code",
   "execution_count": 2,
   "metadata": {},
   "outputs": [],
   "source": [
    "class Create_sentence:\n",
    "    def __init__(self, dict_parts, n = 10000):\n",
    "        \"\"\"\n",
    "        dict_parts, type of dictionary\n",
    "            store the information of each parts. similar parts are save under one key\n",
    "        n, type of int\n",
    "            set the total number of sentences to generate\n",
    "        \"\"\"\n",
    "        self.dict_parts = dict_parts\n",
    "        self.n = n\n",
    "    def __iter__(self):\n",
    "        for i in range(n):\n",
    "            # choose a key randomly\n",
    "            key = random.choice(dict_parts.keys())\n",
    "            value = random[key]\n",
    "            yield self._create_sentence_form_words(value)\n",
    "    def _create_sentence_from_words(value):\n",
    "        #TODO\n",
    "        pass"
   ]
  },
  {
   "cell_type": "code",
   "execution_count": null,
   "metadata": {},
   "outputs": [],
   "source": []
  }
 ],
 "metadata": {
  "kernelspec": {
   "display_name": "data_mining",
   "language": "python",
   "name": "data_mining"
  },
  "language_info": {
   "codemirror_mode": {
    "name": "ipython",
    "version": 3
   },
   "file_extension": ".py",
   "mimetype": "text/x-python",
   "name": "python",
   "nbconvert_exporter": "python",
   "pygments_lexer": "ipython3",
   "version": "3.6.7"
  }
 },
 "nbformat": 4,
 "nbformat_minor": 2
}
