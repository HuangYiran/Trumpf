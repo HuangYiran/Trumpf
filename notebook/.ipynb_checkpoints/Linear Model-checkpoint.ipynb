{
 "cells": [
  {
   "cell_type": "code",
   "execution_count": 12,
   "metadata": {},
   "outputs": [],
   "source": [
    "import pandas as pd\n",
    "import numpy as np\n",
    "import matplotlib.pyplot as plt\n",
    "import warnings\n",
    "warnings.filterwarnings(\"ignore\")\n",
    "import gc"
   ]
  },
  {
   "cell_type": "code",
   "execution_count": 20,
   "metadata": {},
   "outputs": [],
   "source": [
    "train = pd.read_csv(\"Fearue/feature_of_end.csv\",index_col = [0])\n",
    "train_x = train.iloc[:,:644]\n",
    "train_y = train.iloc[:,644:]\n",
    "\n",
    "from sklearn.model_selection import train_test_split\n",
    "\n",
    "X_train, X_test, y_train, y_test = train_test_split(train_x, train_y, test_size=0.33, random_state=42)\n",
    "del train\n",
    "del train_x\n",
    "del train_y\n",
    "gc.collect();"
   ]
  },
  {
   "cell_type": "markdown",
   "metadata": {},
   "source": [
    "# Base lines metric mse l1"
   ]
  },
  {
   "cell_type": "code",
   "execution_count": 32,
   "metadata": {},
   "outputs": [],
   "source": [
    "y_train.columns = [\"metric_2\", \"metric_3\", \"metric_4\"]"
   ]
  },
  {
   "cell_type": "code",
   "execution_count": 37,
   "metadata": {},
   "outputs": [
    {
     "name": "stdout",
     "output_type": "stream",
     "text": [
      " mean absolute error\n",
      "metric_2    86.442393\n",
      "metric_3    59.681651\n",
      "metric_4     0.116978\n",
      "dtype: float64\n",
      " \n",
      "\n",
      " mean squares error\n",
      "metric_2    10110.218582\n",
      "metric_3     5405.982377\n",
      "metric_4        0.021028\n",
      "dtype: float64\n"
     ]
    }
   ],
   "source": [
    "# naive prediction with mean \n",
    "from sklearn.metrics import mean_squared_error,  mean_absolute_error\n",
    "print(\" mean absolute error\")\n",
    "print(np.abs(y_train - y_train.mean()).mean())\n",
    "print(\" \\n\")\n",
    "print(\" mean squares error\")\n",
    "print(np.square(y_train - y_train.mean()).mean())"
   ]
  },
  {
   "cell_type": "markdown",
   "metadata": {},
   "source": [
    "# Linear Model"
   ]
  },
  {
   "cell_type": "code",
   "execution_count": 40,
   "metadata": {},
   "outputs": [
    {
     "name": "stdout",
     "output_type": "stream",
     "text": [
      "Mean squared error: 0.00\n",
      "Mean absolute error: 0.00\n"
     ]
    }
   ],
   "source": [
    "from sklearn import linear_model\n",
    "from sklearn.metrics import mean_squared_error, mean_absolute_error\n",
    "\n",
    "Linear_regression_model = linear_model.LinearRegression()\n",
    "Linear_regression_model.fit(X_train, y_train.iloc[:,0])\n",
    "\n",
    "y_train_prediction = Linear_regression_model.predict(X_train)\n",
    "\n",
    "print(\"Mean squared error: %.2f\" % mean_squared_error(y_train.iloc[:,0], y_train_prediction))\n",
    "\n",
    "print(\"Mean absolute error: %.2f\" % mean_absolute_error(y_train.iloc[:,0], y_train_prediction))"
   ]
  },
  {
   "cell_type": "code",
   "execution_count": 45,
   "metadata": {},
   "outputs": [
    {
     "name": "stdout",
     "output_type": "stream",
     "text": [
      "Mean squared error: 3.26\n",
      "Mean absolute error: 0.03\n"
     ]
    }
   ],
   "source": [
    "y_test_prediction = Linear_regression_model.predict(X_test)\n",
    "\n",
    "print(\"Mean squared error: %.2f\" % mean_squared_error(y_test.iloc[:,0], y_test_prediction))\n",
    "\n",
    "print(\"Mean absolute error: %.2f\" % mean_absolute_error(y_test.iloc[:,0], y_test_prediction))"
   ]
  },
  {
   "cell_type": "code",
   "execution_count": null,
   "metadata": {},
   "outputs": [],
   "source": []
  }
 ],
 "metadata": {
  "kernelspec": {
   "display_name": "Python 3",
   "language": "python",
   "name": "python3"
  },
  "language_info": {
   "codemirror_mode": {
    "name": "ipython",
    "version": 3
   },
   "file_extension": ".py",
   "mimetype": "text/x-python",
   "name": "python",
   "nbconvert_exporter": "python",
   "pygments_lexer": "ipython3",
   "version": "3.6.7"
  }
 },
 "nbformat": 4,
 "nbformat_minor": 2
}
