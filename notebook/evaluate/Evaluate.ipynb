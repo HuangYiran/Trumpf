{
 "cells": [
  {
   "cell_type": "code",
   "execution_count": 213,
   "metadata": {},
   "outputs": [],
   "source": [
    "import pandas as pd\n",
    "import numpy as np\n",
    "import time\n",
    "import torch\n",
    "import torch.nn as nn\n",
    "import torch.nn.functional as F\n",
    "import pickle\n",
    "import matplotlib.pyplot as plt\n",
    "\n",
    "from torch.utils.data import Dataset, DataLoader\n",
    "from tqdm import tqdm\n",
    "try:\n",
    "    from torch.hub import load_state_dict_from_url\n",
    "except ImportError:\n",
    "    from torch.utils.model_zoo import load_url as load_state_dict_from_url"
   ]
  },
  {
   "cell_type": "markdown",
   "metadata": {},
   "source": [
    "# load model, model dictionary and data"
   ]
  },
  {
   "cell_type": "code",
   "execution_count": 55,
   "metadata": {},
   "outputs": [
    {
     "name": "stdout",
     "output_type": "stream",
     "text": [
      "1 16\n",
      "16 32\n"
     ]
    }
   ],
   "source": [
    "# generate identity and load state dict\n",
    "#model = IncepLSTM(n = 16)\n",
    "model = CnnLSTM()\n",
    "model.load_state_dict(torch.load('../models/CnnLSTM/cnnlstm_230', map_location=torch.device('cpu')))"
   ]
  },
  {
   "cell_type": "code",
   "execution_count": 49,
   "metadata": {},
   "outputs": [],
   "source": [
    "loss = torch.nn.L1Loss()"
   ]
  },
  {
   "cell_type": "code",
   "execution_count": 56,
   "metadata": {},
   "outputs": [],
   "source": [
    "# set parameter and load data\n",
    "batch_size = 30\n",
    "#testdata = '../data/test_10_30.pkl'\n",
    "testdata = '../data/train.pickle'\n",
    "polysdata = '../data/matrix_feature.pickle'\n",
    "test = Data(testdata, polysdata)\n",
    "dl_test = DataLoader(test, batch_size = batch_size, shuffle = True)"
   ]
  },
  {
   "cell_type": "code",
   "execution_count": 89,
   "metadata": {},
   "outputs": [],
   "source": [
    "# load predict results\n",
    "import os"
   ]
  },
  {
   "cell_type": "code",
   "execution_count": 297,
   "metadata": {},
   "outputs": [],
   "source": [
    "root = '../results/test_10_10/'\n",
    "#root = '../results/test_10_20/'\n",
    "#root = '../results/test_10_30/'"
   ]
  },
  {
   "cell_type": "code",
   "execution_count": 298,
   "metadata": {},
   "outputs": [],
   "source": [
    "fns = os.listdir(root)"
   ]
  },
  {
   "cell_type": "code",
   "execution_count": 299,
   "metadata": {},
   "outputs": [],
   "source": [
    "# only take the file with npy\n",
    "fns = [i for i in fns if i.split('.')[-1] == 'npy']\n",
    "pred = [i for i in fns if i.split('.')[1] == 'pred']\n",
    "targ = [i for i in fns if i.split('.')[1] == 'tg']\n",
    "pred.sort()\n",
    "targ.sort()\n",
    "# load data\n",
    "preddata = []\n",
    "for i in pred:\n",
    "    preddata.append(np.load(root + i))\n",
    "targdata = []\n",
    "for i in targ:\n",
    "    targdata.append(np.load(root + i))\n",
    "preddata = np.concatenate(preddata, axis = 0)\n",
    "targdata = np.concatenate(targdata, axis = 0)\n",
    "preddata = torch.from_numpy(preddata)\n",
    "targdata = torch.from_numpy(targdata)"
   ]
  },
  {
   "cell_type": "markdown",
   "metadata": {},
   "source": [
    "# Evaluate hit rate through prediction"
   ]
  },
  {
   "cell_type": "code",
   "execution_count": 396,
   "metadata": {},
   "outputs": [
    {
     "data": {
      "image/png": "[encoded data removed]",
      "text/plain": [
       "<Figure size 576x288 with 1 Axes>"
      ]
     },
     "metadata": {
      "needs_background": "light"
     },
     "output_type": "display_data"
    }
   ],
   "source": [
    "labels = ['10new + 10old', '10new +20old', '10new +30old']\n",
    "x = np.arange(len(labels))\n",
    "width = 0.35\n",
    "fig, ax = plt.subplots(figsize = (8,4))\n",
    "ax.bar(x = x-width/2, height = [0.43, 0.52, 0.61], label = 'new')\n",
    "ax.bar(x = x+width/2, height = [0.36, 0.42, 0.51], label = 'old')\n",
    "ax.legend()\n",
    "plt.xticks(fontsize = 14)\n",
    "plt.yticks(fontsize = 14)\n",
    "ax.set_xticks(x)\n",
    "ax.set_xticklabels(labels)\n",
    "plt.savefig('accu.png', transparent=True, dpi = 300)"
   ]
  },
  {
   "cell_type": "code",
   "execution_count": null,
   "metadata": {},
   "outputs": [],
   "source": []
  },
  {
   "cell_type": "code",
   "execution_count": 300,
   "metadata": {
    "scrolled": true
   },
   "outputs": [
    {
     "data": {
      "text/plain": [
       "0.4270833333333333"
      ]
     },
     "execution_count": 300,
     "metadata": {},
     "output_type": "execute_result"
    }
   ],
   "source": [
    "metric1(targdata, preddata)"
   ]
  },
  {
   "cell_type": "code",
   "execution_count": 301,
   "metadata": {},
   "outputs": [],
   "source": [
    "result = metric2(targdata, preddata)"
   ]
  },
  {
   "cell_type": "code",
   "execution_count": 302,
   "metadata": {},
   "outputs": [],
   "source": [
    "sorted_result= sorted(result.items(), key = lambda x: x[0])"
   ]
  },
  {
   "cell_type": "code",
   "execution_count": 274,
   "metadata": {},
   "outputs": [
    {
     "data": {
      "text/plain": [
       "96"
      ]
     },
     "execution_count": 274,
     "metadata": {},
     "output_type": "execute_result"
    }
   ],
   "source": [
    "tmp= [i[1] for i in sorted_result]\n",
    "sum(tmp)"
   ]
  },
  {
   "cell_type": "code",
   "execution_count": 381,
   "metadata": {},
   "outputs": [],
   "source": [
    "new_result30 = [(0, 37), (1, 18), (2, 12), (3, 11), (4, 9), (5, 6), (6, 8), (7, 3), (8, 3), (9, 3), (10, 2), (11, 2), (12, 2), (13, 2), (14, 3), (15, 2), (18, 4), (22, 3), (23, 2), (24, 3), (27, 2),(28,1), (31, 2), (32, 1), (33, 1), (35, 1), (38, 1), (39, 1), (40, 1), (42, 1), (43, 1), (48, 1)]\n",
    "old_result30 = [(0, 33), (1, 20), (2, 6), (3, 5), (4, 4), (5, 4), (6, 4), (7, 3), (8, 4), (9, 5), (10, 4), (11, 1), (12, 2), (13, 2), (14, 4), (15, 4), (16, 3), (18, 3), (19, 2),(20, 3), (22, 2), (23, 3), (25, 3), (26, 2),(27, 2), (29, 1), (31, 1), (33, 1),(34, 1),(35, 1), (36, 1),(37, 1), (38, 1), (40, 1), (42, 1), (43, 2), (48, 1)]"
   ]
  },
  {
   "cell_type": "code",
   "execution_count": 399,
   "metadata": {},
   "outputs": [],
   "source": [
    "new_result20 = [(0, 33), (1, 19), (2, 9), (3, 13), (4, 7), (5, 5), (6, 5), (7, 2), (8, 6), (9, 6), (11, 2), (12, 8), (13, 3), (14, 5), (15, 4), (16, 2), (17, 1), (18, 1), (20, 1), (26, 2), (29, 1), (30, 1), (33, 1),(36, 2), (38, 1), (42, 2),(46, 1), (47, 1), (61, 1), (76, 1), (84, 1)]\n",
    "old_result20 = [(0, 29), (1, 13), (2, 12), (3, 11), (4, 3), (5, 5), (6, 4), (7, 3), (8, 4), (9, 5), (11, 2), (12, 5), (13, 3), (14, 3), (15, 1), (16, 1), (17, 1), (18, 2), (20, 2), (22, 1), (23, 1), (24, 3), (27, 1), (28, 1), (29, 1),(30, 3), (31,2), (33, 1), (34,2), (36, 1), (40, 2), (44,1)]"
   ]
  },
  {
   "cell_type": "code",
   "execution_count": null,
   "metadata": {},
   "outputs": [],
   "source": []
  },
  {
   "cell_type": "code",
   "execution_count": 379,
   "metadata": {},
   "outputs": [],
   "source": [
    "new_result10 = [(0, 25), (1, 14), (2, 9), (3, 7), (4, 9), (5, 3), (6, 6), (7, 1), (8, 6), (9, 4), (11, 4), (13, 6), (14, 3), (15, 3), (17, 3), (18, 3), (19, 1), (20, 1), (21, 1), (22, 1), (25, 1), (26, 2), (28, 1), (30, 1), (32, 1), (33, 1), (34, 1),(35, 1), (38, 2), (39, 1), (40, 1), (42, 1), (43, 1), (49, 1), (52, 1), (57, 1), (58, 1), (61, 2), (63, 1), (67, 1), (69, 1), (70, 1), (71, 1), (84, 1)]\n",
    "old_result10 = [(0, 16),(1, 13), (2, 7), (3, 4), (4, 4), (5, 6), (6, 3), (7, 4), (8, 4), (9, 3), (10, 3), (13, 1), (14, 6), (15, 3), (17, 2), (18, 5), (19, 4), (20, 3), (21, 1), (22, 1), (23, 2), (24, 2), (25, 1), (27, 1), (28,1), (30, 1), (32, 1), (33, 1), (35, 4), (36, 3),(37,1),(38, 4), (39, 1), (40, 3), (41, 2), (42,2), (43, 1), (44, 1), (49, 1), (52, 1), (57, 1), (58, 1), (61, 2)]"
   ]
  },
  {
   "cell_type": "code",
   "execution_count": 393,
   "metadata": {},
   "outputs": [
    {
     "data": {
      "image/png": "[encoded data removed]",
      "text/plain": [
       "<Figure size 1008x432 with 1 Axes>"
      ]
     },
     "metadata": {
      "needs_background": "light"
     },
     "output_type": "display_data"
    }
   ],
   "source": [
    "plt.figure(figsize=(14,6))\n",
    "plt.plot( [i[0] for i in new_result10][:5],  [i[1] for i in new_result10][:5],  'o--', label = 'top5-new')\n",
    "plt.plot( [i[0] for i in new_result10][5:],  [i[1] for i in new_result10][5:],  'o--', label = 'rest-new')\n",
    "plt.plot( [i[0] for i in old_result10][:5],  [i[1] for i in old_result10][:5],  'o--', label = 'top5-old')\n",
    "plt.plot( [i[0] for i in old_result10][5:],  [i[1] for i in old_result10][5:],  'o--', label = 'rest-old')\n",
    "plt.xlim(-1, 44)\n",
    "plt.ylim(-1, 40)\n",
    "plt.xticks(fontsize = 16)\n",
    "plt.yticks(fontsize = 16)\n",
    "plt.legend()\n",
    "plt.savefig('test_10_10.png', transparent=True,dpi = 300)"
   ]
  },
  {
   "cell_type": "code",
   "execution_count": 400,
   "metadata": {},
   "outputs": [
    {
     "data": {
      "image/png": "[encoded data removed]",
      "text/plain": [
       "<Figure size 1008x432 with 1 Axes>"
      ]
     },
     "metadata": {
      "needs_background": "light"
     },
     "output_type": "display_data"
    }
   ],
   "source": [
    "plt.figure(figsize=(14,6))\n",
    "plt.plot( [i[0] for i in new_result20][:5],  [i[1] for i in new_result20][:5],  'o--', label = 'top5-new')\n",
    "plt.plot( [i[0] for i in new_result20][5:],  [i[1] for i in new_result20][5:],  'o--', label = 'rest-new')\n",
    "plt.plot( [i[0] for i in old_result20][:5],  [i[1] for i in old_result20][:5],  'o--', label = 'top5-old')\n",
    "plt.plot( [i[0] for i in old_result20][5:],  [i[1] for i in old_result20][5:],  'o--', label = 'rest-old')\n",
    "plt.xticks(fontsize = 16)\n",
    "plt.yticks(fontsize = 16)\n",
    "plt.xlim(-1, 44)\n",
    "plt.ylim(-1, 40)\n",
    "plt.legend()\n",
    "plt.savefig('test_10_20.png', transparent=True, dpi = 300)"
   ]
  },
  {
   "cell_type": "code",
   "execution_count": 391,
   "metadata": {},
   "outputs": [
    {
     "data": {
      "image/png": "[encoded data removed]",
      "text/plain": [
       "<Figure size 1008x432 with 1 Axes>"
      ]
     },
     "metadata": {
      "needs_background": "light"
     },
     "output_type": "display_data"
    }
   ],
   "source": [
    "plt.figure(figsize=(14,6))\n",
    "plt.plot( [i[0] for i in new_result30][:5],  [i[1] for i in new_result30][:5],  'o--', label = 'top5-new')\n",
    "plt.plot( [i[0] for i in new_result30][5:],  [i[1] for i in new_result30][5:],  'o--', label = 'rest-new')\n",
    "plt.plot( [i[0] for i in old_result30][:5],  [i[1] for i in old_result30][:5],  'o--', label = 'top5-old')\n",
    "plt.plot( [i[0] for i in old_result30][5:],  [i[1] for i in old_result30][5:],  'o--', label = 'rest-old')\n",
    "plt.xlim(-1, 44)\n",
    "plt.ylim(-1, 40)\n",
    "plt.xticks(fontsize = 16)\n",
    "plt.yticks(fontsize = 16)\n",
    "plt.legend()\n",
    "plt.savefig('test_10_30.png', transparent=True,dpi = 300)"
   ]
  },
  {
   "cell_type": "markdown",
   "metadata": {},
   "source": [
    "# Evaluate hit rate through model"
   ]
  },
  {
   "cell_type": "code",
   "execution_count": 57,
   "metadata": {
    "scrolled": true
   },
   "outputs": [
    {
     "name": "stdout",
     "output_type": "stream",
     "text": [
      "Test Batch:  [0/2827 (0%)]\tacc: 0.326048\tTime: 1574429170.6443529129028320\n",
      "Test Batch:  [1/2827 (0%)]\tacc: 0.330150\tTime: 1574429209.0705909729003906\n",
      "Test Batch:  [2/2827 (0%)]\tacc: 0.296015\tTime: 1574429247.4286258220672607\n",
      "Test Batch:  [3/2827 (0%)]\tacc: 0.314346\tTime: 1574429283.3786828517913818\n",
      "Test Batch:  [4/2827 (0%)]\tacc: 0.357756\tTime: 1574429320.6854641437530518\n",
      "Test Batch:  [5/2827 (0%)]\tacc: 0.288279\tTime: 1574429356.7811350822448730\n"
     ]
    },
    {
     "ename": "KeyboardInterrupt",
     "evalue": "",
     "output_type": "error",
     "traceback": [
      "\u001b[0;31m---------------------------------------------------------------------------\u001b[0m",
      "\u001b[0;31mKeyboardInterrupt\u001b[0m                         Traceback (most recent call last)",
      "\u001b[0;32m<ipython-input-57-9487d3008e11>\u001b[0m in \u001b[0;36m<module>\u001b[0;34m\u001b[0m\n\u001b[0;32m----> 1\u001b[0;31m \u001b[0mtest_with_loss\u001b[0m\u001b[0;34m(\u001b[0m\u001b[0mdl_test\u001b[0m\u001b[0;34m,\u001b[0m \u001b[0mmodel\u001b[0m\u001b[0;34m,\u001b[0m \u001b[0mloss\u001b[0m\u001b[0;34m,\u001b[0m \u001b[0;32mTrue\u001b[0m\u001b[0;34m)\u001b[0m\u001b[0;34m\u001b[0m\u001b[0;34m\u001b[0m\u001b[0m\n\u001b[0m",
      "\u001b[0;32m<ipython-input-50-5b26677113e3>\u001b[0m in \u001b[0;36mtest_with_loss\u001b[0;34m(dl_test, model, loss, verbose)\u001b[0m\n\u001b[1;32m      4\u001b[0m     \u001b[0mhit\u001b[0m \u001b[0;34m=\u001b[0m \u001b[0;36m0\u001b[0m\u001b[0;34m\u001b[0m\u001b[0;34m\u001b[0m\u001b[0m\n\u001b[1;32m      5\u001b[0m     \u001b[0mmiss\u001b[0m \u001b[0;34m=\u001b[0m \u001b[0;36m0\u001b[0m\u001b[0;34m\u001b[0m\u001b[0;34m\u001b[0m\u001b[0m\n\u001b[0;32m----> 6\u001b[0;31m     \u001b[0;32mfor\u001b[0m \u001b[0mbatch_idx\u001b[0m\u001b[0;34m,\u001b[0m \u001b[0mdat\u001b[0m \u001b[0;32min\u001b[0m \u001b[0menumerate\u001b[0m\u001b[0;34m(\u001b[0m\u001b[0mdl_test\u001b[0m\u001b[0;34m)\u001b[0m\u001b[0;34m:\u001b[0m\u001b[0;34m\u001b[0m\u001b[0;34m\u001b[0m\u001b[0m\n\u001b[0m\u001b[1;32m      7\u001b[0m         \u001b[0mcounter\u001b[0m \u001b[0;34m+=\u001b[0m \u001b[0;36m1\u001b[0m\u001b[0;34m\u001b[0m\u001b[0;34m\u001b[0m\u001b[0m\n\u001b[1;32m      8\u001b[0m         \u001b[0minp\u001b[0m\u001b[0;34m,\u001b[0m \u001b[0mtarget\u001b[0m \u001b[0;34m=\u001b[0m \u001b[0mdat\u001b[0m\u001b[0;34m\u001b[0m\u001b[0;34m\u001b[0m\u001b[0m\n",
      "\u001b[0;32m/anaconda3/envs/work/lib/python3.6/site-packages/torch/utils/data/dataloader.py\u001b[0m in \u001b[0;36m__next__\u001b[0;34m(self)\u001b[0m\n\u001b[1;32m    613\u001b[0m         \u001b[0;32mif\u001b[0m \u001b[0mself\u001b[0m\u001b[0;34m.\u001b[0m\u001b[0mnum_workers\u001b[0m \u001b[0;34m==\u001b[0m \u001b[0;36m0\u001b[0m\u001b[0;34m:\u001b[0m  \u001b[0;31m# same-process loading\u001b[0m\u001b[0;34m\u001b[0m\u001b[0;34m\u001b[0m\u001b[0m\n\u001b[1;32m    614\u001b[0m             \u001b[0mindices\u001b[0m \u001b[0;34m=\u001b[0m \u001b[0mnext\u001b[0m\u001b[0;34m(\u001b[0m\u001b[0mself\u001b[0m\u001b[0;34m.\u001b[0m\u001b[0msample_iter\u001b[0m\u001b[0;34m)\u001b[0m  \u001b[0;31m# may raise StopIteration\u001b[0m\u001b[0;34m\u001b[0m\u001b[0;34m\u001b[0m\u001b[0m\n\u001b[0;32m--> 615\u001b[0;31m             \u001b[0mbatch\u001b[0m \u001b[0;34m=\u001b[0m \u001b[0mself\u001b[0m\u001b[0;34m.\u001b[0m\u001b[0mcollate_fn\u001b[0m\u001b[0;34m(\u001b[0m\u001b[0;34m[\u001b[0m\u001b[0mself\u001b[0m\u001b[0;34m.\u001b[0m\u001b[0mdataset\u001b[0m\u001b[0;34m[\u001b[0m\u001b[0mi\u001b[0m\u001b[0;34m]\u001b[0m \u001b[0;32mfor\u001b[0m \u001b[0mi\u001b[0m \u001b[0;32min\u001b[0m \u001b[0mindices\u001b[0m\u001b[0;34m]\u001b[0m\u001b[0;34m)\u001b[0m\u001b[0;34m\u001b[0m\u001b[0;34m\u001b[0m\u001b[0m\n\u001b[0m\u001b[1;32m    616\u001b[0m             \u001b[0;32mif\u001b[0m \u001b[0mself\u001b[0m\u001b[0;34m.\u001b[0m\u001b[0mpin_memory\u001b[0m\u001b[0;34m:\u001b[0m\u001b[0;34m\u001b[0m\u001b[0;34m\u001b[0m\u001b[0m\n\u001b[1;32m    617\u001b[0m                 \u001b[0mbatch\u001b[0m \u001b[0;34m=\u001b[0m \u001b[0mpin_memory_batch\u001b[0m\u001b[0;34m(\u001b[0m\u001b[0mbatch\u001b[0m\u001b[0;34m)\u001b[0m\u001b[0;34m\u001b[0m\u001b[0;34m\u001b[0m\u001b[0m\n",
      "\u001b[0;32m/anaconda3/envs/work/lib/python3.6/site-packages/torch/utils/data/dataloader.py\u001b[0m in \u001b[0;36mdefault_collate\u001b[0;34m(batch)\u001b[0m\n\u001b[1;32m    230\u001b[0m     \u001b[0;32melif\u001b[0m \u001b[0misinstance\u001b[0m\u001b[0;34m(\u001b[0m\u001b[0mbatch\u001b[0m\u001b[0;34m[\u001b[0m\u001b[0;36m0\u001b[0m\u001b[0;34m]\u001b[0m\u001b[0;34m,\u001b[0m \u001b[0mcontainer_abcs\u001b[0m\u001b[0;34m.\u001b[0m\u001b[0mSequence\u001b[0m\u001b[0;34m)\u001b[0m\u001b[0;34m:\u001b[0m\u001b[0;34m\u001b[0m\u001b[0;34m\u001b[0m\u001b[0m\n\u001b[1;32m    231\u001b[0m         \u001b[0mtransposed\u001b[0m \u001b[0;34m=\u001b[0m \u001b[0mzip\u001b[0m\u001b[0;34m(\u001b[0m\u001b[0;34m*\u001b[0m\u001b[0mbatch\u001b[0m\u001b[0;34m)\u001b[0m\u001b[0;34m\u001b[0m\u001b[0;34m\u001b[0m\u001b[0m\n\u001b[0;32m--> 232\u001b[0;31m         \u001b[0;32mreturn\u001b[0m \u001b[0;34m[\u001b[0m\u001b[0mdefault_collate\u001b[0m\u001b[0;34m(\u001b[0m\u001b[0msamples\u001b[0m\u001b[0;34m)\u001b[0m \u001b[0;32mfor\u001b[0m \u001b[0msamples\u001b[0m \u001b[0;32min\u001b[0m \u001b[0mtransposed\u001b[0m\u001b[0;34m]\u001b[0m\u001b[0;34m\u001b[0m\u001b[0;34m\u001b[0m\u001b[0m\n\u001b[0m\u001b[1;32m    233\u001b[0m \u001b[0;34m\u001b[0m\u001b[0m\n\u001b[1;32m    234\u001b[0m     \u001b[0;32mraise\u001b[0m \u001b[0mTypeError\u001b[0m\u001b[0;34m(\u001b[0m\u001b[0;34m(\u001b[0m\u001b[0merror_msg\u001b[0m\u001b[0;34m.\u001b[0m\u001b[0mformat\u001b[0m\u001b[0;34m(\u001b[0m\u001b[0mtype\u001b[0m\u001b[0;34m(\u001b[0m\u001b[0mbatch\u001b[0m\u001b[0;34m[\u001b[0m\u001b[0;36m0\u001b[0m\u001b[0;34m]\u001b[0m\u001b[0;34m)\u001b[0m\u001b[0;34m)\u001b[0m\u001b[0;34m)\u001b[0m\u001b[0;34m)\u001b[0m\u001b[0;34m\u001b[0m\u001b[0;34m\u001b[0m\u001b[0m\n",
      "\u001b[0;32m/anaconda3/envs/work/lib/python3.6/site-packages/torch/utils/data/dataloader.py\u001b[0m in \u001b[0;36m<listcomp>\u001b[0;34m(.0)\u001b[0m\n\u001b[1;32m    230\u001b[0m     \u001b[0;32melif\u001b[0m \u001b[0misinstance\u001b[0m\u001b[0;34m(\u001b[0m\u001b[0mbatch\u001b[0m\u001b[0;34m[\u001b[0m\u001b[0;36m0\u001b[0m\u001b[0;34m]\u001b[0m\u001b[0;34m,\u001b[0m \u001b[0mcontainer_abcs\u001b[0m\u001b[0;34m.\u001b[0m\u001b[0mSequence\u001b[0m\u001b[0;34m)\u001b[0m\u001b[0;34m:\u001b[0m\u001b[0;34m\u001b[0m\u001b[0;34m\u001b[0m\u001b[0m\n\u001b[1;32m    231\u001b[0m         \u001b[0mtransposed\u001b[0m \u001b[0;34m=\u001b[0m \u001b[0mzip\u001b[0m\u001b[0;34m(\u001b[0m\u001b[0;34m*\u001b[0m\u001b[0mbatch\u001b[0m\u001b[0;34m)\u001b[0m\u001b[0;34m\u001b[0m\u001b[0;34m\u001b[0m\u001b[0m\n\u001b[0;32m--> 232\u001b[0;31m         \u001b[0;32mreturn\u001b[0m \u001b[0;34m[\u001b[0m\u001b[0mdefault_collate\u001b[0m\u001b[0;34m(\u001b[0m\u001b[0msamples\u001b[0m\u001b[0;34m)\u001b[0m \u001b[0;32mfor\u001b[0m \u001b[0msamples\u001b[0m \u001b[0;32min\u001b[0m \u001b[0mtransposed\u001b[0m\u001b[0;34m]\u001b[0m\u001b[0;34m\u001b[0m\u001b[0;34m\u001b[0m\u001b[0m\n\u001b[0m\u001b[1;32m    233\u001b[0m \u001b[0;34m\u001b[0m\u001b[0m\n\u001b[1;32m    234\u001b[0m     \u001b[0;32mraise\u001b[0m \u001b[0mTypeError\u001b[0m\u001b[0;34m(\u001b[0m\u001b[0;34m(\u001b[0m\u001b[0merror_msg\u001b[0m\u001b[0;34m.\u001b[0m\u001b[0mformat\u001b[0m\u001b[0;34m(\u001b[0m\u001b[0mtype\u001b[0m\u001b[0;34m(\u001b[0m\u001b[0mbatch\u001b[0m\u001b[0;34m[\u001b[0m\u001b[0;36m0\u001b[0m\u001b[0;34m]\u001b[0m\u001b[0;34m)\u001b[0m\u001b[0;34m)\u001b[0m\u001b[0;34m)\u001b[0m\u001b[0;34m)\u001b[0m\u001b[0;34m\u001b[0m\u001b[0;34m\u001b[0m\u001b[0m\n",
      "\u001b[0;32m/anaconda3/envs/work/lib/python3.6/site-packages/torch/utils/data/dataloader.py\u001b[0m in \u001b[0;36mdefault_collate\u001b[0;34m(batch)\u001b[0m\n\u001b[1;32m    207\u001b[0m             \u001b[0mstorage\u001b[0m \u001b[0;34m=\u001b[0m \u001b[0mbatch\u001b[0m\u001b[0;34m[\u001b[0m\u001b[0;36m0\u001b[0m\u001b[0;34m]\u001b[0m\u001b[0;34m.\u001b[0m\u001b[0mstorage\u001b[0m\u001b[0;34m(\u001b[0m\u001b[0;34m)\u001b[0m\u001b[0;34m.\u001b[0m\u001b[0m_new_shared\u001b[0m\u001b[0;34m(\u001b[0m\u001b[0mnumel\u001b[0m\u001b[0;34m)\u001b[0m\u001b[0;34m\u001b[0m\u001b[0;34m\u001b[0m\u001b[0m\n\u001b[1;32m    208\u001b[0m             \u001b[0mout\u001b[0m \u001b[0;34m=\u001b[0m \u001b[0mbatch\u001b[0m\u001b[0;34m[\u001b[0m\u001b[0;36m0\u001b[0m\u001b[0;34m]\u001b[0m\u001b[0;34m.\u001b[0m\u001b[0mnew\u001b[0m\u001b[0;34m(\u001b[0m\u001b[0mstorage\u001b[0m\u001b[0;34m)\u001b[0m\u001b[0;34m\u001b[0m\u001b[0;34m\u001b[0m\u001b[0m\n\u001b[0;32m--> 209\u001b[0;31m         \u001b[0;32mreturn\u001b[0m \u001b[0mtorch\u001b[0m\u001b[0;34m.\u001b[0m\u001b[0mstack\u001b[0m\u001b[0;34m(\u001b[0m\u001b[0mbatch\u001b[0m\u001b[0;34m,\u001b[0m \u001b[0;36m0\u001b[0m\u001b[0;34m,\u001b[0m \u001b[0mout\u001b[0m\u001b[0;34m=\u001b[0m\u001b[0mout\u001b[0m\u001b[0;34m)\u001b[0m\u001b[0;34m\u001b[0m\u001b[0;34m\u001b[0m\u001b[0m\n\u001b[0m\u001b[1;32m    210\u001b[0m     \u001b[0;32melif\u001b[0m \u001b[0melem_type\u001b[0m\u001b[0;34m.\u001b[0m\u001b[0m__module__\u001b[0m \u001b[0;34m==\u001b[0m \u001b[0;34m'numpy'\u001b[0m \u001b[0;32mand\u001b[0m \u001b[0melem_type\u001b[0m\u001b[0;34m.\u001b[0m\u001b[0m__name__\u001b[0m \u001b[0;34m!=\u001b[0m \u001b[0;34m'str_'\u001b[0m\u001b[0;31m \u001b[0m\u001b[0;31m\\\u001b[0m\u001b[0;34m\u001b[0m\u001b[0;34m\u001b[0m\u001b[0m\n\u001b[1;32m    211\u001b[0m             \u001b[0;32mand\u001b[0m \u001b[0melem_type\u001b[0m\u001b[0;34m.\u001b[0m\u001b[0m__name__\u001b[0m \u001b[0;34m!=\u001b[0m \u001b[0;34m'string_'\u001b[0m\u001b[0;34m:\u001b[0m\u001b[0;34m\u001b[0m\u001b[0;34m\u001b[0m\u001b[0m\n",
      "\u001b[0;31mKeyboardInterrupt\u001b[0m: "
     ]
    }
   ],
   "source": [
    "test_with_loss(dl_test, model, loss, True)"
   ]
  },
  {
   "cell_type": "code",
   "execution_count": 47,
   "metadata": {
    "scrolled": true
   },
   "outputs": [
    {
     "name": "stdout",
     "output_type": "stream",
     "text": [
      "tensor([29])\n",
      "tensor([ 1,  8, 29, 14, 19])\n",
      "**********\n",
      "Test Batch: [0/548 (0%)]\tacc: 1.000000\tTime: 1574426465.8332080841064453\n",
      "tensor([9])\n",
      "tensor([ 9,  5, 20, 14,  4])\n",
      "**********\n",
      "Test Batch: [1/548 (0%)]\tacc: 1.000000\tTime: 1574426499.5455369949340820\n",
      "tensor([27])\n",
      "tensor([20, 27,  3,  2,  5])\n",
      "**********\n",
      "Test Batch: [2/548 (0%)]\tacc: 1.000000\tTime: 1574426532.3810710906982422\n",
      "tensor([0])\n",
      "tensor([ 0, 25,  1,  9,  5])\n",
      "**********\n",
      "Test Batch: [3/548 (1%)]\tacc: 1.000000\tTime: 1574426563.7712020874023438\n",
      "tensor([6])\n",
      "tensor([ 6, 24, 22,  1, 25])\n",
      "**********\n",
      "Test Batch: [4/548 (1%)]\tacc: 1.000000\tTime: 1574426593.5915231704711914\n",
      "tensor([4])\n",
      "tensor([15,  5, 25, 12,  8])\n",
      "**********\n",
      "Test Batch: [5/548 (1%)]\tacc: 0.833333\tTime: 1574426626.0768420696258545\n",
      "tensor([23])\n",
      "tensor([ 6, 18,  7, 27, 26])\n",
      "**********\n",
      "Test Batch: [6/548 (1%)]\tacc: 0.714286\tTime: 1574426658.4199190139770508\n",
      "tensor([6])\n",
      "tensor([26, 18,  0, 28,  5])\n",
      "**********\n",
      "Test Batch: [7/548 (1%)]\tacc: 0.625000\tTime: 1574426697.1748328208923340\n",
      "tensor([26])\n",
      "tensor([ 7, 15, 26,  1,  8])\n",
      "**********\n",
      "Test Batch: [8/548 (1%)]\tacc: 0.666667\tTime: 1574426728.4124469757080078\n",
      "tensor([0])\n",
      "tensor([ 6, 19, 18, 14, 10])\n",
      "**********\n",
      "Test Batch: [9/548 (2%)]\tacc: 0.600000\tTime: 1574426759.7421879768371582\n",
      "tensor([23])\n",
      "tensor([23, 24, 11, 16,  1])\n",
      "**********\n",
      "Test Batch: [10/548 (2%)]\tacc: 0.636364\tTime: 1574426791.8279130458831787\n",
      "tensor([1])\n",
      "tensor([ 1, 17, 18,  6,  7])\n",
      "**********\n",
      "Test Batch: [11/548 (2%)]\tacc: 0.666667\tTime: 1574426823.1759328842163086\n",
      "tensor([17])\n",
      "tensor([11, 13, 29, 14,  7])\n",
      "**********\n",
      "Test Batch: [12/548 (2%)]\tacc: 0.615385\tTime: 1574426857.3354051113128662\n",
      "tensor([0])\n",
      "tensor([ 2,  6, 18, 10,  9])\n",
      "**********\n",
      "Test Batch: [13/548 (2%)]\tacc: 0.571429\tTime: 1574426889.0840160846710205\n",
      "tensor([10])\n",
      "tensor([ 1,  3, 16, 10,  7])\n",
      "**********\n",
      "Test Batch: [14/548 (3%)]\tacc: 0.600000\tTime: 1574426919.6871778964996338\n",
      "tensor([10])\n",
      "tensor([10, 25, 26,  5,  4])\n",
      "**********\n",
      "Test Batch: [15/548 (3%)]\tacc: 0.625000\tTime: 1574426951.9046709537506104\n",
      "tensor([15])\n",
      "tensor([15,  9,  7, 20, 25])\n",
      "**********\n",
      "Test Batch: [16/548 (3%)]\tacc: 0.647059\tTime: 1574426984.7153558731079102\n",
      "tensor([3])\n",
      "tensor([27,  5,  2, 10,  1])\n",
      "**********\n",
      "Test Batch: [17/548 (3%)]\tacc: 0.611111\tTime: 1574427018.6168179512023926\n",
      "tensor([26])\n",
      "tensor([27, 10, 15,  6, 12])\n",
      "**********\n",
      "Test Batch: [18/548 (3%)]\tacc: 0.578947\tTime: 1574427055.8283469676971436\n"
     ]
    },
    {
     "ename": "KeyboardInterrupt",
     "evalue": "",
     "output_type": "error",
     "traceback": [
      "\u001b[0;31m---------------------------------------------------------------------------\u001b[0m",
      "\u001b[0;31mKeyboardInterrupt\u001b[0m                         Traceback (most recent call last)",
      "\u001b[0;32m<ipython-input-47-26ff87cb1607>\u001b[0m in \u001b[0;36m<module>\u001b[0;34m\u001b[0m\n\u001b[0;32m----> 1\u001b[0;31m \u001b[0macc\u001b[0m \u001b[0;34m=\u001b[0m \u001b[0msignificant_test\u001b[0m\u001b[0;34m(\u001b[0m\u001b[0mdl_test\u001b[0m\u001b[0;34m,\u001b[0m \u001b[0mmodel\u001b[0m\u001b[0;34m,\u001b[0m \u001b[0;32mTrue\u001b[0m\u001b[0;34m)\u001b[0m\u001b[0;34m\u001b[0m\u001b[0;34m\u001b[0m\u001b[0m\n\u001b[0m",
      "\u001b[0;32m<ipython-input-36-e2c2823c81fe>\u001b[0m in \u001b[0;36msignificant_test\u001b[0;34m(dl_test, model, verbose)\u001b[0m\n\u001b[1;32m     13\u001b[0m         \u001b[0;31m# codes to be changed\u001b[0m\u001b[0;34m\u001b[0m\u001b[0;34m\u001b[0m\u001b[0;34m\u001b[0m\u001b[0m\n\u001b[1;32m     14\u001b[0m         \u001b[0minp\u001b[0m\u001b[0;34m,\u001b[0m \u001b[0mtarget\u001b[0m \u001b[0;34m=\u001b[0m \u001b[0mdat\u001b[0m\u001b[0;34m\u001b[0m\u001b[0;34m\u001b[0m\u001b[0m\n\u001b[0;32m---> 15\u001b[0;31m         \u001b[0mout\u001b[0m \u001b[0;34m=\u001b[0m \u001b[0mmodel\u001b[0m\u001b[0;34m(\u001b[0m\u001b[0minp\u001b[0m\u001b[0;34m)\u001b[0m\u001b[0;34m\u001b[0m\u001b[0;34m\u001b[0m\u001b[0m\n\u001b[0m\u001b[1;32m     16\u001b[0m         \u001b[0;31m#target = target.mean(dim = 1)\u001b[0m\u001b[0;34m\u001b[0m\u001b[0;34m\u001b[0m\u001b[0;34m\u001b[0m\u001b[0m\n\u001b[1;32m     17\u001b[0m         \u001b[0mtarget\u001b[0m \u001b[0;34m=\u001b[0m \u001b[0mtarget\u001b[0m\u001b[0;34m[\u001b[0m\u001b[0;34m:\u001b[0m\u001b[0;34m,\u001b[0m \u001b[0;34m:\u001b[0m\u001b[0;34m]\u001b[0m\u001b[0;34m.\u001b[0m\u001b[0mmean\u001b[0m\u001b[0;34m(\u001b[0m\u001b[0mdim\u001b[0m \u001b[0;34m=\u001b[0m \u001b[0;36m1\u001b[0m\u001b[0;34m)\u001b[0m\u001b[0;34m.\u001b[0m\u001b[0msqueeze\u001b[0m\u001b[0;34m(\u001b[0m\u001b[0;34m)\u001b[0m\u001b[0;34m\u001b[0m\u001b[0;34m\u001b[0m\u001b[0m\n",
      "\u001b[0;32m/anaconda3/envs/work/lib/python3.6/site-packages/torch/nn/modules/module.py\u001b[0m in \u001b[0;36m__call__\u001b[0;34m(self, *input, **kwargs)\u001b[0m\n\u001b[1;32m    487\u001b[0m             \u001b[0mresult\u001b[0m \u001b[0;34m=\u001b[0m \u001b[0mself\u001b[0m\u001b[0;34m.\u001b[0m\u001b[0m_slow_forward\u001b[0m\u001b[0;34m(\u001b[0m\u001b[0;34m*\u001b[0m\u001b[0minput\u001b[0m\u001b[0;34m,\u001b[0m \u001b[0;34m**\u001b[0m\u001b[0mkwargs\u001b[0m\u001b[0;34m)\u001b[0m\u001b[0;34m\u001b[0m\u001b[0;34m\u001b[0m\u001b[0m\n\u001b[1;32m    488\u001b[0m         \u001b[0;32melse\u001b[0m\u001b[0;34m:\u001b[0m\u001b[0;34m\u001b[0m\u001b[0;34m\u001b[0m\u001b[0m\n\u001b[0;32m--> 489\u001b[0;31m             \u001b[0mresult\u001b[0m \u001b[0;34m=\u001b[0m \u001b[0mself\u001b[0m\u001b[0;34m.\u001b[0m\u001b[0mforward\u001b[0m\u001b[0;34m(\u001b[0m\u001b[0;34m*\u001b[0m\u001b[0minput\u001b[0m\u001b[0;34m,\u001b[0m \u001b[0;34m**\u001b[0m\u001b[0mkwargs\u001b[0m\u001b[0;34m)\u001b[0m\u001b[0;34m\u001b[0m\u001b[0;34m\u001b[0m\u001b[0m\n\u001b[0m\u001b[1;32m    490\u001b[0m         \u001b[0;32mfor\u001b[0m \u001b[0mhook\u001b[0m \u001b[0;32min\u001b[0m \u001b[0mself\u001b[0m\u001b[0;34m.\u001b[0m\u001b[0m_forward_hooks\u001b[0m\u001b[0;34m.\u001b[0m\u001b[0mvalues\u001b[0m\u001b[0;34m(\u001b[0m\u001b[0;34m)\u001b[0m\u001b[0;34m:\u001b[0m\u001b[0;34m\u001b[0m\u001b[0;34m\u001b[0m\u001b[0m\n\u001b[1;32m    491\u001b[0m             \u001b[0mhook_result\u001b[0m \u001b[0;34m=\u001b[0m \u001b[0mhook\u001b[0m\u001b[0;34m(\u001b[0m\u001b[0mself\u001b[0m\u001b[0;34m,\u001b[0m \u001b[0minput\u001b[0m\u001b[0;34m,\u001b[0m \u001b[0mresult\u001b[0m\u001b[0;34m)\u001b[0m\u001b[0;34m\u001b[0m\u001b[0;34m\u001b[0m\u001b[0m\n",
      "\u001b[0;32m<ipython-input-4-3adbce60031e>\u001b[0m in \u001b[0;36mforward\u001b[0;34m(self, xs)\u001b[0m\n\u001b[1;32m     30\u001b[0m             \u001b[0;31m#print('%'*20)\u001b[0m\u001b[0;34m\u001b[0m\u001b[0;34m\u001b[0m\u001b[0;34m\u001b[0m\u001b[0m\n\u001b[1;32m     31\u001b[0m             \u001b[0;31m#print('round: '+ str(i))\u001b[0m\u001b[0;34m\u001b[0m\u001b[0;34m\u001b[0m\u001b[0;34m\u001b[0m\u001b[0m\n\u001b[0;32m---> 32\u001b[0;31m             \u001b[0mtmp\u001b[0m \u001b[0;34m=\u001b[0m \u001b[0mself\u001b[0m\u001b[0;34m.\u001b[0m\u001b[0mcnn\u001b[0m\u001b[0;34m(\u001b[0m\u001b[0mxs\u001b[0m\u001b[0;34m[\u001b[0m\u001b[0;34m:\u001b[0m\u001b[0;34m,\u001b[0m\u001b[0mi\u001b[0m\u001b[0;34m,\u001b[0m\u001b[0;34m:\u001b[0m\u001b[0;34m,\u001b[0m\u001b[0;34m:\u001b[0m\u001b[0;34m]\u001b[0m\u001b[0;34m.\u001b[0m\u001b[0munsqueeze\u001b[0m\u001b[0;34m(\u001b[0m\u001b[0;36m1\u001b[0m\u001b[0;34m)\u001b[0m\u001b[0;34m)\u001b[0m\u001b[0;34m\u001b[0m\u001b[0;34m\u001b[0m\u001b[0m\n\u001b[0m\u001b[1;32m     33\u001b[0m             \u001b[0mco\u001b[0m\u001b[0;34m.\u001b[0m\u001b[0mappend\u001b[0m\u001b[0;34m(\u001b[0m\u001b[0mtmp\u001b[0m\u001b[0;34m.\u001b[0m\u001b[0msqueeze\u001b[0m\u001b[0;34m(\u001b[0m\u001b[0;34m)\u001b[0m\u001b[0;34m)\u001b[0m\u001b[0;34m\u001b[0m\u001b[0;34m\u001b[0m\u001b[0m\n\u001b[1;32m     34\u001b[0m             \u001b[0;31m#print(tmp.squeeze().shape)\u001b[0m\u001b[0;34m\u001b[0m\u001b[0;34m\u001b[0m\u001b[0;34m\u001b[0m\u001b[0m\n",
      "\u001b[0;32m/anaconda3/envs/work/lib/python3.6/site-packages/torch/nn/modules/module.py\u001b[0m in \u001b[0;36m__call__\u001b[0;34m(self, *input, **kwargs)\u001b[0m\n\u001b[1;32m    487\u001b[0m             \u001b[0mresult\u001b[0m \u001b[0;34m=\u001b[0m \u001b[0mself\u001b[0m\u001b[0;34m.\u001b[0m\u001b[0m_slow_forward\u001b[0m\u001b[0;34m(\u001b[0m\u001b[0;34m*\u001b[0m\u001b[0minput\u001b[0m\u001b[0;34m,\u001b[0m \u001b[0;34m**\u001b[0m\u001b[0mkwargs\u001b[0m\u001b[0;34m)\u001b[0m\u001b[0;34m\u001b[0m\u001b[0;34m\u001b[0m\u001b[0m\n\u001b[1;32m    488\u001b[0m         \u001b[0;32melse\u001b[0m\u001b[0;34m:\u001b[0m\u001b[0;34m\u001b[0m\u001b[0;34m\u001b[0m\u001b[0m\n\u001b[0;32m--> 489\u001b[0;31m             \u001b[0mresult\u001b[0m \u001b[0;34m=\u001b[0m \u001b[0mself\u001b[0m\u001b[0;34m.\u001b[0m\u001b[0mforward\u001b[0m\u001b[0;34m(\u001b[0m\u001b[0;34m*\u001b[0m\u001b[0minput\u001b[0m\u001b[0;34m,\u001b[0m \u001b[0;34m**\u001b[0m\u001b[0mkwargs\u001b[0m\u001b[0;34m)\u001b[0m\u001b[0;34m\u001b[0m\u001b[0;34m\u001b[0m\u001b[0m\n\u001b[0m\u001b[1;32m    490\u001b[0m         \u001b[0;32mfor\u001b[0m \u001b[0mhook\u001b[0m \u001b[0;32min\u001b[0m \u001b[0mself\u001b[0m\u001b[0;34m.\u001b[0m\u001b[0m_forward_hooks\u001b[0m\u001b[0;34m.\u001b[0m\u001b[0mvalues\u001b[0m\u001b[0;34m(\u001b[0m\u001b[0;34m)\u001b[0m\u001b[0;34m:\u001b[0m\u001b[0;34m\u001b[0m\u001b[0;34m\u001b[0m\u001b[0m\n\u001b[1;32m    491\u001b[0m             \u001b[0mhook_result\u001b[0m \u001b[0;34m=\u001b[0m \u001b[0mhook\u001b[0m\u001b[0;34m(\u001b[0m\u001b[0mself\u001b[0m\u001b[0;34m,\u001b[0m \u001b[0minput\u001b[0m\u001b[0;34m,\u001b[0m \u001b[0mresult\u001b[0m\u001b[0;34m)\u001b[0m\u001b[0;34m\u001b[0m\u001b[0;34m\u001b[0m\u001b[0m\n",
      "\u001b[0;32m/anaconda3/envs/work/lib/python3.6/site-packages/torch/nn/modules/container.py\u001b[0m in \u001b[0;36mforward\u001b[0;34m(self, input)\u001b[0m\n\u001b[1;32m     90\u001b[0m     \u001b[0;32mdef\u001b[0m \u001b[0mforward\u001b[0m\u001b[0;34m(\u001b[0m\u001b[0mself\u001b[0m\u001b[0;34m,\u001b[0m \u001b[0minput\u001b[0m\u001b[0;34m)\u001b[0m\u001b[0;34m:\u001b[0m\u001b[0;34m\u001b[0m\u001b[0;34m\u001b[0m\u001b[0m\n\u001b[1;32m     91\u001b[0m         \u001b[0;32mfor\u001b[0m \u001b[0mmodule\u001b[0m \u001b[0;32min\u001b[0m \u001b[0mself\u001b[0m\u001b[0;34m.\u001b[0m\u001b[0m_modules\u001b[0m\u001b[0;34m.\u001b[0m\u001b[0mvalues\u001b[0m\u001b[0;34m(\u001b[0m\u001b[0;34m)\u001b[0m\u001b[0;34m:\u001b[0m\u001b[0;34m\u001b[0m\u001b[0;34m\u001b[0m\u001b[0m\n\u001b[0;32m---> 92\u001b[0;31m             \u001b[0minput\u001b[0m \u001b[0;34m=\u001b[0m \u001b[0mmodule\u001b[0m\u001b[0;34m(\u001b[0m\u001b[0minput\u001b[0m\u001b[0;34m)\u001b[0m\u001b[0;34m\u001b[0m\u001b[0;34m\u001b[0m\u001b[0m\n\u001b[0m\u001b[1;32m     93\u001b[0m         \u001b[0;32mreturn\u001b[0m \u001b[0minput\u001b[0m\u001b[0;34m\u001b[0m\u001b[0;34m\u001b[0m\u001b[0m\n\u001b[1;32m     94\u001b[0m \u001b[0;34m\u001b[0m\u001b[0m\n",
      "\u001b[0;32m/anaconda3/envs/work/lib/python3.6/site-packages/torch/nn/modules/module.py\u001b[0m in \u001b[0;36m__call__\u001b[0;34m(self, *input, **kwargs)\u001b[0m\n\u001b[1;32m    487\u001b[0m             \u001b[0mresult\u001b[0m \u001b[0;34m=\u001b[0m \u001b[0mself\u001b[0m\u001b[0;34m.\u001b[0m\u001b[0m_slow_forward\u001b[0m\u001b[0;34m(\u001b[0m\u001b[0;34m*\u001b[0m\u001b[0minput\u001b[0m\u001b[0;34m,\u001b[0m \u001b[0;34m**\u001b[0m\u001b[0mkwargs\u001b[0m\u001b[0;34m)\u001b[0m\u001b[0;34m\u001b[0m\u001b[0;34m\u001b[0m\u001b[0m\n\u001b[1;32m    488\u001b[0m         \u001b[0;32melse\u001b[0m\u001b[0;34m:\u001b[0m\u001b[0;34m\u001b[0m\u001b[0;34m\u001b[0m\u001b[0m\n\u001b[0;32m--> 489\u001b[0;31m             \u001b[0mresult\u001b[0m \u001b[0;34m=\u001b[0m \u001b[0mself\u001b[0m\u001b[0;34m.\u001b[0m\u001b[0mforward\u001b[0m\u001b[0;34m(\u001b[0m\u001b[0;34m*\u001b[0m\u001b[0minput\u001b[0m\u001b[0;34m,\u001b[0m \u001b[0;34m**\u001b[0m\u001b[0mkwargs\u001b[0m\u001b[0;34m)\u001b[0m\u001b[0;34m\u001b[0m\u001b[0;34m\u001b[0m\u001b[0m\n\u001b[0m\u001b[1;32m    490\u001b[0m         \u001b[0;32mfor\u001b[0m \u001b[0mhook\u001b[0m \u001b[0;32min\u001b[0m \u001b[0mself\u001b[0m\u001b[0;34m.\u001b[0m\u001b[0m_forward_hooks\u001b[0m\u001b[0;34m.\u001b[0m\u001b[0mvalues\u001b[0m\u001b[0;34m(\u001b[0m\u001b[0;34m)\u001b[0m\u001b[0;34m:\u001b[0m\u001b[0;34m\u001b[0m\u001b[0;34m\u001b[0m\u001b[0m\n\u001b[1;32m    491\u001b[0m             \u001b[0mhook_result\u001b[0m \u001b[0;34m=\u001b[0m \u001b[0mhook\u001b[0m\u001b[0;34m(\u001b[0m\u001b[0mself\u001b[0m\u001b[0;34m,\u001b[0m \u001b[0minput\u001b[0m\u001b[0;34m,\u001b[0m \u001b[0mresult\u001b[0m\u001b[0;34m)\u001b[0m\u001b[0;34m\u001b[0m\u001b[0;34m\u001b[0m\u001b[0m\n",
      "\u001b[0;32m<ipython-input-39-ca3805d1735e>\u001b[0m in \u001b[0;36mforward\u001b[0;34m(self, x)\u001b[0m\n\u001b[1;32m    283\u001b[0m \u001b[0;34m\u001b[0m\u001b[0m\n\u001b[1;32m    284\u001b[0m     \u001b[0;32mdef\u001b[0m \u001b[0mforward\u001b[0m\u001b[0;34m(\u001b[0m\u001b[0mself\u001b[0m\u001b[0;34m,\u001b[0m \u001b[0mx\u001b[0m\u001b[0;34m)\u001b[0m\u001b[0;34m:\u001b[0m\u001b[0;34m\u001b[0m\u001b[0;34m\u001b[0m\u001b[0m\n\u001b[0;32m--> 285\u001b[0;31m         \u001b[0mx\u001b[0m \u001b[0;34m=\u001b[0m \u001b[0mself\u001b[0m\u001b[0;34m.\u001b[0m\u001b[0mconv\u001b[0m\u001b[0;34m(\u001b[0m\u001b[0mx\u001b[0m\u001b[0;34m)\u001b[0m\u001b[0;34m\u001b[0m\u001b[0;34m\u001b[0m\u001b[0m\n\u001b[0m\u001b[1;32m    286\u001b[0m         \u001b[0mx\u001b[0m \u001b[0;34m=\u001b[0m \u001b[0mself\u001b[0m\u001b[0;34m.\u001b[0m\u001b[0mbn\u001b[0m\u001b[0;34m(\u001b[0m\u001b[0mx\u001b[0m\u001b[0;34m)\u001b[0m\u001b[0;34m\u001b[0m\u001b[0;34m\u001b[0m\u001b[0m\n\u001b[1;32m    287\u001b[0m         \u001b[0;32mreturn\u001b[0m \u001b[0mF\u001b[0m\u001b[0;34m.\u001b[0m\u001b[0mrelu\u001b[0m\u001b[0;34m(\u001b[0m\u001b[0mx\u001b[0m\u001b[0;34m,\u001b[0m \u001b[0minplace\u001b[0m\u001b[0;34m=\u001b[0m\u001b[0;32mTrue\u001b[0m\u001b[0;34m)\u001b[0m\u001b[0;34m\u001b[0m\u001b[0;34m\u001b[0m\u001b[0m\n",
      "\u001b[0;32m/anaconda3/envs/work/lib/python3.6/site-packages/torch/nn/modules/module.py\u001b[0m in \u001b[0;36m__call__\u001b[0;34m(self, *input, **kwargs)\u001b[0m\n\u001b[1;32m    487\u001b[0m             \u001b[0mresult\u001b[0m \u001b[0;34m=\u001b[0m \u001b[0mself\u001b[0m\u001b[0;34m.\u001b[0m\u001b[0m_slow_forward\u001b[0m\u001b[0;34m(\u001b[0m\u001b[0;34m*\u001b[0m\u001b[0minput\u001b[0m\u001b[0;34m,\u001b[0m \u001b[0;34m**\u001b[0m\u001b[0mkwargs\u001b[0m\u001b[0;34m)\u001b[0m\u001b[0;34m\u001b[0m\u001b[0;34m\u001b[0m\u001b[0m\n\u001b[1;32m    488\u001b[0m         \u001b[0;32melse\u001b[0m\u001b[0;34m:\u001b[0m\u001b[0;34m\u001b[0m\u001b[0;34m\u001b[0m\u001b[0m\n\u001b[0;32m--> 489\u001b[0;31m             \u001b[0mresult\u001b[0m \u001b[0;34m=\u001b[0m \u001b[0mself\u001b[0m\u001b[0;34m.\u001b[0m\u001b[0mforward\u001b[0m\u001b[0;34m(\u001b[0m\u001b[0;34m*\u001b[0m\u001b[0minput\u001b[0m\u001b[0;34m,\u001b[0m \u001b[0;34m**\u001b[0m\u001b[0mkwargs\u001b[0m\u001b[0;34m)\u001b[0m\u001b[0;34m\u001b[0m\u001b[0;34m\u001b[0m\u001b[0m\n\u001b[0m\u001b[1;32m    490\u001b[0m         \u001b[0;32mfor\u001b[0m \u001b[0mhook\u001b[0m \u001b[0;32min\u001b[0m \u001b[0mself\u001b[0m\u001b[0;34m.\u001b[0m\u001b[0m_forward_hooks\u001b[0m\u001b[0;34m.\u001b[0m\u001b[0mvalues\u001b[0m\u001b[0;34m(\u001b[0m\u001b[0;34m)\u001b[0m\u001b[0;34m:\u001b[0m\u001b[0;34m\u001b[0m\u001b[0;34m\u001b[0m\u001b[0m\n\u001b[1;32m    491\u001b[0m             \u001b[0mhook_result\u001b[0m \u001b[0;34m=\u001b[0m \u001b[0mhook\u001b[0m\u001b[0;34m(\u001b[0m\u001b[0mself\u001b[0m\u001b[0;34m,\u001b[0m \u001b[0minput\u001b[0m\u001b[0;34m,\u001b[0m \u001b[0mresult\u001b[0m\u001b[0;34m)\u001b[0m\u001b[0;34m\u001b[0m\u001b[0;34m\u001b[0m\u001b[0m\n",
      "\u001b[0;32m/anaconda3/envs/work/lib/python3.6/site-packages/torch/nn/modules/conv.py\u001b[0m in \u001b[0;36mforward\u001b[0;34m(self, input)\u001b[0m\n\u001b[1;32m    318\u001b[0m     \u001b[0;32mdef\u001b[0m \u001b[0mforward\u001b[0m\u001b[0;34m(\u001b[0m\u001b[0mself\u001b[0m\u001b[0;34m,\u001b[0m \u001b[0minput\u001b[0m\u001b[0;34m)\u001b[0m\u001b[0;34m:\u001b[0m\u001b[0;34m\u001b[0m\u001b[0;34m\u001b[0m\u001b[0m\n\u001b[1;32m    319\u001b[0m         return F.conv2d(input, self.weight, self.bias, self.stride,\n\u001b[0;32m--> 320\u001b[0;31m                         self.padding, self.dilation, self.groups)\n\u001b[0m\u001b[1;32m    321\u001b[0m \u001b[0;34m\u001b[0m\u001b[0m\n\u001b[1;32m    322\u001b[0m \u001b[0;34m\u001b[0m\u001b[0m\n",
      "\u001b[0;31mKeyboardInterrupt\u001b[0m: "
     ]
    }
   ],
   "source": [
    "acc = significant_test(dl_test, model, True)"
   ]
  },
  {
   "cell_type": "code",
   "execution_count": 37,
   "metadata": {
    "scrolled": true
   },
   "outputs": [
    {
     "name": "stdout",
     "output_type": "stream",
     "text": [
      "Test Batch: [0/133 (0%)]\trank: 0.000000\tTime: 1574418379.3655438423156738\n",
      "Test Batch: [1/133 (1%)]\trank: 2.000000\tTime: 1574418413.1493220329284668\n",
      "Test Batch: [2/133 (2%)]\trank: 5.000000\tTime: 1574418444.1131520271301270\n",
      "Test Batch: [3/133 (2%)]\trank: 1.000000\tTime: 1574418481.8707590103149414\n",
      "Test Batch: [4/133 (3%)]\trank: 1.000000\tTime: 1574418520.5037281513214111\n",
      "Test Batch: [5/133 (4%)]\trank: 17.000000\tTime: 1574418554.9021828174591064\n",
      "Test Batch: [6/133 (5%)]\trank: 23.000000\tTime: 1574418603.3507330417633057\n"
     ]
    },
    {
     "ename": "KeyboardInterrupt",
     "evalue": "",
     "output_type": "error",
     "traceback": [
      "\u001b[0;31m---------------------------------------------------------------------------\u001b[0m",
      "\u001b[0;31mKeyboardInterrupt\u001b[0m                         Traceback (most recent call last)",
      "\u001b[0;32m<ipython-input-37-8cfe181d0aff>\u001b[0m in \u001b[0;36m<module>\u001b[0;34m\u001b[0m\n\u001b[0;32m----> 1\u001b[0;31m \u001b[0mhit_count\u001b[0m \u001b[0;34m=\u001b[0m \u001b[0mmetric2\u001b[0m\u001b[0;34m(\u001b[0m\u001b[0mdl_test\u001b[0m\u001b[0;34m,\u001b[0m \u001b[0mmodel\u001b[0m\u001b[0;34m,\u001b[0m \u001b[0;32mTrue\u001b[0m\u001b[0;34m)\u001b[0m\u001b[0;34m\u001b[0m\u001b[0;34m\u001b[0m\u001b[0m\n\u001b[0m",
      "\u001b[0;32m<ipython-input-36-e2c2823c81fe>\u001b[0m in \u001b[0;36mmetric2\u001b[0;34m(dl_test, model, verbose)\u001b[0m\n\u001b[1;32m     50\u001b[0m         \u001b[0mcounter\u001b[0m \u001b[0;34m+=\u001b[0m \u001b[0;36m1\u001b[0m\u001b[0;34m\u001b[0m\u001b[0;34m\u001b[0m\u001b[0m\n\u001b[1;32m     51\u001b[0m         \u001b[0minp\u001b[0m\u001b[0;34m,\u001b[0m \u001b[0mtarget\u001b[0m \u001b[0;34m=\u001b[0m \u001b[0mdat\u001b[0m\u001b[0;34m\u001b[0m\u001b[0;34m\u001b[0m\u001b[0m\n\u001b[0;32m---> 52\u001b[0;31m         \u001b[0mout\u001b[0m \u001b[0;34m=\u001b[0m \u001b[0mmodel\u001b[0m\u001b[0;34m(\u001b[0m\u001b[0minp\u001b[0m\u001b[0;34m)\u001b[0m\u001b[0;34m\u001b[0m\u001b[0;34m\u001b[0m\u001b[0m\n\u001b[0m\u001b[1;32m     53\u001b[0m         \u001b[0;31m#target = target.mean(dim = 1)\u001b[0m\u001b[0;34m\u001b[0m\u001b[0;34m\u001b[0m\u001b[0;34m\u001b[0m\u001b[0m\n\u001b[1;32m     54\u001b[0m         \u001b[0;31m#out = out.mean(dim = 1)\u001b[0m\u001b[0;34m\u001b[0m\u001b[0;34m\u001b[0m\u001b[0;34m\u001b[0m\u001b[0m\n",
      "\u001b[0;32m/anaconda3/envs/work/lib/python3.6/site-packages/torch/nn/modules/module.py\u001b[0m in \u001b[0;36m__call__\u001b[0;34m(self, *input, **kwargs)\u001b[0m\n\u001b[1;32m    487\u001b[0m             \u001b[0mresult\u001b[0m \u001b[0;34m=\u001b[0m \u001b[0mself\u001b[0m\u001b[0;34m.\u001b[0m\u001b[0m_slow_forward\u001b[0m\u001b[0;34m(\u001b[0m\u001b[0;34m*\u001b[0m\u001b[0minput\u001b[0m\u001b[0;34m,\u001b[0m \u001b[0;34m**\u001b[0m\u001b[0mkwargs\u001b[0m\u001b[0;34m)\u001b[0m\u001b[0;34m\u001b[0m\u001b[0;34m\u001b[0m\u001b[0m\n\u001b[1;32m    488\u001b[0m         \u001b[0;32melse\u001b[0m\u001b[0;34m:\u001b[0m\u001b[0;34m\u001b[0m\u001b[0;34m\u001b[0m\u001b[0m\n\u001b[0;32m--> 489\u001b[0;31m             \u001b[0mresult\u001b[0m \u001b[0;34m=\u001b[0m \u001b[0mself\u001b[0m\u001b[0;34m.\u001b[0m\u001b[0mforward\u001b[0m\u001b[0;34m(\u001b[0m\u001b[0;34m*\u001b[0m\u001b[0minput\u001b[0m\u001b[0;34m,\u001b[0m \u001b[0;34m**\u001b[0m\u001b[0mkwargs\u001b[0m\u001b[0;34m)\u001b[0m\u001b[0;34m\u001b[0m\u001b[0;34m\u001b[0m\u001b[0m\n\u001b[0m\u001b[1;32m    490\u001b[0m         \u001b[0;32mfor\u001b[0m \u001b[0mhook\u001b[0m \u001b[0;32min\u001b[0m \u001b[0mself\u001b[0m\u001b[0;34m.\u001b[0m\u001b[0m_forward_hooks\u001b[0m\u001b[0;34m.\u001b[0m\u001b[0mvalues\u001b[0m\u001b[0;34m(\u001b[0m\u001b[0;34m)\u001b[0m\u001b[0;34m:\u001b[0m\u001b[0;34m\u001b[0m\u001b[0;34m\u001b[0m\u001b[0m\n\u001b[1;32m    491\u001b[0m             \u001b[0mhook_result\u001b[0m \u001b[0;34m=\u001b[0m \u001b[0mhook\u001b[0m\u001b[0;34m(\u001b[0m\u001b[0mself\u001b[0m\u001b[0;34m,\u001b[0m \u001b[0minput\u001b[0m\u001b[0;34m,\u001b[0m \u001b[0mresult\u001b[0m\u001b[0;34m)\u001b[0m\u001b[0;34m\u001b[0m\u001b[0;34m\u001b[0m\u001b[0m\n",
      "\u001b[0;32m<ipython-input-4-3adbce60031e>\u001b[0m in \u001b[0;36mforward\u001b[0;34m(self, xs)\u001b[0m\n\u001b[1;32m     30\u001b[0m             \u001b[0;31m#print('%'*20)\u001b[0m\u001b[0;34m\u001b[0m\u001b[0;34m\u001b[0m\u001b[0;34m\u001b[0m\u001b[0m\n\u001b[1;32m     31\u001b[0m             \u001b[0;31m#print('round: '+ str(i))\u001b[0m\u001b[0;34m\u001b[0m\u001b[0;34m\u001b[0m\u001b[0;34m\u001b[0m\u001b[0m\n\u001b[0;32m---> 32\u001b[0;31m             \u001b[0mtmp\u001b[0m \u001b[0;34m=\u001b[0m \u001b[0mself\u001b[0m\u001b[0;34m.\u001b[0m\u001b[0mcnn\u001b[0m\u001b[0;34m(\u001b[0m\u001b[0mxs\u001b[0m\u001b[0;34m[\u001b[0m\u001b[0;34m:\u001b[0m\u001b[0;34m,\u001b[0m\u001b[0mi\u001b[0m\u001b[0;34m,\u001b[0m\u001b[0;34m:\u001b[0m\u001b[0;34m,\u001b[0m\u001b[0;34m:\u001b[0m\u001b[0;34m]\u001b[0m\u001b[0;34m.\u001b[0m\u001b[0munsqueeze\u001b[0m\u001b[0;34m(\u001b[0m\u001b[0;36m1\u001b[0m\u001b[0;34m)\u001b[0m\u001b[0;34m)\u001b[0m\u001b[0;34m\u001b[0m\u001b[0;34m\u001b[0m\u001b[0m\n\u001b[0m\u001b[1;32m     33\u001b[0m             \u001b[0mco\u001b[0m\u001b[0;34m.\u001b[0m\u001b[0mappend\u001b[0m\u001b[0;34m(\u001b[0m\u001b[0mtmp\u001b[0m\u001b[0;34m.\u001b[0m\u001b[0msqueeze\u001b[0m\u001b[0;34m(\u001b[0m\u001b[0;34m)\u001b[0m\u001b[0;34m)\u001b[0m\u001b[0;34m\u001b[0m\u001b[0;34m\u001b[0m\u001b[0m\n\u001b[1;32m     34\u001b[0m             \u001b[0;31m#print(tmp.squeeze().shape)\u001b[0m\u001b[0;34m\u001b[0m\u001b[0;34m\u001b[0m\u001b[0;34m\u001b[0m\u001b[0m\n",
      "\u001b[0;32m/anaconda3/envs/work/lib/python3.6/site-packages/torch/nn/modules/module.py\u001b[0m in \u001b[0;36m__call__\u001b[0;34m(self, *input, **kwargs)\u001b[0m\n\u001b[1;32m    487\u001b[0m             \u001b[0mresult\u001b[0m \u001b[0;34m=\u001b[0m \u001b[0mself\u001b[0m\u001b[0;34m.\u001b[0m\u001b[0m_slow_forward\u001b[0m\u001b[0;34m(\u001b[0m\u001b[0;34m*\u001b[0m\u001b[0minput\u001b[0m\u001b[0;34m,\u001b[0m \u001b[0;34m**\u001b[0m\u001b[0mkwargs\u001b[0m\u001b[0;34m)\u001b[0m\u001b[0;34m\u001b[0m\u001b[0;34m\u001b[0m\u001b[0m\n\u001b[1;32m    488\u001b[0m         \u001b[0;32melse\u001b[0m\u001b[0;34m:\u001b[0m\u001b[0;34m\u001b[0m\u001b[0;34m\u001b[0m\u001b[0m\n\u001b[0;32m--> 489\u001b[0;31m             \u001b[0mresult\u001b[0m \u001b[0;34m=\u001b[0m \u001b[0mself\u001b[0m\u001b[0;34m.\u001b[0m\u001b[0mforward\u001b[0m\u001b[0;34m(\u001b[0m\u001b[0;34m*\u001b[0m\u001b[0minput\u001b[0m\u001b[0;34m,\u001b[0m \u001b[0;34m**\u001b[0m\u001b[0mkwargs\u001b[0m\u001b[0;34m)\u001b[0m\u001b[0;34m\u001b[0m\u001b[0;34m\u001b[0m\u001b[0m\n\u001b[0m\u001b[1;32m    490\u001b[0m         \u001b[0;32mfor\u001b[0m \u001b[0mhook\u001b[0m \u001b[0;32min\u001b[0m \u001b[0mself\u001b[0m\u001b[0;34m.\u001b[0m\u001b[0m_forward_hooks\u001b[0m\u001b[0;34m.\u001b[0m\u001b[0mvalues\u001b[0m\u001b[0;34m(\u001b[0m\u001b[0;34m)\u001b[0m\u001b[0;34m:\u001b[0m\u001b[0;34m\u001b[0m\u001b[0;34m\u001b[0m\u001b[0m\n\u001b[1;32m    491\u001b[0m             \u001b[0mhook_result\u001b[0m \u001b[0;34m=\u001b[0m \u001b[0mhook\u001b[0m\u001b[0;34m(\u001b[0m\u001b[0mself\u001b[0m\u001b[0;34m,\u001b[0m \u001b[0minput\u001b[0m\u001b[0;34m,\u001b[0m \u001b[0mresult\u001b[0m\u001b[0;34m)\u001b[0m\u001b[0;34m\u001b[0m\u001b[0;34m\u001b[0m\u001b[0m\n",
      "\u001b[0;32m/anaconda3/envs/work/lib/python3.6/site-packages/torch/nn/modules/container.py\u001b[0m in \u001b[0;36mforward\u001b[0;34m(self, input)\u001b[0m\n\u001b[1;32m     90\u001b[0m     \u001b[0;32mdef\u001b[0m \u001b[0mforward\u001b[0m\u001b[0;34m(\u001b[0m\u001b[0mself\u001b[0m\u001b[0;34m,\u001b[0m \u001b[0minput\u001b[0m\u001b[0;34m)\u001b[0m\u001b[0;34m:\u001b[0m\u001b[0;34m\u001b[0m\u001b[0;34m\u001b[0m\u001b[0m\n\u001b[1;32m     91\u001b[0m         \u001b[0;32mfor\u001b[0m \u001b[0mmodule\u001b[0m \u001b[0;32min\u001b[0m \u001b[0mself\u001b[0m\u001b[0;34m.\u001b[0m\u001b[0m_modules\u001b[0m\u001b[0;34m.\u001b[0m\u001b[0mvalues\u001b[0m\u001b[0;34m(\u001b[0m\u001b[0;34m)\u001b[0m\u001b[0;34m:\u001b[0m\u001b[0;34m\u001b[0m\u001b[0;34m\u001b[0m\u001b[0m\n\u001b[0;32m---> 92\u001b[0;31m             \u001b[0minput\u001b[0m \u001b[0;34m=\u001b[0m \u001b[0mmodule\u001b[0m\u001b[0;34m(\u001b[0m\u001b[0minput\u001b[0m\u001b[0;34m)\u001b[0m\u001b[0;34m\u001b[0m\u001b[0;34m\u001b[0m\u001b[0m\n\u001b[0m\u001b[1;32m     93\u001b[0m         \u001b[0;32mreturn\u001b[0m \u001b[0minput\u001b[0m\u001b[0;34m\u001b[0m\u001b[0;34m\u001b[0m\u001b[0m\n\u001b[1;32m     94\u001b[0m \u001b[0;34m\u001b[0m\u001b[0m\n",
      "\u001b[0;32m/anaconda3/envs/work/lib/python3.6/site-packages/torch/nn/modules/module.py\u001b[0m in \u001b[0;36m__call__\u001b[0;34m(self, *input, **kwargs)\u001b[0m\n\u001b[1;32m    487\u001b[0m             \u001b[0mresult\u001b[0m \u001b[0;34m=\u001b[0m \u001b[0mself\u001b[0m\u001b[0;34m.\u001b[0m\u001b[0m_slow_forward\u001b[0m\u001b[0;34m(\u001b[0m\u001b[0;34m*\u001b[0m\u001b[0minput\u001b[0m\u001b[0;34m,\u001b[0m \u001b[0;34m**\u001b[0m\u001b[0mkwargs\u001b[0m\u001b[0;34m)\u001b[0m\u001b[0;34m\u001b[0m\u001b[0;34m\u001b[0m\u001b[0m\n\u001b[1;32m    488\u001b[0m         \u001b[0;32melse\u001b[0m\u001b[0;34m:\u001b[0m\u001b[0;34m\u001b[0m\u001b[0;34m\u001b[0m\u001b[0m\n\u001b[0;32m--> 489\u001b[0;31m             \u001b[0mresult\u001b[0m \u001b[0;34m=\u001b[0m \u001b[0mself\u001b[0m\u001b[0;34m.\u001b[0m\u001b[0mforward\u001b[0m\u001b[0;34m(\u001b[0m\u001b[0;34m*\u001b[0m\u001b[0minput\u001b[0m\u001b[0;34m,\u001b[0m \u001b[0;34m**\u001b[0m\u001b[0mkwargs\u001b[0m\u001b[0;34m)\u001b[0m\u001b[0;34m\u001b[0m\u001b[0;34m\u001b[0m\u001b[0m\n\u001b[0m\u001b[1;32m    490\u001b[0m         \u001b[0;32mfor\u001b[0m \u001b[0mhook\u001b[0m \u001b[0;32min\u001b[0m \u001b[0mself\u001b[0m\u001b[0;34m.\u001b[0m\u001b[0m_forward_hooks\u001b[0m\u001b[0;34m.\u001b[0m\u001b[0mvalues\u001b[0m\u001b[0;34m(\u001b[0m\u001b[0;34m)\u001b[0m\u001b[0;34m:\u001b[0m\u001b[0;34m\u001b[0m\u001b[0;34m\u001b[0m\u001b[0m\n\u001b[1;32m    491\u001b[0m             \u001b[0mhook_result\u001b[0m \u001b[0;34m=\u001b[0m \u001b[0mhook\u001b[0m\u001b[0;34m(\u001b[0m\u001b[0mself\u001b[0m\u001b[0;34m,\u001b[0m \u001b[0minput\u001b[0m\u001b[0;34m,\u001b[0m \u001b[0mresult\u001b[0m\u001b[0;34m)\u001b[0m\u001b[0;34m\u001b[0m\u001b[0;34m\u001b[0m\u001b[0m\n",
      "\u001b[0;32m<ipython-input-4-3adbce60031e>\u001b[0m in \u001b[0;36mforward\u001b[0;34m(self, x)\u001b[0m\n\u001b[1;32m     53\u001b[0m \u001b[0;34m\u001b[0m\u001b[0m\n\u001b[1;32m     54\u001b[0m     \u001b[0;32mdef\u001b[0m \u001b[0mforward\u001b[0m\u001b[0;34m(\u001b[0m\u001b[0mself\u001b[0m\u001b[0;34m,\u001b[0m \u001b[0mx\u001b[0m\u001b[0;34m)\u001b[0m\u001b[0;34m:\u001b[0m\u001b[0;34m\u001b[0m\u001b[0;34m\u001b[0m\u001b[0m\n\u001b[0;32m---> 55\u001b[0;31m         \u001b[0mx\u001b[0m \u001b[0;34m=\u001b[0m \u001b[0mself\u001b[0m\u001b[0;34m.\u001b[0m\u001b[0mconv\u001b[0m\u001b[0;34m(\u001b[0m\u001b[0mx\u001b[0m\u001b[0;34m)\u001b[0m\u001b[0;34m\u001b[0m\u001b[0;34m\u001b[0m\u001b[0m\n\u001b[0m\u001b[1;32m     56\u001b[0m         \u001b[0mx\u001b[0m \u001b[0;34m=\u001b[0m \u001b[0mself\u001b[0m\u001b[0;34m.\u001b[0m\u001b[0mbn\u001b[0m\u001b[0;34m(\u001b[0m\u001b[0mx\u001b[0m\u001b[0;34m)\u001b[0m\u001b[0;34m\u001b[0m\u001b[0;34m\u001b[0m\u001b[0m\n\u001b[1;32m     57\u001b[0m         \u001b[0;32mreturn\u001b[0m \u001b[0mF\u001b[0m\u001b[0;34m.\u001b[0m\u001b[0mrelu\u001b[0m\u001b[0;34m(\u001b[0m\u001b[0mx\u001b[0m\u001b[0;34m,\u001b[0m \u001b[0minplace\u001b[0m\u001b[0;34m=\u001b[0m\u001b[0;32mTrue\u001b[0m\u001b[0;34m)\u001b[0m\u001b[0;34m\u001b[0m\u001b[0;34m\u001b[0m\u001b[0m\n",
      "\u001b[0;32m/anaconda3/envs/work/lib/python3.6/site-packages/torch/nn/modules/module.py\u001b[0m in \u001b[0;36m__call__\u001b[0;34m(self, *input, **kwargs)\u001b[0m\n\u001b[1;32m    487\u001b[0m             \u001b[0mresult\u001b[0m \u001b[0;34m=\u001b[0m \u001b[0mself\u001b[0m\u001b[0;34m.\u001b[0m\u001b[0m_slow_forward\u001b[0m\u001b[0;34m(\u001b[0m\u001b[0;34m*\u001b[0m\u001b[0minput\u001b[0m\u001b[0;34m,\u001b[0m \u001b[0;34m**\u001b[0m\u001b[0mkwargs\u001b[0m\u001b[0;34m)\u001b[0m\u001b[0;34m\u001b[0m\u001b[0;34m\u001b[0m\u001b[0m\n\u001b[1;32m    488\u001b[0m         \u001b[0;32melse\u001b[0m\u001b[0;34m:\u001b[0m\u001b[0;34m\u001b[0m\u001b[0;34m\u001b[0m\u001b[0m\n\u001b[0;32m--> 489\u001b[0;31m             \u001b[0mresult\u001b[0m \u001b[0;34m=\u001b[0m \u001b[0mself\u001b[0m\u001b[0;34m.\u001b[0m\u001b[0mforward\u001b[0m\u001b[0;34m(\u001b[0m\u001b[0;34m*\u001b[0m\u001b[0minput\u001b[0m\u001b[0;34m,\u001b[0m \u001b[0;34m**\u001b[0m\u001b[0mkwargs\u001b[0m\u001b[0;34m)\u001b[0m\u001b[0;34m\u001b[0m\u001b[0;34m\u001b[0m\u001b[0m\n\u001b[0m\u001b[1;32m    490\u001b[0m         \u001b[0;32mfor\u001b[0m \u001b[0mhook\u001b[0m \u001b[0;32min\u001b[0m \u001b[0mself\u001b[0m\u001b[0;34m.\u001b[0m\u001b[0m_forward_hooks\u001b[0m\u001b[0;34m.\u001b[0m\u001b[0mvalues\u001b[0m\u001b[0;34m(\u001b[0m\u001b[0;34m)\u001b[0m\u001b[0;34m:\u001b[0m\u001b[0;34m\u001b[0m\u001b[0;34m\u001b[0m\u001b[0m\n\u001b[1;32m    491\u001b[0m             \u001b[0mhook_result\u001b[0m \u001b[0;34m=\u001b[0m \u001b[0mhook\u001b[0m\u001b[0;34m(\u001b[0m\u001b[0mself\u001b[0m\u001b[0;34m,\u001b[0m \u001b[0minput\u001b[0m\u001b[0;34m,\u001b[0m \u001b[0mresult\u001b[0m\u001b[0;34m)\u001b[0m\u001b[0;34m\u001b[0m\u001b[0;34m\u001b[0m\u001b[0m\n",
      "\u001b[0;32m/anaconda3/envs/work/lib/python3.6/site-packages/torch/nn/modules/conv.py\u001b[0m in \u001b[0;36mforward\u001b[0;34m(self, input)\u001b[0m\n\u001b[1;32m    318\u001b[0m     \u001b[0;32mdef\u001b[0m \u001b[0mforward\u001b[0m\u001b[0;34m(\u001b[0m\u001b[0mself\u001b[0m\u001b[0;34m,\u001b[0m \u001b[0minput\u001b[0m\u001b[0;34m)\u001b[0m\u001b[0;34m:\u001b[0m\u001b[0;34m\u001b[0m\u001b[0;34m\u001b[0m\u001b[0m\n\u001b[1;32m    319\u001b[0m         return F.conv2d(input, self.weight, self.bias, self.stride,\n\u001b[0;32m--> 320\u001b[0;31m                         self.padding, self.dilation, self.groups)\n\u001b[0m\u001b[1;32m    321\u001b[0m \u001b[0;34m\u001b[0m\u001b[0m\n\u001b[1;32m    322\u001b[0m \u001b[0;34m\u001b[0m\u001b[0m\n",
      "\u001b[0;31mKeyboardInterrupt\u001b[0m: "
     ]
    }
   ],
   "source": [
    "hit_count = metric2(dl_test, model, True)"
   ]
  },
  {
   "cell_type": "code",
   "execution_count": 41,
   "metadata": {},
   "outputs": [
    {
     "data": {
      "text/plain": [
       "134"
      ]
     },
     "execution_count": 41,
     "metadata": {},
     "output_type": "execute_result"
    }
   ],
   "source": [
    "len(dl_test)"
   ]
  },
  {
   "cell_type": "code",
   "execution_count": 72,
   "metadata": {},
   "outputs": [],
   "source": [
    "a = torch.FloatTensor(2,3)"
   ]
  },
  {
   "cell_type": "code",
   "execution_count": 63,
   "metadata": {},
   "outputs": [],
   "source": [
    "a = torch.autograd.Variable(a)"
   ]
  },
  {
   "cell_type": "code",
   "execution_count": 77,
   "metadata": {},
   "outputs": [
    {
     "data": {
      "text/plain": [
       "array([[ 0.0000000e+00, -0.0000000e+00, -5.0345012e-28],\n",
       "       [-2.0004880e+00,  2.8025969e-45, -0.0000000e+00]], dtype=float32)"
      ]
     },
     "execution_count": 77,
     "metadata": {},
     "output_type": "execute_result"
    }
   ],
   "source": [
    "np.concatenate()"
   ]
  },
  {
   "cell_type": "markdown",
   "metadata": {},
   "source": [
    "# Predict function"
   ]
  },
  {
   "cell_type": "code",
   "execution_count": null,
   "metadata": {},
   "outputs": [],
   "source": [
    "def predict(dl_test, model, save = True):\n",
    "    model.eval()\n",
    "    out = []\n",
    "    for batch_idx, dat in enumerate(dl_test):\n",
    "        inp, target = dat\n",
    "        if inp.shape[0] < 2:\n",
    "            continue\n",
    "        out.append(model(inp))\n",
    "    out = torch.cat(out)\n",
    "    with open('..', 'wb') as f:\n",
    "        pickle.dump(predict, f)\n",
    "    return out"
   ]
  },
  {
   "cell_type": "markdown",
   "metadata": {},
   "source": [
    "# Evaluation functions with test results"
   ]
  },
  {
   "cell_type": "code",
   "execution_count": 155,
   "metadata": {},
   "outputs": [],
   "source": [
    "def metric1(target, predict, size_block = 100):\n",
    "    \"\"\"\n",
    "    看每个batch中真实的最佳，在不在我们预测的前五组中，在的话就算正确预测\n",
    "    遍历所有batch，看预测的准确性\n",
    "    组分的计算方法是所有配给得分的平均值\n",
    "    \"\"\"\n",
    "    assert(len(target) == len(predict))\n",
    "    length = len(target)\n",
    "    num_block = int(length/size_block)\n",
    "    num_hit = 0\n",
    "    num_miss = 0\n",
    "    for i in range(num_block):\n",
    "        block_tg = target[size_block*i: size_block*(i+1)]\n",
    "        block_pr = predict[size_block*i: size_block*(i+1)]\n",
    "        block_tg = block_tg[:, :].mean(dim = 1).squeeze()\n",
    "        block_pr = block_pr.mean(dim = 1).squeeze()\n",
    "        #block_tg = torch.cat(block_tg)\n",
    "        #block_pr = torch.cat(block_pr)\n",
    "        _, top_target = torch.topk(block_tg, 1, largest = False)\n",
    "        _, top_predict = torch.topk(block_pr, 5, largest = False)\n",
    "        if top_target in top_predict:\n",
    "            num_hit += 1\n",
    "        else:\n",
    "            num_miss += 1\n",
    "    return num_hit * 1.0 / (num_hit + num_miss)\n",
    "\n",
    "def metric2(target, predict, size_block = 100):\n",
    "    assert(len(target) == len(predict))\n",
    "    length = len(target)\n",
    "    num_block = int(length/size_block)\n",
    "    hit_count = {}\n",
    "    for i in range(num_block):\n",
    "        block_tg = target[size_block*i: size_block*(i+1)]\n",
    "        block_pr = predict[size_block*i: size_block*(i+1)]\n",
    "        block_tg = block_tg[:, :].mean(dim = 1).squeeze()\n",
    "        block_pr = block_pr.mean(dim = 1).squeeze()\n",
    "        _, index_top_target = torch.topk(block_tg, 1, largest = False)\n",
    "        _, index_rank = torch.topk(block_pr, len(block_tg), largest = False) # sort排序\n",
    "        index_rank = index_rank.tolist()\n",
    "        index_in_rank = index_rank.index(index_top_target)\n",
    "        if index_in_rank not in hit_count.keys():\n",
    "            #print('create new key')\n",
    "            hit_count[index_in_rank] = 1\n",
    "        else:\n",
    "            #print('add one')\n",
    "            hit_count[index_in_rank] = hit_count[index_in_rank] + 1\n",
    "    return hit_count\n",
    "\n",
    "def metric3(target, predict, size_block = 100):\n",
    "    assert(len(target) == len(predict))\n",
    "    length = len(target)\n",
    "    num_block = int(length/size_block)\n",
    "    hit_count = {}\n",
    "    for i in range(num_block):\n",
    "        block_tg = target[size_block*i: size_block*(i+1)]\n",
    "        block_pr = predict[size_block*i: size_block*(i+1)]\n",
    "        block_tg = block_tg[:, :].mean(dim = 1).squeeze()\n",
    "        block_pr = block_pr.mean(dim = 1).squeeze()\n",
    "        #_, index_top_target = torch.topk(target, 1, largest = False)\n",
    "        _, index_top_out = torch.topk(block_pr, 1, largest = False)\n",
    "        #_, index_rank = torch.topk(out, len(target), largest = False)\n",
    "        _, index_rank = torch.topk(block_tg, len(block_tg), largest = False)\n",
    "        index_rank = index_rank.tolist()\n",
    "        index_in_rank = index_rank.index(index_top_out)\n",
    "        if index_in_rank not in hit_count.keys():\n",
    "            #print('create new key')\n",
    "            hit_count[index_in_rank] = 1\n",
    "        else:\n",
    "            #print('add one')\n",
    "            hit_count[index_in_rank] = hit_count[index_in_rank] + 1\n",
    "    return hit_count"
   ]
  },
  {
   "cell_type": "markdown",
   "metadata": {},
   "source": [
    "# Evaluation functions with model"
   ]
  },
  {
   "cell_type": "code",
   "execution_count": 50,
   "metadata": {},
   "outputs": [],
   "source": [
    "def test_with_loss(dl_test, model, loss, verbose = False):\n",
    "    model.eval()\n",
    "    counter = 0\n",
    "    hit = 0\n",
    "    miss = 0\n",
    "    for batch_idx, dat in enumerate(dl_test):\n",
    "        counter += 1\n",
    "        inp, target = dat\n",
    "        if inp.shape[0] < 2:\n",
    "            continue\n",
    "        out = model(inp)\n",
    "        lo = loss(out.squeeze(), target.squeeze())\n",
    "        if verbose:\n",
    "            print('Test Batch:  [{}/{} ({:.0f}%)]\\tacc: {:.6f}\\tTime: {:.16f}'.format(\n",
    "                    batch_idx,\n",
    "                    len(dl_test),\n",
    "                    100.*batch_idx/len(dl_test),\n",
    "                    lo,\n",
    "                    time.time()\n",
    "                    ))"
   ]
  },
  {
   "cell_type": "code",
   "execution_count": 27,
   "metadata": {},
   "outputs": [],
   "source": [
    "def evaluate(pm, testdata):\n",
    "    # read extra test set\n",
    "    test = pd.read_pickle(testdata)\n",
    "    test_x = test.iloc[:, :650].values.reshape(len(test), 50, -1)\n",
    "    test_y = test.iloc[:, 650:].values.reshape(len(test), 50, -1)\n",
    "    np.save('../data/rnn_test_x', test_x)\n",
    "    np.save('../data/rnn_test_y', test_y)\n",
    "    loss = torch.nn.L1Loss()\n",
    "    test_x = '../data/rnn_test_x.npy'\n",
    "    test_y = '../data/rnn_test_y.npy'\n",
    "    test = Data(test_x, test_y)\n",
    "    dl_test = DataLoader(test, batch_size = 100, shuffle = True)\n",
    "    model = torch.load(pm)\n",
    "    me = 0\n",
    "    for i in range(5):\n",
    "        lo = significant_test(dl_test, model, loss)\n",
    "        me += lo\n",
    "        print('test ' + str(i)+': ' + str(lo))\n",
    "    hit_count = metric3(dl_test, model, loss)\n",
    "    hit_count = sorted(hit_count.items(), key = lambda x: x[0])\n",
    "    #out = [i[1] for i in hit_count]\n",
    "    out = hit_count\n",
    "    return (me, out)"
   ]
  },
  {
   "cell_type": "code",
   "execution_count": 36,
   "metadata": {},
   "outputs": [],
   "source": [
    "def significant_test(dl_test, model, verbose = False):\n",
    "    \"\"\"\n",
    "    看每个batch中真实的最佳，在不在我们预测的前五组中，在的话就算正确预测\n",
    "    遍历所有batch，看预测的准确性\n",
    "    组分的计算方法是所有配给得分的平均值\n",
    "    \"\"\"\n",
    "    model.eval()\n",
    "    counter = 0\n",
    "    hit = 0\n",
    "    miss = 0\n",
    "    for batch_idx, dat in enumerate(dl_test):\n",
    "        counter += 1\n",
    "        # codes to be changed\n",
    "        inp, target = dat\n",
    "        out = model(inp)\n",
    "        #target = target.mean(dim = 1)\n",
    "        target = target[:, :].mean(dim = 1).squeeze()\n",
    "        out = out.mean(dim = 1).squeeze()\n",
    "        #out = out[:, :].mean(dim = 1)\n",
    "        if len(inp) > 5:\n",
    "            _, top_target = torch.topk(target, 1, largest=False)\n",
    "            _, top_predict = torch.topk(out, 5, largest = False)\n",
    "            if verbose:\n",
    "                print(top_target)\n",
    "                print(top_predict)\n",
    "                print('*'*10)\n",
    "            if top_target in top_predict:\n",
    "                hit += 1\n",
    "            else:\n",
    "                miss += 1\n",
    "            if verbose:\n",
    "                print('Test Batch: [{}/{} ({:.0f}%)]\\tacc: {:.6f}\\tTime: {:.16f}'.format(\n",
    "                        batch_idx,\n",
    "                        int(len(test)/batch_size),\n",
    "                        100.*batch_idx/int(len(test)/batch_size),\n",
    "                        hit/counter,\n",
    "                        time.time()\n",
    "                        ))\n",
    "    return hit * 1.0/(hit + miss)\n",
    "\n",
    "def metric2(dl_test, model, verbose = False):\n",
    "    \"\"\"\n",
    "    具体看每个batch中，真实最佳组在预测组中排第几位\n",
    "    遍历batch，搜集所有排位信息，并搜集在dict中\n",
    "    \"\"\"\n",
    "    model.eval()\n",
    "    counter = 0\n",
    "    hit_count = {}\n",
    "    for batch_idx, dat in enumerate(dl_test):\n",
    "        counter += 1\n",
    "        inp, target = dat\n",
    "        out = model(inp)\n",
    "        #target = target.mean(dim = 1)\n",
    "        #out = out.mean(dim = 1)\n",
    "        target = target[:, :].mean(dim = 1).squeeze()\n",
    "        out = out[:, :].mean(dim = 1).squeeze()\n",
    "        if len(inp) > 5:\n",
    "            _, index_top_target = torch.topk(target, 1, largest = False)\n",
    "            _, index_rank = torch.topk(out, len(target), largest = False) # sort排序\n",
    "            index_rank = index_rank.tolist()\n",
    "            index_in_rank = index_rank.index(index_top_target)\n",
    "            if index_in_rank not in hit_count.keys():\n",
    "                #print('create new key')\n",
    "                hit_count[index_in_rank] = 1\n",
    "            else:\n",
    "                #print('add one')\n",
    "                hit_count[index_in_rank] = hit_count[index_in_rank] + 1\n",
    "            if verbose:\n",
    "                print('Test Batch: [{}/{} ({:.0f}%)]\\trank: {:.6f}\\tTime: {:.16f}'.format(\n",
    "                        batch_idx,\n",
    "                        int(len(test)/batch_size),\n",
    "                        100.*batch_idx/int(len(test)/batch_size),\n",
    "                        index_in_rank,\n",
    "                        time.time()\n",
    "                        ))\n",
    "    return hit_count\n",
    "\n",
    "def metric3(dl_test, model, verbose = False):\n",
    "    \"\"\"\n",
    "    和上面的metric2刚好相反\n",
    "    具体看每个batch中，预测最佳组在batch中所有真实组排第几位\n",
    "    遍历batch，搜集所有排位信息，并保存在dict中\n",
    "    \"\"\"\n",
    "    model.eval()\n",
    "    counter = 0\n",
    "    hit_count = {}\n",
    "    for batch_idx, dat in enumerate(dl_test):\n",
    "        counter += 1\n",
    "        inp, target = dat\n",
    "        out = model(inp)\n",
    "        #target = target.mean(dim = 1)\n",
    "        #out = out.mean(dim = 1)\n",
    "        target = target[:, :].mean(dim = 1).squeeze()\n",
    "        out = out[:, :].mean(dim = 1).squeeze()\n",
    "        if len(inp) > 5:\n",
    "            #_, index_top_target = torch.topk(target, 1, largest = False)\n",
    "            _, index_top_out = torch.topk(out, 1, largest = False)\n",
    "            #_, index_rank = torch.topk(out, len(target), largest = False)\n",
    "            _, index_rank = torch.topk(target, len(target), largest = False)\n",
    "            index_rank = index_rank.tolist()\n",
    "            index_in_rank = index_rank.index(index_top_out)\n",
    "            if index_in_rank not in hit_count.keys():\n",
    "                #print('create new key')\n",
    "                hit_count[index_in_rank] = 1\n",
    "            else:\n",
    "                #print('add one')\n",
    "                hit_count[index_in_rank] = hit_count[index_in_rank] + 1\n",
    "            if verbose:\n",
    "                print('Test Batch: [{}/{} ({:.0f}%)]\\trank: {:.6f}\\tTime: {:.16f}'.format(\n",
    "                        batch_idx,\n",
    "                        int(len(test)/batch_size),\n",
    "                        100.*batch_idx/int(len(test)/batch_size),\n",
    "                        index_in_rank,\n",
    "                        time.time()\n",
    "                        ))\n",
    "    return hit_count"
   ]
  },
  {
   "cell_type": "markdown",
   "metadata": {},
   "source": [
    "# class"
   ]
  },
  {
   "cell_type": "markdown",
   "metadata": {},
   "source": [
    "## CnnLSTM"
   ]
  },
  {
   "cell_type": "code",
   "execution_count": 4,
   "metadata": {},
   "outputs": [],
   "source": [
    "class CnnLSTM(nn.Module):\n",
    "    def __init__(self, num_classes = 1):\n",
    "        super(CnnLSTM, self).__init__()\n",
    "        num_cnno = 128\n",
    "        num_hidden = 32 \n",
    "        self.cnn = nn.Sequential(\n",
    "            BasicConv2d(1, 16, kernel_size=3, stride=2),\n",
    "            #BasicConv2d(16, 16, kernel_size=3),\n",
    "            nn.MaxPool2d(kernel_size = 3, stride = 2),\n",
    "            BasicConv2d(16, 32, kernel_size=3, padding=1),\n",
    "            nn.MaxPool2d(kernel_size = 3, stride = 2),\n",
    "            nn.AdaptiveAvgPool2d((1, 1)),\n",
    "            nn.Dropout2d())\n",
    "        self.lstm = nn.LSTM(32, num_hidden, num_layers = 2, batch_first = True)\n",
    "        self.fce = nn.Linear(num_hidden, num_classes)\n",
    "    def forward(self, xs):\n",
    "        \"\"\"\n",
    "        parameters:\n",
    "        -------------\n",
    "            xs: input data, list of pictures (with shape (N, 299, 299, 1))\n",
    "        \"\"\"\n",
    "        co = []\n",
    "        out = []\n",
    "        seq_len = len(xs)\n",
    "        batch_size, seq_len, width, height = xs.shape\n",
    "        #print(xs.shape)\n",
    "        for i in range(seq_len):\n",
    "            # (N, 299, 299, 1) => (N, num_hidden)\n",
    "            #co.append(self.cnn(torch.flatten(x, 1)))\n",
    "            #print('%'*20)\n",
    "            #print('round: '+ str(i))\n",
    "            tmp = self.cnn(xs[:,i,:,:].unsqueeze(1))\n",
    "            co.append(tmp.squeeze())\n",
    "            #print(tmp.squeeze().shape)\n",
    "        co = [i.unsqueeze(1) for i in co]\n",
    "        co = torch.cat(co, 1)\n",
    "        #print(co.shape)\n",
    "        lo, _ = self.lstm(co)\n",
    "        for i in range(seq_len):\n",
    "            tmp = self.fce(lo[:, i,:])\n",
    "            out.append(tmp)\n",
    "        out = torch.cat(out, 1)\n",
    "        return out.squeeze()\n",
    "\n",
    "\n",
    "class BasicConv2d(nn.Module):\n",
    "\n",
    "    def __init__(self, in_channels, out_channels, **kwargs):\n",
    "        super(BasicConv2d, self).__init__()\n",
    "        print(in_channels, out_channels)\n",
    "        self.conv = nn.Conv2d(in_channels, out_channels, bias=False, **kwargs)\n",
    "        self.bn = nn.BatchNorm2d(out_channels, eps=0.001)\n",
    "\n",
    "    def forward(self, x):\n",
    "        x = self.conv(x)\n",
    "        x = self.bn(x)\n",
    "        return F.relu(x, inplace=True)\n",
    "\n",
    "class Data():\n",
    "    def __init__(self, x, y):\n",
    "        self.data = {}\n",
    "        self.data['data'] = self.add_file(x) # type of pandas \n",
    "        self.data['polys'] = self.add_file(y) # type of pandas\n",
    "        self.jobs = self.data['data']['Jobid'].unique()\n",
    "        self.len = len(self.jobs)\n",
    "    \n",
    "    def add_file(self, path):\n",
    "        # read pickle file with pandas\n",
    "        out = pd.read_pickle(path)\n",
    "        out = out.astype({'Rot': 'float'})\n",
    "        return out.iloc[:200000, :]\n",
    "    \n",
    "    def __len__(self):\n",
    "        return self.len\n",
    "    \n",
    "    def __getitem__(self, index):\n",
    "        # get item with jobid\n",
    "        dat = self.data['data'][self.data['data']['Jobid'] == self.jobs[index]]\n",
    "        # merge \n",
    "        dat = dat.merge(self.data['polys'], on=['bounding box', 'Rot'], how = 'left')[['matrix', 'score']]\n",
    "        # transform and concatenate and split data \n",
    "        dat_x = np.concatenate(dat[['matrix']].values.tolist(), axis = 0) # shape of [50, 350, 350]\n",
    "        dat_y = dat[['score']].values # shape of [50, 1]\n",
    "        # transofrom to torch\n",
    "        dat_x = torch.from_numpy(dat_x).type('torch.FloatTensor')\n",
    "        dat_y = torch.from_numpy(dat_y).type('torch.FloatTensor')\n",
    "        # move to gpu if exist\n",
    "        if torch.cuda.is_available():\n",
    "            dat_x = dat_x.cuda()\n",
    "            dat_y = dat_y.cuda()\n",
    "        return dat_x, dat_y\n",
    "\n",
    "class Data2():\n",
    "    def __init__(self, x, y):\n",
    "        self.data = {}\n",
    "        self.data['data'] = self.add_file(x) # type of pandas \n",
    "        self.data['polys'] = self.add_file(y) # type of pandas\n",
    "        self._combine()\n",
    "        self.len = len(self.data['Xs'])\n",
    "    \n",
    "    def add_file(self, path):\n",
    "        # read pickle file with pandas\n",
    "        out = pd.read_pickle(path)\n",
    "        out = out.astype({'Rot': 'float'})\n",
    "        #return out.iloc[:200000, :]\n",
    "        return out\n",
    "    \n",
    "    def _combine(self):\n",
    "        jobs = self.data['data']['Jobid'].unique()\n",
    "        # shuffle\n",
    "        random.shuffle(jobs)\n",
    "        Xs = []\n",
    "        ys = []\n",
    "        counter = 0\n",
    "        for i in jobs:\n",
    "            if counter > 10:\n",
    "                break\n",
    "            dat = self.data['data'][self.data['data']['Jobid'] == i]\n",
    "            dat = dat.merge(self.data['polys'], on=['bounding box', 'Rot'], how = 'left')[['matrix', 'score']]\n",
    "            dat_x = np.concatenate(dat[['matrix']].values.tolist(), axis = 0) # shape of [50, 350, 350]\n",
    "            dat_y = dat[['score']].values # shape of [50, 1]\n",
    "            dat_x = torch.from_numpy(dat_x).type('torch.FloatTensor')\n",
    "            dat_y = torch.from_numpy(dat_y).type('torch.FloatTensor')\n",
    "            if torch.cuda.is_available():\n",
    "                dat_x = dat_x.cuda()\n",
    "                dat_y = dat_y.cuda()\n",
    "            Xs.append(dat_x)\n",
    "            ys.append(dat_y)\n",
    "            counter += 1\n",
    "        del self.data['data']\n",
    "        self.data['Xs'] = Xs\n",
    "        self.data['ys'] = ys\n",
    "\n",
    "    def __len__(self):\n",
    "        return self.len\n",
    "    \n",
    "    def __getitem__(self, index):\n",
    "        return self.data['Xs'][index], self.data['ys'][index]\n",
    "\n"
   ]
  },
  {
   "cell_type": "markdown",
   "metadata": {},
   "source": [
    "## Inception simple"
   ]
  },
  {
   "cell_type": "code",
   "execution_count": 39,
   "metadata": {},
   "outputs": [],
   "source": [
    "class IncepLSTM(nn.Module):\n",
    "    def __init__(self, num_classes = 1, n = 2):\n",
    "        super(IncepLSTM, self).__init__()\n",
    "        num_cnno = 128\n",
    "        num_hidden = 128\n",
    "        self.cnn = nn.Sequential(\n",
    "            BasicConv2d(1, int(16/n), kernel_size=3, stride=2),\n",
    "            BasicConv2d(int(16/n), int(16/n), kernel_size=3),\n",
    "            BasicConv2d(int(16/n), int(32/n), kernel_size=3, padding=1),\n",
    "            nn.MaxPool2d(kernel_size = 3, stride = 2),\n",
    "            BasicConv2d(int(32/n), int(40/n), kernel_size=1),\n",
    "            BasicConv2d(int(40/n), int(96/n), kernel_size=3),\n",
    "            nn.MaxPool2d(kernel_size = 3, stride = 2),\n",
    "            InceptionA(int(96/n), pool_features=16, n = n), # 224/n + pool_features\n",
    "            InceptionA(int(224/n + 16), pool_features=32, n = n),\n",
    "            InceptionA(int(224/n + 32), pool_features=32, n = n),\n",
    "            InceptionB(int(224/n + 32), n = n), # 480/n + c_in\n",
    "            InceptionC(int(480/n + 224/n + 32), channels_7x7=64, n = n), # 768/n\n",
    "            InceptionC(int(768/n), channels_7x7=80, n = n),\n",
    "            InceptionC(int(768/n), channels_7x7=80, n = n),\n",
    "            InceptionC(int(768/n), channels_7x7=80, n = n),\n",
    "            InceptionD(int(768/n), n = n), # 512/n + c_in\n",
    "            InceptionE(int(768/n + 512/n), n = n), # (320 + 384*4 + 192)/n\n",
    "            InceptionE(int(2048/n), n = n),\n",
    "            nn.AdaptiveAvgPool2d((1, 1)),\n",
    "            nn.Dropout2d())\n",
    "        self.lstm = nn.LSTM(int(2048/n), num_hidden, num_layers = 2, batch_first = True)\n",
    "        self.fce = nn.Linear(num_hidden, num_classes)\n",
    "    def forward(self, xs):\n",
    "        \"\"\"\n",
    "        parameters:\n",
    "        -------------\n",
    "            xs: input data, list of pictures (with shape (N, 299, 299, 1))\n",
    "        \"\"\"\n",
    "        co = []\n",
    "        out = []\n",
    "        seq_len = len(xs)\n",
    "        batch_size, seq_len, width, height = xs.shape\n",
    "        for i in range(seq_len):\n",
    "            # (N, 299, 299, 1) => (N, num_hidden)\n",
    "            #co.append(self.cnn(torch.flatten(x, 1)))\n",
    "            #print('%'*20)\n",
    "            #print('round: '+ str(i))\n",
    "            tmp = self.cnn(xs[:,i,:,:].unsqueeze(1))\n",
    "            co.append(tmp.squeeze())\n",
    "            #print(tmp.squeeze().shape)\n",
    "        co = [i.unsqueeze(1) for i in co]\n",
    "        co = torch.cat(co, 1)\n",
    "        lo, _ = self.lstm(co)\n",
    "        for i in range(seq_len):\n",
    "            tmp = self.fce(lo[:, i,:])\n",
    "            out.append(tmp)\n",
    "        out = torch.cat(out, 1)\n",
    "        return out.squeeze()\n",
    "    \n",
    "# layer: number of output channel \n",
    "# InceptionA(in_channels, pool_features): 224/n + pool_features; H, W\n",
    "# InceptionB(in_channels): 480/n + in_channels; H/2, W/2\n",
    "# InceptionC(in_channels, channels_7x7): 768/n; H, W\n",
    "# InceptionD(in_channels): 512/n + in_channels; H/2, W/2\n",
    "# InceptionE(in_channels): 1280/n; H, W\n",
    "# InceptionAux(in_channels, pool_features):\n",
    "# BasicConv2d(in_channels, out_channels): Conv2d + BN\n",
    "class InceptionA(nn.Module):\n",
    "    def __init__(self, in_channels, pool_features, n = 2):\n",
    "        \"\"\"\n",
    "        n = 1, 2, 4, 6\n",
    "        \"\"\"\n",
    "        super(InceptionA, self).__init__()\n",
    "        self.branch1x1 = BasicConv2d(in_channels, int(64/n), kernel_size=1)\n",
    "\n",
    "        self.branch5x5_1 = BasicConv2d(in_channels, int(48/n), kernel_size=1)\n",
    "        self.branch5x5_2 = BasicConv2d(int(48/n), int(64/n), kernel_size=5, padding=2)\n",
    "\n",
    "        self.branch3x3dbl_1 = BasicConv2d(in_channels, int(64/n), kernel_size=1)\n",
    "        self.branch3x3dbl_2 = BasicConv2d(int(64/n), int(96/n), kernel_size=3, padding=1)\n",
    "        self.branch3x3dbl_3 = BasicConv2d(int(96/n), int(96/n), kernel_size=3, padding=1)\n",
    "\n",
    "        self.branch_pool = BasicConv2d(in_channels, pool_features, kernel_size=1)\n",
    "\n",
    "    def forward(self, x):\n",
    "        #print('InceptionA')\n",
    "        branch1x1 = self.branch1x1(x)\n",
    "\n",
    "        branch5x5 = self.branch5x5_1(x)\n",
    "        branch5x5 = self.branch5x5_2(branch5x5)\n",
    "\n",
    "        branch3x3dbl = self.branch3x3dbl_1(x)\n",
    "        branch3x3dbl = self.branch3x3dbl_2(branch3x3dbl)\n",
    "        branch3x3dbl = self.branch3x3dbl_3(branch3x3dbl)\n",
    "\n",
    "        branch_pool = F.avg_pool2d(x, kernel_size=3, stride=1, padding=1)\n",
    "        branch_pool = self.branch_pool(branch_pool)\n",
    "\n",
    "        outputs = [branch1x1, branch5x5, branch3x3dbl, branch_pool]\n",
    "        return torch.cat(outputs, 1)\n",
    "\n",
    "\n",
    "class InceptionB(nn.Module):\n",
    "\n",
    "    def __init__(self, in_channels, n = 2):\n",
    "        \"\"\"\n",
    "        n = 1, 2, 4, 6\n",
    "        \"\"\"\n",
    "        super(InceptionB, self).__init__()\n",
    "        self.branch3x3 = BasicConv2d(in_channels, int(384/n), kernel_size=3, stride=2)\n",
    "\n",
    "        self.branch3x3dbl_1 = BasicConv2d(in_channels, int(64/n), kernel_size=1)\n",
    "        self.branch3x3dbl_2 = BasicConv2d(int(64/n), int(96/n), kernel_size=3, padding=1)\n",
    "        self.branch3x3dbl_3 = BasicConv2d(int(96/n), int(96/n), kernel_size=3, stride=2)\n",
    "\n",
    "    def forward(self, x):\n",
    "        #print('InceptionB')\n",
    "        branch3x3 = self.branch3x3(x)\n",
    "\n",
    "        branch3x3dbl = self.branch3x3dbl_1(x)\n",
    "        branch3x3dbl = self.branch3x3dbl_2(branch3x3dbl)\n",
    "        branch3x3dbl = self.branch3x3dbl_3(branch3x3dbl)\n",
    "\n",
    "        branch_pool = F.max_pool2d(x, kernel_size=3, stride=2)\n",
    "\n",
    "        outputs = [branch3x3, branch3x3dbl, branch_pool]\n",
    "        return torch.cat(outputs, 1)\n",
    "\n",
    "\n",
    "class InceptionC(nn.Module):\n",
    "\n",
    "    def __init__(self, in_channels, channels_7x7, n = 2):\n",
    "        \"\"\"\n",
    "        n = 1, 2, 4, 6\n",
    "        \"\"\"\n",
    "        super(InceptionC, self).__init__()\n",
    "        self.branch1x1 = BasicConv2d(in_channels, int(192/n), kernel_size=1)\n",
    "\n",
    "        c7 = channels_7x7\n",
    "        self.branch7x7_1 = BasicConv2d(in_channels, c7, kernel_size=1)\n",
    "        self.branch7x7_2 = BasicConv2d(c7, c7, kernel_size=(1, 7), padding=(0, 3))\n",
    "        self.branch7x7_3 = BasicConv2d(c7, int(192/n), kernel_size=(7, 1), padding=(3, 0))\n",
    "\n",
    "        self.branch7x7dbl_1 = BasicConv2d(in_channels, c7, kernel_size=1)\n",
    "        self.branch7x7dbl_2 = BasicConv2d(c7, c7, kernel_size=(7, 1), padding=(3, 0))\n",
    "        self.branch7x7dbl_3 = BasicConv2d(c7, c7, kernel_size=(1, 7), padding=(0, 3))\n",
    "        self.branch7x7dbl_4 = BasicConv2d(c7, c7, kernel_size=(7, 1), padding=(3, 0))\n",
    "        self.branch7x7dbl_5 = BasicConv2d(c7, int(192/n), kernel_size=(1, 7), padding=(0, 3))\n",
    "\n",
    "        self.branch_pool = BasicConv2d(in_channels, int(192/n), kernel_size=1)\n",
    "\n",
    "    def forward(self, x):\n",
    "        #print('InceptionC')\n",
    "        branch1x1 = self.branch1x1(x)\n",
    "        #print('InceptionC - 1')\n",
    "        branch7x7 = self.branch7x7_1(x)\n",
    "        branch7x7 = self.branch7x7_2(branch7x7)\n",
    "        branch7x7 = self.branch7x7_3(branch7x7)\n",
    "        #print('InceptionC - 2')\n",
    "        branch7x7dbl = self.branch7x7dbl_1(x)\n",
    "        branch7x7dbl = self.branch7x7dbl_2(branch7x7dbl)\n",
    "        branch7x7dbl = self.branch7x7dbl_3(branch7x7dbl)\n",
    "        branch7x7dbl = self.branch7x7dbl_4(branch7x7dbl)\n",
    "        branch7x7dbl = self.branch7x7dbl_5(branch7x7dbl)\n",
    "        #print('InceptionC - 3')\n",
    "        branch_pool = F.avg_pool2d(x, kernel_size=3, stride=1, padding=1)\n",
    "        branch_pool = self.branch_pool(branch_pool)\n",
    "        #print('InceptionC - 4')\n",
    "        outputs = [branch1x1, branch7x7, branch7x7dbl, branch_pool]\n",
    "        return torch.cat(outputs, 1)\n",
    "\n",
    "\n",
    "class InceptionD(nn.Module):\n",
    "\n",
    "    def __init__(self, in_channels, n = 2):\n",
    "        \"\"\"\n",
    "        n = 1, 2, 4, 6\n",
    "        \"\"\"\n",
    "        super(InceptionD, self).__init__()\n",
    "        self.branch3x3_1 = BasicConv2d(in_channels, int(192/n), kernel_size=1)\n",
    "        self.branch3x3_2 = BasicConv2d(int(192/n), int(320/n), kernel_size=3, stride=2)\n",
    "\n",
    "        self.branch7x7x3_1 = BasicConv2d(in_channels, int(192/n), kernel_size=1)\n",
    "        self.branch7x7x3_2 = BasicConv2d(int(192/n), int(192/n), kernel_size=(1, 7), padding=(0, 3))\n",
    "        self.branch7x7x3_3 = BasicConv2d(int(192/n), int(192/n), kernel_size=(7, 1), padding=(3, 0))\n",
    "        self.branch7x7x3_4 = BasicConv2d(int(192/n), int(192/n), kernel_size=3, stride=2)\n",
    "\n",
    "    def forward(self, x):\n",
    "        #print('InceptionD')\n",
    "        branch3x3 = self.branch3x3_1(x)\n",
    "        branch3x3 = self.branch3x3_2(branch3x3)\n",
    "\n",
    "        branch7x7x3 = self.branch7x7x3_1(x)\n",
    "        branch7x7x3 = self.branch7x7x3_2(branch7x7x3)\n",
    "        branch7x7x3 = self.branch7x7x3_3(branch7x7x3)\n",
    "        branch7x7x3 = self.branch7x7x3_4(branch7x7x3)\n",
    "\n",
    "        branch_pool = F.max_pool2d(x, kernel_size=3, stride=2)\n",
    "        outputs = [branch3x3, branch7x7x3, branch_pool]\n",
    "        return torch.cat(outputs, 1)\n",
    "\n",
    "\n",
    "class InceptionE(nn.Module):\n",
    "\n",
    "    def __init__(self, in_channels, n = 2):\n",
    "        \"\"\"\n",
    "        n = 1, 2, 4, 6\n",
    "        \"\"\"\n",
    "        super(InceptionE, self).__init__()\n",
    "        self.branch1x1 = BasicConv2d(in_channels, int(320/n), kernel_size=1)\n",
    "\n",
    "        self.branch3x3_1 = BasicConv2d(in_channels, int(384/n), kernel_size=1)\n",
    "        self.branch3x3_2a = BasicConv2d(int(384/n), int(384/n), kernel_size=(1, 3), padding=(0, 1))\n",
    "        self.branch3x3_2b = BasicConv2d(int(384/n), int(384/n), kernel_size=(3, 1), padding=(1, 0))\n",
    "\n",
    "        self.branch3x3dbl_1 = BasicConv2d(in_channels, int(448/n), kernel_size=1)\n",
    "        self.branch3x3dbl_2 = BasicConv2d(int(448/n), int(384/n), kernel_size=3, padding=1)\n",
    "        self.branch3x3dbl_3a = BasicConv2d(int(384/n), int(384/n), kernel_size=(1, 3), padding=(0, 1))\n",
    "        self.branch3x3dbl_3b = BasicConv2d(int(384/n), int(384/n), kernel_size=(3, 1), padding=(1, 0))\n",
    "\n",
    "        self.branch_pool = BasicConv2d(in_channels, int(192/n), kernel_size=1)\n",
    "\n",
    "    def forward(self, x):\n",
    "        #print('InceptionE')\n",
    "        branch1x1 = self.branch1x1(x)\n",
    "        #print('InceptionE - 1')\n",
    "        branch3x3 = self.branch3x3_1(x)\n",
    "        branch3x3 = [\n",
    "            self.branch3x3_2a(branch3x3),\n",
    "            self.branch3x3_2b(branch3x3),\n",
    "        ]\n",
    "        branch3x3 = torch.cat(branch3x3, 1)\n",
    "        #print('InceptionE - 2')\n",
    "        branch3x3dbl = self.branch3x3dbl_1(x)\n",
    "        branch3x3dbl = self.branch3x3dbl_2(branch3x3dbl)\n",
    "        branch3x3dbl = [\n",
    "            self.branch3x3dbl_3a(branch3x3dbl),\n",
    "            self.branch3x3dbl_3b(branch3x3dbl),\n",
    "        ]\n",
    "        branch3x3dbl = torch.cat(branch3x3dbl, 1)\n",
    "        #print('InceptionE - 3')\n",
    "        branch_pool = F.avg_pool2d(x, kernel_size=3, stride=1, padding=1)\n",
    "        branch_pool = self.branch_pool(branch_pool)\n",
    "        #print(branch1x1.shape, branch3x3.shape, branch3x3dbl.shape, branch_pool.shape)\n",
    "        outputs = [branch1x1, branch3x3, branch3x3dbl, branch_pool]\n",
    "        return torch.cat(outputs, 1)\n",
    "\n",
    "\n",
    "class InceptionAux(nn.Module):\n",
    "\n",
    "    def __init__(self, in_channels, num_classes, n = 2):\n",
    "        \"\"\"\n",
    "        n = 1, 2, 4, 6\n",
    "        \"\"\"\n",
    "        super(InceptionAux, self).__init__()\n",
    "        self.conv0 = BasicConv2d(in_channels, int(128/n), kernel_size=1)\n",
    "        self.conv1 = BasicConv2d(int(128/n), int(768/n), kernel_size=5)\n",
    "        self.conv1.stddev = 0.01\n",
    "        self.fc = nn.Linear(int(768/n), num_classes)\n",
    "        self.fc.stddev = 0.001\n",
    "\n",
    "    def forward(self, x):\n",
    "        # N x 768 x 17 x 17\n",
    "        x = F.avg_pool2d(x, kernel_size=5, stride=3)\n",
    "        # N x 768 x 5 x 5\n",
    "        x = self.conv0(x)\n",
    "        # N x 128 x 5 x 5\n",
    "        x = self.conv1(x)\n",
    "        # N x 768 x 1 x 1\n",
    "        # Adaptive average pooling\n",
    "        x = F.adaptive_avg_pool2d(x, (1, 1))\n",
    "        # N x 768 x 1 x 1\n",
    "        x = torch.flatten(x, 1)\n",
    "        # N x 768\n",
    "        x = self.fc(x)\n",
    "        # N x 1000\n",
    "        return x\n",
    "\n",
    "\n",
    "class BasicConv2d(nn.Module):\n",
    "\n",
    "    def __init__(self, in_channels, out_channels, **kwargs):\n",
    "        super(BasicConv2d, self).__init__()\n",
    "        print(in_channels, out_channels)\n",
    "        self.conv = nn.Conv2d(in_channels, out_channels, bias=False, **kwargs)\n",
    "        self.bn = nn.BatchNorm2d(out_channels, eps=0.001)\n",
    "\n",
    "    def forward(self, x):\n",
    "        x = self.conv(x)\n",
    "        x = self.bn(x)\n",
    "        return F.relu(x, inplace=True)\n",
    "\n",
    "class Data2():\n",
    "    def __init__(self, x, y):\n",
    "        self.data = {}\n",
    "        self.data['data'] = self.add_file(x) # type of pandas \n",
    "        self.data['polys'] = self.add_file(y) # type of pandas\n",
    "        self._combine()\n",
    "        self.len = len(self.data['Xs'])\n",
    "    \n",
    "    def add_file(self, path):\n",
    "        # read pickle file with pandas\n",
    "        out = pd.read_pickle(path)\n",
    "        out = out.astype({'Rot': 'float'})\n",
    "        #return out.iloc[:200000, :]\n",
    "        return out\n",
    "    \n",
    "    def _combine(self):\n",
    "        jobs = self.data['data']['Jobid'].unique()\n",
    "        # shuffle\n",
    "        random.shuffle(jobs)\n",
    "        Xs = []\n",
    "        ys = []\n",
    "        counter = 0\n",
    "        for i in jobs:\n",
    "            if counter > 700:\n",
    "                break\n",
    "            dat = self.data['data'][self.data['data']['Jobid'] == i]\n",
    "            dat = dat.merge(self.data['polys'], on=['bounding box', 'Rot'], how = 'left')[['matrix', 'score']]\n",
    "            dat_x = np.concatenate(dat[['matrix']].values.tolist(), axis = 0) # shape of [50, 350, 350]\n",
    "            dat_y = dat[['score']].values # shape of [50, 1]\n",
    "            dat_x = torch.from_numpy(dat_x).type('torch.FloatTensor')\n",
    "            dat_y = torch.from_numpy(dat_y).type('torch.FloatTensor')\n",
    "            if torch.cuda.is_available():\n",
    "                dat_x = dat_x.cuda()\n",
    "                dat_y = dat_y.cuda()\n",
    "            Xs.append(dat_x)\n",
    "            ys.append(dat_y)\n",
    "            counter += 1\n",
    "        del self.data['data']\n",
    "        self.data['Xs'] = Xs\n",
    "        self.data['ys'] = ys\n",
    "\n",
    "    def __len__(self):\n",
    "        return self.len\n",
    "    \n",
    "    def __getitem__(self, index):\n",
    "        return self.data['Xs'][index], self.data['ys'][index]\n",
    "\n",
    "\n",
    "class Data():\n",
    "    def __init__(self, x, y):\n",
    "        self.data = {}\n",
    "        self.data['data'] = self.add_file(x) # type of pandas \n",
    "        self.data['polys'] = self.add_file(y) # type of pandas\n",
    "        self.jobs = self.data['data']['Jobid'].unique()\n",
    "        self.len = len(self.jobs)\n",
    "    \n",
    "    def add_file(self, path):\n",
    "        # read pickle file with pandas\n",
    "        out = pd.read_pickle(path)\n",
    "        out = out.astype({'Rot': 'float'})\n",
    "        return out\n",
    "    \n",
    "    def __len__(self):\n",
    "        return self.len\n",
    "    \n",
    "    def __getitem__(self, index):\n",
    "        # get item with jobid\n",
    "        dat = self.data['data'][self.data['data']['Jobid'] == self.jobs[index]]\n",
    "        # merge \n",
    "        dat = dat.merge(self.data['polys'], on=['bounding box', 'Rot'], how = 'left')[['matrix', 'score']]\n",
    "        # transform and concatenate and split data \n",
    "        dat_x = np.concatenate(dat[['matrix']].values.tolist(), axis = 0) # shape of [50, 350, 350]\n",
    "        dat_y = dat[['score']].values # shape of [50, 1]\n",
    "        # transofrom to torch\n",
    "        dat_x = torch.from_numpy(dat_x).type('torch.FloatTensor')\n",
    "        dat_y = torch.from_numpy(dat_y).type('torch.FloatTensor')\n",
    "        # move to gpu if exist\n",
    "        if torch.cuda.is_available():\n",
    "            dat_x = dat_x.cuda()\n",
    "            dat_y = dat_y.cuda()\n",
    "        return dat_x, dat_y\n"
   ]
  },
  {
   "cell_type": "code",
   "execution_count": null,
   "metadata": {},
   "outputs": [],
   "source": []
  }
 ],
 "metadata": {
  "kernelspec": {
   "display_name": "work",
   "language": "python",
   "name": "work"
  },
  "language_info": {
   "codemirror_mode": {
    "name": "ipython",
    "version": 3
   },
   "file_extension": ".py",
   "mimetype": "text/x-python",
   "name": "python",
   "nbconvert_exporter": "python",
   "pygments_lexer": "ipython3",
   "version": "3.6.8"
  },
  "toc": {
   "base_numbering": 1,
   "nav_menu": {},
   "number_sections": true,
   "sideBar": true,
   "skip_h1_title": false,
   "title_cell": "Table of Contents",
   "title_sidebar": "Contents",
   "toc_cell": false,
   "toc_position": {},
   "toc_section_display": true,
   "toc_window_display": false
  }
 },
 "nbformat": 4,
 "nbformat_minor": 2
}
