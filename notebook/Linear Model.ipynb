{
 "cells": [
  {
   "cell_type": "code",
   "execution_count": null,
   "metadata": {},
   "outputs": [],
   "source": []
  },
  {
   "cell_type": "code",
   "execution_count": 1,
   "metadata": {},
   "outputs": [],
   "source": [
    "import pandas as pd\n",
    "import numpy as np\n",
    "import matplotlib.pyplot as plt\n",
    "import warnings\n",
    "warnings.filterwarnings(\"ignore\")\n",
    "import gc"
   ]
  },
  {
   "cell_type": "code",
   "execution_count": 42,
   "metadata": {},
   "outputs": [],
   "source": [
    "train = pd.read_csv(\"regression.csv\", index_col=0)\n",
    "def identify_and_remove_unique_columns(Dataframe):\n",
    "    unique_counts = Dataframe.nunique()\n",
    "    record_single_unique = pd.DataFrame(unique_counts[unique_counts == 1]).reset_index().rename(columns = {'index': 'feature', 0: 'nunique'})\n",
    "    to_drop = list(record_single_unique['feature'])\n",
    "    Dataframe = Dataframe.drop(columns = to_drop)\n",
    "    return Dataframe\n"
   ]
  },
  {
   "cell_type": "code",
   "execution_count": 53,
   "metadata": {},
   "outputs": [],
   "source": [
    "train_x = train.iloc[:,:700]\n",
    "train_x = identify_and_remove_unique_columns(pd.DataFrame(train_x))\n",
    "train_y = train.iloc[:,700:]"
   ]
  },
  {
   "cell_type": "code",
   "execution_count": 54,
   "metadata": {},
   "outputs": [],
   "source": [
    "# ------------------------------------------------------\n",
    "\n",
    "Interquartile0_25 = np.array(train_y.quantile(0.25))\n",
    "Interquartile0_75 = np.array(train_y.quantile(0.75))\n",
    "IQR = Interquartile0_75 - Interquartile0_25\n",
    "\n",
    "# Median for each features\n",
    "median = np.array(train_y.median())\n",
    "\n",
    "\n",
    "# sigmoid transformation\n",
    "numeric_features = (1+np.exp((-train_y + median)/(0.5*IQR)))**(-1)\n",
    "train_y = numeric_features.sum(axis=1)\n",
    "# ------------------------------------------------------"
   ]
  },
  {
   "cell_type": "code",
   "execution_count": 55,
   "metadata": {},
   "outputs": [],
   "source": [
    "\n",
    "\n",
    "from sklearn.model_selection import train_test_split\n",
    "\n",
    "X_train, X_test, y_train, y_test = train_test_split(train_x, train_y, test_size=0.33, random_state=42)\n",
    "#del train\n",
    "#del train_x\n",
    "#del train_y\n",
    "gc.collect();"
   ]
  },
  {
   "cell_type": "markdown",
   "metadata": {},
   "source": [
    "\n",
    "# Base lines metric mse l1"
   ]
  },
  {
   "cell_type": "code",
   "execution_count": 56,
   "metadata": {},
   "outputs": [
    {
     "data": {
      "text/plain": [
       "4489"
      ]
     },
     "execution_count": 56,
     "metadata": {},
     "output_type": "execute_result"
    }
   ],
   "source": [
    "len(train_y.unique())"
   ]
  },
  {
   "cell_type": "code",
   "execution_count": 57,
   "metadata": {},
   "outputs": [
    {
     "name": "stdout",
     "output_type": "stream",
     "text": [
      " mean absolute error\n",
      "0.45586001818000027\n",
      " \n",
      "\n",
      " mean squares error\n",
      "0.3044907752894198\n"
     ]
    }
   ],
   "source": [
    "# naive prediction with mean \n",
    "from sklearn.metrics import mean_squared_error,  mean_absolute_error\n",
    "print(\" mean absolute error\")\n",
    "print(np.abs(y_test - y_test.mean()).mean())\n",
    "print(\" \\n\")\n",
    "print(\" mean squares error\")\n",
    "print(np.square(y_test - y_test.mean()).mean())"
   ]
  },
  {
   "cell_type": "markdown",
   "metadata": {},
   "source": [
    "# Linear Model"
   ]
  },
  {
   "cell_type": "code",
   "execution_count": 58,
   "metadata": {},
   "outputs": [
    {
     "name": "stdout",
     "output_type": "stream",
     "text": [
      "Mean squared error: 0.00013369\n",
      "Mean absolute error: 0.00812271\n"
     ]
    }
   ],
   "source": [
    "from sklearn import linear_model\n",
    "from sklearn import neural_network\n",
    "import lightgbm  as lgb\n",
    "Linear_regression_model = linear_model.Ridge(alpha=.5)\n",
    "from sklearn.metrics import mean_squared_error, mean_absolute_error\n",
    "\n",
    "#Linear_regression_model = linear_model.LinearRegression()\n",
    "Linear_regression_model = neural_network.MLPRegressor()\n",
    "#Linear_regression_model = linear_model.Ridge(alpha=.5)\n",
    "#Linear_regression_model = lgb.LGBMRegressor()\n",
    "Linear_regression_model.fit(X_train, y_train)\n",
    "\n",
    "y_train_prediction = Linear_regression_model.predict(X_train)\n",
    "\n",
    "print(\"Mean squared error: %.8f\" % mean_squared_error(y_train, y_train_prediction))\n",
    "\n",
    "print(\"Mean absolute error: %.8f\" % mean_absolute_error(y_train, y_train_prediction))"
   ]
  },
  {
   "cell_type": "code",
   "execution_count": 59,
   "metadata": {
    "scrolled": true
   },
   "outputs": [
    {
     "name": "stdout",
     "output_type": "stream",
     "text": [
      "Mean squared error: 0.36\n",
      "Mean absolute error: 0.49\n"
     ]
    }
   ],
   "source": [
    "y_test_prediction = Linear_regression_model.predict(X_test)\n",
    "\n",
    "print(\"Mean squared error: %.2f\" % mean_squared_error(y_test, y_test_prediction))\n",
    "\n",
    "print(\"Mean absolute error: %.2f\" % mean_absolute_error(y_test, y_test_prediction))"
   ]
  },
  {
   "cell_type": "code",
   "execution_count": 25,
   "metadata": {},
   "outputs": [],
   "source": [
    "import pickle\n",
    "pickle.dump(Linear_regression_model, open('../models/linear_predict.pkl', 'wb'))"
   ]
  },
  {
   "cell_type": "code",
   "execution_count": 26,
   "metadata": {},
   "outputs": [],
   "source": [
    "tmp = X_train.iloc[:, :200]"
   ]
  },
  {
   "cell_type": "code",
   "execution_count": 17,
   "metadata": {
    "scrolled": true
   },
   "outputs": [
    {
     "data": {
      "text/plain": [
       "<matplotlib.axes._subplots.AxesSubplot at 0x108cd8550>"
      ]
     },
     "execution_count": 17,
     "metadata": {},
     "output_type": "execute_result"
    },
    {
     "data": {
      "image/png": "[encoded data removed]",
      "text/plain": [
       "<Figure size 432x288 with 1 Axes>"
      ]
     },
     "metadata": {
      "needs_background": "light"
     },
     "output_type": "display_data"
    }
   ],
   "source": [
    "#y_train.iloc[:100, 2].plot()"
   ]
  },
  {
   "cell_type": "code",
   "execution_count": 36,
   "metadata": {},
   "outputs": [
    {
     "data": {
      "text/plain": [
       "3.42    2209\n",
       "3.40    2161\n",
       "3.44    2157\n",
       "3.38    2120\n",
       "3.34    2110\n",
       "3.36    2096\n",
       "3.46    2083\n",
       "3.48    2034\n",
       "3.32    1960\n",
       "3.50    1915\n",
       "3.30    1846\n",
       "3.52    1712\n",
       "3.28    1671\n",
       "3.54    1663\n",
       "3.56    1548\n",
       "3.26    1541\n",
       "3.58    1385\n",
       "3.24    1362\n",
       "3.22    1226\n",
       "3.20    1148\n",
       "3.60    1139\n",
       "3.62     990\n",
       "3.18     938\n",
       "3.64     860\n",
       "3.16     774\n",
       "3.66     727\n",
       "3.14     662\n",
       "3.68     641\n",
       "3.70     540\n",
       "3.12     528\n",
       "        ... \n",
       "3.00     147\n",
       "3.82     121\n",
       "2.98     118\n",
       "3.84      90\n",
       "2.96      89\n",
       "2.94      68\n",
       "3.88      57\n",
       "3.86      57\n",
       "2.92      48\n",
       "3.90      40\n",
       "2.90      36\n",
       "3.92      22\n",
       "2.88      22\n",
       "3.94      14\n",
       "2.86      12\n",
       "2.84      11\n",
       "3.96      10\n",
       "3.98       9\n",
       "2.82       6\n",
       "2.80       6\n",
       "2.76       4\n",
       "2.78       4\n",
       "4.00       4\n",
       "4.02       3\n",
       "4.12       2\n",
       "4.04       2\n",
       "4.20       1\n",
       "4.08       1\n",
       "2.74       1\n",
       "2.66       1\n",
       "Name: metric_4, Length: 70, dtype: int64"
      ]
     },
     "execution_count": 36,
     "metadata": {},
     "output_type": "execute_result"
    }
   ],
   "source": [
    "y_train.iloc[:,-1].value_counts()"
   ]
  },
  {
   "cell_type": "code",
   "execution_count": 35,
   "metadata": {},
   "outputs": [
    {
     "data": {
      "text/plain": [
       "564.130435    1922\n",
       "374.282609    1920\n",
       "488.782609    1914\n",
       "334.152174    1897\n",
       "342.847826    1895\n",
       "419.108696    1889\n",
       "397.456522    1888\n",
       "577.695652    1888\n",
       "585.782609    1878\n",
       "379.760870    1877\n",
       "378.891304    1876\n",
       "322.021739    1875\n",
       "341.652174    1874\n",
       "434.739130    1868\n",
       "559.260870    1868\n",
       "418.869565    1867\n",
       "549.391304    1862\n",
       "431.434783    1854\n",
       "565.391304    1851\n",
       "485.500000    1847\n",
       "725.956522    1846\n",
       "394.043478    1846\n",
       "440.782609    1838\n",
       "509.760870    1830\n",
       "588.586957    1795\n",
       "386.760870    1792\n",
       "353.173913    1546\n",
       "357.826087     707\n",
       "376.021739      58\n",
       "696.260870      16\n",
       "400.565217       6\n",
       "383.500000       5\n",
       "501.456522       5\n",
       "489.847826       4\n",
       "438.043478       3\n",
       "310.217391       3\n",
       "419.173913       2\n",
       "652.260870       1\n",
       "475.913043       1\n",
       "487.826087       1\n",
       "Name: metric_2, dtype: int64"
      ]
     },
     "execution_count": 35,
     "metadata": {},
     "output_type": "execute_result"
    }
   ],
   "source": [
    "y_train.iloc[:,0].value_counts()"
   ]
  },
  {
   "cell_type": "code",
   "execution_count": 20,
   "metadata": {},
   "outputs": [
    {
     "data": {
      "text/plain": [
       "47712"
      ]
     },
     "execution_count": 20,
     "metadata": {},
     "output_type": "execute_result"
    }
   ],
   "source": [
    "len(y_train)"
   ]
  },
  {
   "cell_type": "code",
   "execution_count": null,
   "metadata": {},
   "outputs": [],
   "source": []
  }
 ],
 "metadata": {
  "kernelspec": {
   "display_name": "Python 3",
   "language": "python",
   "name": "python3"
  },
  "language_info": {
   "codemirror_mode": {
    "name": "ipython",
    "version": 3
   },
   "file_extension": ".py",
   "mimetype": "text/x-python",
   "name": "python",
   "nbconvert_exporter": "python",
   "pygments_lexer": "ipython3",
   "version": "3.6.7"
  }
 },
 "nbformat": 4,
 "nbformat_minor": 2
}
